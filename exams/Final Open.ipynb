{
 "cells": [
  {
   "cell_type": "markdown",
   "id": "559895d2",
   "metadata": {},
   "source": [
    "# Final Exam - Open\n",
    "\n",
    "## FINM 36700 - 2024\n",
    "\n",
    "### UChicago Financial Mathematics\n",
    "\n",
    "* Mark Hendricks\n",
    "* hendricks@uchicago.edu"
   ]
  },
  {
   "cell_type": "markdown",
   "id": "9e0a3816-d8c0-4317-8a45-7047edf45f11",
   "metadata": {},
   "source": [
    "***"
   ]
  },
  {
   "cell_type": "markdown",
   "id": "01cde8d3",
   "metadata": {},
   "source": [
    "# Instructions"
   ]
  },
  {
   "cell_type": "markdown",
   "id": "cc273c1a",
   "metadata": {},
   "source": [
    "## Please note the following:\n",
    "\n",
    "Points\n",
    "* The exam is `85` points.\n",
    "* You have `85` minutes to complete the exam.\n",
    "* For every minute late you submit the exam, you will lose one point.\n",
    "\n",
    "\n",
    "Submission\n",
    "* You will upload your solution to the `Final - Open` assignment on Canvas, where you downloaded this. \n",
    "* Be sure to **submit** on Canvas, not just **save** on Canvas.\n",
    "* Your submission should be readable, (the graders can understand your answers.)\n",
    "* Your submission should **include all code used in your analysis in a file format that the code can be executed.** \n",
    "\n",
    "Rules\n",
    "* The exam is open-material, closed-communication.\n",
    "* You do not need to cite material from the course github repo - you are welcome to use the code posted there without citation.\n",
    "\n",
    "Advice\n",
    "* If you find any question to be unclear, state your interpretation and proceed. We will only answer questions of interpretation if there is a typo, error, etc.\n",
    "* The exam will be graded for partial credit."
   ]
  },
  {
   "cell_type": "markdown",
   "id": "624f27b1",
   "metadata": {},
   "source": [
    "## Data\n",
    "\n",
    "**All data files are found in the class github repo, in the `data` folder.**\n",
    "\n",
    "- For Section 1:\n",
    "    * `data/final_exam_data.xlsx`\n",
    "- for Section 2:\n",
    "    * `data/fx_rf_data.xlsx`"
   ]
  },
  {
   "cell_type": "markdown",
   "id": "ebf6e066",
   "metadata": {},
   "source": [
    "## Scoring\n",
    "\n",
    "| Problem | Points |\n",
    "|---------|--------|\n",
    "| 1       | 40     |\n",
    "| 2       | 45     |"
   ]
  },
  {
   "cell_type": "markdown",
   "id": "7fb2fc26",
   "metadata": {},
   "source": [
    "### Each numbered question is worth 5 points unless otherwise specified."
   ]
  },
  {
   "cell_type": "markdown",
   "id": "632ce7d4",
   "metadata": {},
   "source": [
    "***"
   ]
  },
  {
   "cell_type": "markdown",
   "id": "9a676293-3a91-4162-823e-4afb44c164e2",
   "metadata": {
    "vscode": {
     "languageId": "plaintext"
    }
   },
   "source": [
    "# 1. Cross-Sectional Factor Pricing\n",
    "\n",
    "Use the data found in the file `final_data.xlsx`. The sheet named `Asset Returns` contains daily excess returns data for various assets; the sheet named `Factor Returns` contains daily excess returns data for some unknown factor; and the sheet named `Asset Betas` contains the betas of each asset with respect to the given factor.\n",
    "\n",
    "Consider the data to have an annualization factor of `252` days per year.\n",
    "\n",
    "### 1.\n",
    "(10pts)\n",
    "\n",
    "Using linear regression, estimate the factor risk premium for __each point in time__, using the following model: $\\phantom{Brian Hood}$ \n",
    "\n",
    "$$\n",
    "\\tilde{r}^{(i)}_t = \\beta^{(i)}\\lambda_t + \\epsilon^{(i)}_t\n",
    "$$\n",
    "\n",
    "Using your estimated series $\\lambda_t$, report...\n",
    "\n",
    "* the last 3 values. \n",
    "\n",
    "* the annualized mean.\n",
    "\n",
    "* the annualized vol."
   ]
  },
  {
   "cell_type": "markdown",
   "id": "be8b8543-cf9f-4aa6-b703-7af7a9dc6872",
   "metadata": {
    "vscode": {
     "languageId": "plaintext"
    }
   },
   "source": [
    "### 2.\n",
    "\n",
    "(10pts)\n",
    "\n",
    "Compare $\\lambda_t$ to the realized factor returns, $\\tilde{f}_t$.\n",
    "\n",
    "* Plot the cumulative (excess) returns of $\\lambda_t$ and $\\tilde{f}_t$.\n",
    "* Report the correlation between these two series.\n",
    "* Report the serial correlation of each series.\n",
    "\n",
    "Should we expect the serial correlation of $\\tilde{f}$ to be near zero? What about $\\lambda_t$?"
   ]
  },
  {
   "cell_type": "markdown",
   "id": "dea9adfd-c561-4210-9846-9ae679fdb277",
   "metadata": {
    "vscode": {
     "languageId": "plaintext"
    }
   },
   "source": [
    "### 3.\n",
    "\n",
    "We estimated our factor premium in a regression that excluded an intercept term. Why might we have done this? In what circumstance would we prefer to include an intercept term?"
   ]
  },
  {
   "cell_type": "markdown",
   "id": "8b21d34d-296c-4c05-ae54-6aefb6863531",
   "metadata": {
    "vscode": {
     "languageId": "plaintext"
    }
   },
   "source": [
    "### 4.\n",
    "\n",
    "(10pts)\n",
    "\n",
    "Now, use the actual factor returns, $\\tilde{f}_t$to analyze the fit of this pricing model using a __single__ cross-sectional regression to estimate  $\\phantom{Brian Hood}$\n",
    "\n",
    "$$\n",
    "E[r^{(i)}] = \\eta + \\beta^{(i)} E[\\tilde{f}] + \\epsilon^{(i)}\n",
    "$$\n",
    "\n",
    "How well does this factor work for pricing? Provide supporting evidence for your answer."
   ]
  },
  {
   "cell_type": "markdown",
   "id": "7191a92c-6f82-46a5-b1df-23a2c4ff8b59",
   "metadata": {},
   "source": [
    "### 5.\n",
    "\n",
    "The factor we've used, $\\tilde{f}$ is actually the **equally**-weighted portfolio of equities. Suppose the CAPM holds exactly, with the **value**-weighted market equity portfolio. In that case, what would we expect, theoretically, from the previous section?"
   ]
  },
  {
   "cell_type": "markdown",
   "id": "0a8eda25",
   "metadata": {},
   "source": [
    "***"
   ]
  },
  {
   "cell_type": "markdown",
   "id": "51ff849e",
   "metadata": {
    "vscode": {
     "languageId": "plaintext"
    }
   },
   "source": [
    "# 2. Currency Trades\n",
    "\n",
    "For this question, use the data set from `data/fx_rf_data.xlsx`."
   ]
  },
  {
   "cell_type": "markdown",
   "id": "0c366b80-4382-48eb-b626-7b498675ade9",
   "metadata": {},
   "source": [
    "Calculate the **arithmetic** (not log) excess return to holding each foreign currency.\n",
    "\n",
    "Data Note:\n",
    "* Consider the risk-free rate data as being quoted as an annualized value, where this annualization is a scaling of `252`.\n",
    "\n",
    "Throughout this problem, we only consider returns generated between `Jan 2018` and `Aug 2024`."
   ]
  },
  {
   "cell_type": "markdown",
   "id": "9ae32f03-33ab-4b4d-ba58-9818a5cd6efc",
   "metadata": {},
   "source": [
    "### 1.\n",
    "\n",
    "Report the first and final three values of each of these excess return series."
   ]
  },
  {
   "cell_type": "markdown",
   "id": "e1d841fa-782c-4613-9a87-925233741f5a",
   "metadata": {},
   "source": [
    "### 2.\n",
    "\n",
    "Report the following performance metrics. Annualize the mean and volatility using an assumption of `252` days per year.\n",
    "\n",
    "* mean\n",
    "* volatility\n",
    "* skewness\n",
    "* (excess) kurtosis\n",
    "* max drawdown\n",
    "\n",
    "Also report the correlation matrix."
   ]
  },
  {
   "cell_type": "markdown",
   "id": "b6f08180-6ac3-4d42-bfa0-bb35cc71776e",
   "metadata": {},
   "source": [
    "### 3.\n",
    "\n",
    "As of `Dec 2017`, which of these currency trades has the most **carry**? \n",
    "\n",
    "Does this indicate high or low reeturns, assuming UIP?"
   ]
  },
  {
   "cell_type": "markdown",
   "id": "899a222c-3a39-4fc8-826b-f732ebd0a9d6",
   "metadata": {},
   "source": [
    "### 4."
   ]
  },
  {
   "cell_type": "markdown",
   "id": "5985d281-f88f-487d-9f74-383b524ac00b",
   "metadata": {},
   "source": [
    "Calculate an **average currency factor** which is the equal-weighted average of the currency return series already calculated. Call this factor, $Z$.\n",
    "\n",
    "Estimate the Linear Factor Decomposition of each of the currency trades on this factor, $\\tilde{r}^z_t$. Report,\n",
    "* annualized alphas\n",
    "* betas\n",
    "* r-squared values"
   ]
  },
  {
   "cell_type": "markdown",
   "id": "05d0692c-7325-496f-8008-ae6578402156",
   "metadata": {},
   "source": [
    "### 5."
   ]
  },
  {
   "cell_type": "markdown",
   "id": "d7d716c3-eb48-4c87-8ab6-8e4ea8759a87",
   "metadata": {},
   "source": [
    "Do your estimates seem in line with a factor pricing model for these trades where $\\tilde{r}^z$ is the single factor? \n",
    "\n",
    "Explain your conclusion. Don't worry about small sample sizes."
   ]
  },
  {
   "cell_type": "markdown",
   "id": "46c22dfe-d203-49b1-9776-eafc764d064d",
   "metadata": {},
   "source": [
    "### 6. \n",
    "\n",
    "From the performance metrics of these currency trades, \n",
    "* Do you expect diversification is particularly useful or not? Be specific.\n",
    "* Do you expect mean-variance optimization will do relatively well out of sample? Be specific."
   ]
  },
  {
   "cell_type": "markdown",
   "id": "c2137495-5add-4af7-b992-7377c6b7103b",
   "metadata": {},
   "source": [
    "### 7.\n",
    "\n",
    "Calculate the tangency weights for a portfolio of these currency trades. \n",
    "\n",
    "Report the performance metrics of `2.2` for this tangency portfolio."
   ]
  },
  {
   "cell_type": "markdown",
   "id": "293e65e5-2b25-4f83-9575-79e3f1b808c6",
   "metadata": {},
   "source": [
    "### 8.\n",
    "\n",
    "Suppose you are a USD-based investor, but you want to short `1 JPY`, and use it to go long the equivalent amount of USD.\n",
    "\n",
    "Calculate the excess return to this short-yen (SY) trade, denoted $\\tilde{r}_{t+1}^{SY}$.\n",
    "\n",
    "We're still examining `January 2018` through `August 2024`.\n",
    "\n",
    "Report the first and last three values of the timeseries of excess returns."
   ]
  },
  {
   "cell_type": "markdown",
   "id": "60cb4edc-bbe0-4a81-b87f-61dfa53f2f20",
   "metadata": {},
   "source": [
    "### 9.\n",
    "\n",
    "Report the performance statistics requested in `2.2` for this short-yen trade. \n",
    "\n",
    "Also, what date is the min and max return for this trade?"
   ]
  },
  {
   "cell_type": "markdown",
   "id": "d6cf51ec",
   "metadata": {
    "vscode": {
     "languageId": "plaintext"
    }
   },
   "source": [
    "***"
   ]
  }
 ],
 "metadata": {
  "hide_input": false,
  "kernelspec": {
   "display_name": "Python 3 (ipykernel)",
   "language": "python",
   "name": "python3"
  },
  "language_info": {
   "codemirror_mode": {
    "name": "ipython",
    "version": 3
   },
   "file_extension": ".py",
   "mimetype": "text/x-python",
   "name": "python",
   "nbconvert_exporter": "python",
   "pygments_lexer": "ipython3",
   "version": "3.9.6"
  }
 },
 "nbformat": 4,
 "nbformat_minor": 5
}
