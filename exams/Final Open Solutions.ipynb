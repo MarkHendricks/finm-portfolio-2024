{
 "cells": [
  {
   "cell_type": "markdown",
   "id": "559895d2",
   "metadata": {},
   "source": [
    "# Final Exam - Open (Solutions)\n",
    "\n",
    "## FINM 36700 - 2024\n",
    "\n",
    "### UChicago Financial Mathematics\n",
    "\n",
    "* Mark Hendricks\n",
    "* hendricks@uchicago.edu"
   ]
  },
  {
   "cell_type": "markdown",
   "id": "9e0a3816-d8c0-4317-8a45-7047edf45f11",
   "metadata": {},
   "source": [
    "***"
   ]
  },
  {
   "cell_type": "markdown",
   "id": "01cde8d3",
   "metadata": {},
   "source": [
    "# Instructions"
   ]
  },
  {
   "cell_type": "markdown",
   "id": "cc273c1a",
   "metadata": {},
   "source": [
    "## Please note the following:\n",
    "\n",
    "Points\n",
    "* The exam is `85` points.\n",
    "* You have `85` minutes to complete the exam.\n",
    "* For every minute late you submit the exam, you will lose one point.\n",
    "\n",
    "\n",
    "Submission\n",
    "* You will upload your solution to the `Final - Open` assignment on Canvas, where you downloaded this. \n",
    "* Be sure to **submit** on Canvas, not just **save** on Canvas.\n",
    "* Your submission should be readable, (the graders can understand your answers.)\n",
    "* Your submission should **include all code used in your analysis in a file format that the code can be executed.** \n",
    "\n",
    "Rules\n",
    "* The exam is open-material, closed-communication.\n",
    "* You do not need to cite material from the course github repo - you are welcome to use the code posted there without citation.\n",
    "\n",
    "Advice\n",
    "* If you find any question to be unclear, state your interpretation and proceed. We will only answer questions of interpretation if there is a typo, error, etc.\n",
    "* The exam will be graded for partial credit."
   ]
  },
  {
   "cell_type": "markdown",
   "id": "624f27b1",
   "metadata": {},
   "source": [
    "## Data\n",
    "\n",
    "**All data files are found in the class github repo, in the `data` folder.**\n",
    "\n",
    "- For Section 1:\n",
    "    * `data/final_exam_data.xlsx`\n",
    "- for Section 2:\n",
    "    * `data/fx_rf_data.xlsx`"
   ]
  },
  {
   "cell_type": "markdown",
   "id": "ebf6e066",
   "metadata": {},
   "source": [
    "## Scoring\n",
    "\n",
    "| Problem | Points |\n",
    "|---------|--------|\n",
    "| 1       | 40     |\n",
    "| 2       | 45     |"
   ]
  },
  {
   "cell_type": "markdown",
   "id": "7fb2fc26",
   "metadata": {},
   "source": [
    "### Each numbered question is worth 5 points unless otherwise specified."
   ]
  },
  {
   "cell_type": "markdown",
   "id": "632ce7d4",
   "metadata": {},
   "source": [
    "***"
   ]
  },
  {
   "cell_type": "code",
   "execution_count": 43,
   "id": "6c63164d",
   "metadata": {},
   "outputs": [],
   "source": [
    "import pandas as pd\n",
    "import numpy as np\n",
    "import matplotlib.pyplot as plt\n",
    "import statsmodels.api as sm\n",
    "import os\n",
    "import sys\n",
    "\n",
    "import warnings\n",
    "warnings.filterwarnings(\"ignore\")"
   ]
  },
  {
   "cell_type": "code",
   "execution_count": 44,
   "id": "b94258dd",
   "metadata": {},
   "outputs": [],
   "source": [
    "# Section 1\n",
    "asset_rets = pd.read_excel('../data/final_exam_data.xlsx', sheet_name='Asset Returns', index_col=0)\n",
    "fac_rets = pd.read_excel('../data/final_exam_data.xlsx', sheet_name='Factor Returns', index_col=0)['factor']\n",
    "asset_betas = pd.read_excel('../data/final_exam_data.xlsx', sheet_name='Asset Betas', index_col=0)['betas']\n",
    "\n",
    "# Section 2\n",
    "fx_rates = pd.read_excel('../data/fx_rf_data.xlsx', sheet_name='exchange rates', index_col=0)\n",
    "rf_rates = pd.read_excel('../data/fx_rf_data.xlsx', sheet_name='risk-free rates', index_col=0) / 252\n",
    "\n",
    "# Create function to retrieve common statistics\n",
    "def stats_mean_vol_sharpe(data,portfolio = None,portfolio_name = 'Portfolio',annualize = 12):\n",
    "    \n",
    "    if portfolio is None:\n",
    "        returns = data\n",
    "    else:\n",
    "        returns = data @ portfolio\n",
    "    \n",
    "    output = returns.agg(['mean','std'])\n",
    "    output.loc['sharpe'] = output.loc['mean'] / output.loc['std']\n",
    "    \n",
    "    output.loc['mean'] *= annualize\n",
    "    output.loc['std'] *= np.sqrt(annualize)\n",
    "    output.loc['sharpe'] *= np.sqrt(annualize)\n",
    "    \n",
    "    if portfolio is None:\n",
    "        pass\n",
    "    else:\n",
    "        output.columns = [portfolio_name]\n",
    "    \n",
    "    return output\n",
    "\n",
    "# Create function to retrieve tail risk statistics\n",
    "# Note this uses a simple historic definition of VaR and CVaR\n",
    "def stats_tail_risk(data, portfolio = None, portfolio_name = 'Portfolio', VaR = 0.05):\n",
    "    \n",
    "    if portfolio is None:\n",
    "        returns = data\n",
    "    else:\n",
    "        returns = data @ portfolio\n",
    "    \n",
    "    output = returns.agg(['skew',\n",
    "                          'kurt'])\n",
    "    output.loc['VaR'] = returns.quantile(q = 0.05)\n",
    "    output.loc['CVaR'] = returns[returns <= output.loc['VaR']].mean()\n",
    "    output = pd.concat([output, max_drawdown(returns,portfolio,portfolio_name)])\n",
    "    ### ^^^ THIS STEP ONLY NECESSARY IF LOOKING FOR MAX DRAWDOWN AS WELL\n",
    "    if portfolio is None:\n",
    "        pass\n",
    "    else:\n",
    "        output.columns = portfolio_name\n",
    "    \n",
    "    return output\n",
    "\n",
    "\n",
    "# Create function to calculate max drawdown and associated dates\n",
    "def max_drawdown(data, portfolio = None, portfolio_name = 'Portfolio'):\n",
    "    \n",
    "    if portfolio is None:\n",
    "        returns = data\n",
    "        output = pd.DataFrame(columns=returns.columns)\n",
    "    else:\n",
    "        returns = data @ portfolio\n",
    "        output = pd.DataFrame(columns=[portfolio_name])\n",
    "    \n",
    "    cumulative = (returns + 1).cumprod()\n",
    "    maximum = cumulative.expanding().max()\n",
    "    drawdown = cumulative / maximum - 1\n",
    "    \n",
    "    for col in output.columns:\n",
    "        \n",
    "        output.loc['MDD',col] = drawdown[col].min()\n",
    "        \n",
    "    return output"
   ]
  },
  {
   "cell_type": "markdown",
   "id": "9a676293-3a91-4162-823e-4afb44c164e2",
   "metadata": {
    "vscode": {
     "languageId": "plaintext"
    }
   },
   "source": [
    "# 1. Cross-Sectional Factor Pricing\n",
    "\n",
    "Use the data found in the file `final_data.xlsx`. The sheet named `Asset Returns` contains daily excess returns data for various assets; the sheet named `Factor Returns` contains daily excess returns data for some unknown factor; and the sheet named `Asset Betas` contains the betas of each asset with respect to the given factor.\n",
    "\n",
    "Consider the data to have an annualization factor of `252` days per year.\n",
    "\n",
    "### 1.\n",
    "(10pts)\n",
    "\n",
    "Using linear regression, estimate the factor risk premium for __each point in time__, using the following model: $\\phantom{Brian Hood}$ \n",
    "\n",
    "$$\n",
    "\\tilde{r}^{(i)}_t = \\beta^{(i)}\\lambda_t + \\epsilon^{(i)}_t\n",
    "$$\n",
    "\n",
    "Using your estimated series $\\lambda_t$, report...\n",
    "\n",
    "* the last 3 values. \n",
    "\n",
    "* the annualized mean.\n",
    "\n",
    "* the annualized vol."
   ]
  },
  {
   "cell_type": "markdown",
   "id": "185a9168",
   "metadata": {},
   "source": [
    "<span style=\"color:blue\">__Solution:__</span>"
   ]
  },
  {
   "cell_type": "code",
   "execution_count": 45,
   "id": "29e287e6",
   "metadata": {},
   "outputs": [],
   "source": [
    "dates = asset_rets.index\n",
    "\n",
    "fitted_premia = []\n",
    "\n",
    "for t in dates:\n",
    "    \n",
    "    ols_fit_premium_t = sm.OLS(asset_rets.loc[t], asset_betas).fit().params['betas']\n",
    "    fitted_premia.append(ols_fit_premium_t)\n",
    "    \n",
    "fitted_premia = pd.Series(index=dates, data=fitted_premia)"
   ]
  },
  {
   "cell_type": "markdown",
   "id": "3bd67988",
   "metadata": {},
   "source": [
    "<span style=\"color:blue\">Last 3 values:</span>"
   ]
  },
  {
   "cell_type": "code",
   "execution_count": 46,
   "id": "f0f8d6bf",
   "metadata": {},
   "outputs": [
    {
     "data": {
      "text/plain": [
       "Date\n",
       "2024-11-06   0.0230\n",
       "2024-11-07   0.0011\n",
       "2024-11-08   0.0018\n",
       "dtype: float64"
      ]
     },
     "execution_count": 46,
     "metadata": {},
     "output_type": "execute_result"
    }
   ],
   "source": [
    "fitted_premia.tail(3)"
   ]
  },
  {
   "cell_type": "markdown",
   "id": "0a8a8a0f",
   "metadata": {},
   "source": [
    "<span style=\"color:blue\">Annualized mean:</span>"
   ]
  },
  {
   "cell_type": "code",
   "execution_count": 47,
   "id": "bd929362",
   "metadata": {},
   "outputs": [
    {
     "data": {
      "text/plain": [
       "np.float64(0.1754874142533425)"
      ]
     },
     "execution_count": 47,
     "metadata": {},
     "output_type": "execute_result"
    }
   ],
   "source": [
    "fitted_premia.mean() * 252"
   ]
  },
  {
   "cell_type": "markdown",
   "id": "1743a09a",
   "metadata": {},
   "source": [
    "<span style=\"color:blue\">Annualized vol:</span>"
   ]
  },
  {
   "cell_type": "code",
   "execution_count": 48,
   "id": "d1cd8210",
   "metadata": {},
   "outputs": [
    {
     "data": {
      "text/plain": [
       "np.float64(0.11688953313031768)"
      ]
     },
     "execution_count": 48,
     "metadata": {},
     "output_type": "execute_result"
    }
   ],
   "source": [
    "fitted_premia.std() * np.sqrt(252)"
   ]
  },
  {
   "cell_type": "markdown",
   "id": "be8b8543-cf9f-4aa6-b703-7af7a9dc6872",
   "metadata": {
    "vscode": {
     "languageId": "plaintext"
    }
   },
   "source": [
    "### 2.\n",
    "\n",
    "(10pts)\n",
    "\n",
    "Compare $\\lambda_t$ to the realized factor returns, $\\tilde{f}_t$.\n",
    "\n",
    "* Plot the cumulative (excess) returns of $\\lambda_t$ and $\\tilde{f}_t$.\n",
    "* Report the correlation between these two series.\n",
    "* Report the serial correlation of each series.\n",
    "\n",
    "Should we expect the serial correlation of $\\tilde{f}$ to be near zero? What about $\\lambda_t$?"
   ]
  },
  {
   "cell_type": "markdown",
   "id": "72138b81",
   "metadata": {},
   "source": [
    "<span style=\"color:blue\">__Solution:__</span>"
   ]
  },
  {
   "cell_type": "code",
   "execution_count": 49,
   "id": "4df35397",
   "metadata": {},
   "outputs": [],
   "source": [
    "fac_premia = pd.concat([fac_rets, fitted_premia], axis=1, keys=['Actual', 'Fitted'])"
   ]
  },
  {
   "cell_type": "markdown",
   "id": "5ce1aafe",
   "metadata": {},
   "source": [
    "<span style=\"color:blue\">Plot cumulative (excess) returns:</span>"
   ]
  },
  {
   "cell_type": "code",
   "execution_count": 50,
   "id": "9b80cdee",
   "metadata": {
    "scrolled": false
   },
   "outputs": [
    {
     "data": {
      "image/png": "[encoded data removed]",
      "text/plain": [
       "<Figure size 1500x700 with 1 Axes>"
      ]
     },
     "metadata": {},
     "output_type": "display_data"
    }
   ],
   "source": [
    "(1 + fac_premia).cumprod().plot(figsize=(15, 7), title='Fitted and Actual (Realized) Factor Premium'); plt.show()"
   ]
  },
  {
   "cell_type": "markdown",
   "id": "d8a43e04",
   "metadata": {},
   "source": [
    "<span style=\"color:blue\">Report correlation:</span>"
   ]
  },
  {
   "cell_type": "code",
   "execution_count": 51,
   "id": "e9230993",
   "metadata": {},
   "outputs": [
    {
     "data": {
      "text/html": [
       "<div>\n",
       "<style scoped>\n",
       "    .dataframe tbody tr th:only-of-type {\n",
       "        vertical-align: middle;\n",
       "    }\n",
       "\n",
       "    .dataframe tbody tr th {\n",
       "        vertical-align: top;\n",
       "    }\n",
       "\n",
       "    .dataframe thead th {\n",
       "        text-align: right;\n",
       "    }\n",
       "</style>\n",
       "<table border=\"1\" class=\"dataframe\">\n",
       "  <thead>\n",
       "    <tr style=\"text-align: right;\">\n",
       "      <th></th>\n",
       "      <th>Actual</th>\n",
       "      <th>Fitted</th>\n",
       "    </tr>\n",
       "  </thead>\n",
       "  <tbody>\n",
       "    <tr>\n",
       "      <th>Actual</th>\n",
       "      <td>1.0000</td>\n",
       "      <td>0.9851</td>\n",
       "    </tr>\n",
       "    <tr>\n",
       "      <th>Fitted</th>\n",
       "      <td>0.9851</td>\n",
       "      <td>1.0000</td>\n",
       "    </tr>\n",
       "  </tbody>\n",
       "</table>\n",
       "</div>"
      ],
      "text/plain": [
       "        Actual  Fitted\n",
       "Actual  1.0000  0.9851\n",
       "Fitted  0.9851  1.0000"
      ]
     },
     "execution_count": 51,
     "metadata": {},
     "output_type": "execute_result"
    }
   ],
   "source": [
    "fac_premia.corr()"
   ]
  },
  {
   "cell_type": "markdown",
   "id": "70f221a4",
   "metadata": {},
   "source": [
    "<span style=\"color:blue\">Report serial correlation:</span>"
   ]
  },
  {
   "cell_type": "code",
   "execution_count": 52,
   "id": "8e026de3",
   "metadata": {
    "scrolled": true
   },
   "outputs": [
    {
     "data": {
      "text/plain": [
       "Actual   0.0184\n",
       "Fitted   0.0016\n",
       "dtype: float64"
      ]
     },
     "execution_count": 52,
     "metadata": {},
     "output_type": "execute_result"
    }
   ],
   "source": [
    "fac_premia.corrwith(fac_premia.shift())"
   ]
  },
  {
   "cell_type": "markdown",
   "id": "b6e5843e",
   "metadata": {},
   "source": [
    "<span style=\"color:blue\">Should we expect the serial correlation of $\\tilde{f}$ to be near zero? What about $\\lambda_t$?</span>\n",
    "\n",
    "The serial correlation of $\\tilde{f}$ is likely to be near zero which is a common characteristic among tradable risky assets. The standard belief is that there are few fundamental reasons for properly priced assets to have serial correlation, and in a frictionless market serial correlation might present an attractive opportunity.\n",
    "\n",
    "This is not always the case, as market frictions and investor risk preferences can lead to small serial correlation. It is important to note that a strategy meant to \"exploit\" autocorrelation still has risk.\n",
    "\n",
    "$\\lambda_t$ is slightly different in that it is our estimate of the *risk premium* to the factor. Note that this is not the same as the realized return of the factor. This may have more autocorrelation due to the nature of how risk premia evolve over time along with persistent shifts in economic variables, investor risk preferences, etc."
   ]
  },
  {
   "cell_type": "markdown",
   "id": "dea9adfd-c561-4210-9846-9ae679fdb277",
   "metadata": {
    "vscode": {
     "languageId": "plaintext"
    }
   },
   "source": [
    "### 3.\n",
    "\n",
    "We estimated our factor premium in a regression that excluded an intercept term. Why might we have done this? In what circumstance would we prefer to include an intercept term?"
   ]
  },
  {
   "cell_type": "markdown",
   "id": "0a38c1f0",
   "metadata": {},
   "source": [
    "<span style=\"color:blue\">__Solution:__</span>\n",
    "\n",
    "There are multiple reasons behind whether or not we should include an intercept, some of which are more general and some of which are more directly applicable to this problem.\n",
    "\n",
    "__When to exclude intercept:__\n",
    "- We believe that our factor model holds true, then from a theoretical standpoint we believe $\\alpha_t=0$ and thus we should not fit this parameter in our regression.\n",
    "- From a statistical perspective, we trust our estimate of the mean return of the assets.\n",
    "- We care about measuring the *level* of asset returns with respect to the risk-premium, not the deviations from their means.\n",
    "\n",
    "__When to include an intercept:__\n",
    "- We would like to assess whether our factor model holds true.\n",
    "- We may not trust our estimate of the mean return of the assets.\n",
    "- We care about measuring the deviations from their means.\n",
    "\n",
    "__Note:__ Take a look at the plot below, with includes the cumulative returns of the fitted premia when done so with and without an intercept. When using an intercept, we clearly fail to replicate the level of returns found present in the actual (realized) returns."
   ]
  },
  {
   "cell_type": "code",
   "execution_count": 53,
   "id": "3feb7737",
   "metadata": {},
   "outputs": [],
   "source": [
    "fitted_premia_intercept = []\n",
    "\n",
    "for t in dates:\n",
    "    \n",
    "    ols_fit_premium_t_intercept = sm.OLS(asset_rets.loc[t], sm.add_constant(asset_betas)).fit().params['betas']\n",
    "    fitted_premia_intercept.append(ols_fit_premium_t_intercept)\n",
    "    \n",
    "fitted_premia_intercept = pd.Series(index=dates, data=fitted_premia_intercept)"
   ]
  },
  {
   "cell_type": "code",
   "execution_count": 54,
   "id": "029e6c81",
   "metadata": {},
   "outputs": [
    {
     "data": {
      "image/png": "[encoded data removed]",
      "text/plain": [
       "<Figure size 1500x700 with 1 Axes>"
      ]
     },
     "metadata": {},
     "output_type": "display_data"
    }
   ],
   "source": [
    "_ = pd.concat([fac_rets, fitted_premia, fitted_premia_intercept], axis=1,\n",
    "              keys=['Actual', 'Fitted (No intercept)', 'Fitted (With intercept)'])\n",
    "(1 + _).cumprod().plot(figsize=(15, 7), title='Fitted and Actual (Realized) Factor Premium'); plt.show()"
   ]
  },
  {
   "cell_type": "markdown",
   "id": "8b21d34d-296c-4c05-ae54-6aefb6863531",
   "metadata": {
    "vscode": {
     "languageId": "plaintext"
    }
   },
   "source": [
    "### 4.\n",
    "\n",
    "(10pts)\n",
    "\n",
    "Now, use the actual factor returns, $\\tilde{f}_t$to analyze the fit of this pricing model using a __single__ cross-sectional regression to estimate  $\\phantom{Brian Hood}$\n",
    "\n",
    "$$\n",
    "E[r^{(i)}] = \\eta + \\beta^{(i)} E[\\tilde{f}] + \\epsilon^{(i)}\n",
    "$$\n",
    "\n",
    "How well does this factor work for pricing? Provide supporting evidence for your answer."
   ]
  },
  {
   "cell_type": "markdown",
   "id": "2fe75e66",
   "metadata": {},
   "source": [
    "<span style=\"color:blue\">__Solution:__</span>"
   ]
  },
  {
   "cell_type": "code",
   "execution_count": 55,
   "id": "1ccf3206",
   "metadata": {},
   "outputs": [
    {
     "data": {
      "text/html": [
       "<table class=\"simpletable\">\n",
       "<caption>OLS Regression Results</caption>\n",
       "<tr>\n",
       "  <th>Dep. Variable:</th>            <td>y</td>        <th>  R-squared:         </th> <td>   0.000</td>\n",
       "</tr>\n",
       "<tr>\n",
       "  <th>Model:</th>                   <td>OLS</td>       <th>  Adj. R-squared:    </th> <td>  -0.002</td>\n",
       "</tr>\n",
       "<tr>\n",
       "  <th>Method:</th>             <td>Least Squares</td>  <th>  F-statistic:       </th> <td>  0.1534</td>\n",
       "</tr>\n",
       "<tr>\n",
       "  <th>Date:</th>             <td>Thu, 19 Dec 2024</td> <th>  Prob (F-statistic):</th>  <td> 0.695</td> \n",
       "</tr>\n",
       "<tr>\n",
       "  <th>Time:</th>                 <td>02:31:53</td>     <th>  Log-Likelihood:    </th> <td>  2657.1</td>\n",
       "</tr>\n",
       "<tr>\n",
       "  <th>No. Observations:</th>      <td>   498</td>      <th>  AIC:               </th> <td>  -5310.</td>\n",
       "</tr>\n",
       "<tr>\n",
       "  <th>Df Residuals:</th>          <td>   496</td>      <th>  BIC:               </th> <td>  -5302.</td>\n",
       "</tr>\n",
       "<tr>\n",
       "  <th>Df Model:</th>              <td>     1</td>      <th>                     </th>     <td> </td>   \n",
       "</tr>\n",
       "<tr>\n",
       "  <th>Covariance Type:</th>      <td>nonrobust</td>    <th>                     </th>     <td> </td>   \n",
       "</tr>\n",
       "</table>\n",
       "<table class=\"simpletable\">\n",
       "<tr>\n",
       "    <td></td>       <th>coef</th>     <th>std err</th>      <th>t</th>      <th>P>|t|</th>  <th>[0.025</th>    <th>0.975]</th>  \n",
       "</tr>\n",
       "<tr>\n",
       "  <th>const</th> <td>    0.0008</td> <td>    0.000</td> <td>    6.409</td> <td> 0.000</td> <td>    0.001</td> <td>    0.001</td>\n",
       "</tr>\n",
       "<tr>\n",
       "  <th>betas</th> <td> 4.399e-05</td> <td>    0.000</td> <td>    0.392</td> <td> 0.695</td> <td>   -0.000</td> <td>    0.000</td>\n",
       "</tr>\n",
       "</table>\n",
       "<table class=\"simpletable\">\n",
       "<tr>\n",
       "  <th>Omnibus:</th>       <td>44.670</td> <th>  Durbin-Watson:     </th> <td>   1.943</td>\n",
       "</tr>\n",
       "<tr>\n",
       "  <th>Prob(Omnibus):</th> <td> 0.000</td> <th>  Jarque-Bera (JB):  </th> <td> 215.181</td>\n",
       "</tr>\n",
       "<tr>\n",
       "  <th>Skew:</th>          <td>-0.147</td> <th>  Prob(JB):          </th> <td>1.88e-47</td>\n",
       "</tr>\n",
       "<tr>\n",
       "  <th>Kurtosis:</th>      <td> 6.207</td> <th>  Cond. No.          </th> <td>    4.54</td>\n",
       "</tr>\n",
       "</table><br/><br/>Notes:<br/>[1] Standard Errors assume that the covariance matrix of the errors is correctly specified."
      ],
      "text/latex": [
       "\\begin{center}\n",
       "\\begin{tabular}{lclc}\n",
       "\\toprule\n",
       "\\textbf{Dep. Variable:}    &        y         & \\textbf{  R-squared:         } &     0.000   \\\\\n",
       "\\textbf{Model:}            &       OLS        & \\textbf{  Adj. R-squared:    } &    -0.002   \\\\\n",
       "\\textbf{Method:}           &  Least Squares   & \\textbf{  F-statistic:       } &    0.1534   \\\\\n",
       "\\textbf{Date:}             & Thu, 19 Dec 2024 & \\textbf{  Prob (F-statistic):} &    0.695    \\\\\n",
       "\\textbf{Time:}             &     02:31:53     & \\textbf{  Log-Likelihood:    } &    2657.1   \\\\\n",
       "\\textbf{No. Observations:} &         498      & \\textbf{  AIC:               } &    -5310.   \\\\\n",
       "\\textbf{Df Residuals:}     &         496      & \\textbf{  BIC:               } &    -5302.   \\\\\n",
       "\\textbf{Df Model:}         &           1      & \\textbf{                     } &             \\\\\n",
       "\\textbf{Covariance Type:}  &    nonrobust     & \\textbf{                     } &             \\\\\n",
       "\\bottomrule\n",
       "\\end{tabular}\n",
       "\\begin{tabular}{lcccccc}\n",
       "               & \\textbf{coef} & \\textbf{std err} & \\textbf{t} & \\textbf{P$> |$t$|$} & \\textbf{[0.025} & \\textbf{0.975]}  \\\\\n",
       "\\midrule\n",
       "\\textbf{const} &       0.0008  &        0.000     &     6.409  &         0.000        &        0.001    &        0.001     \\\\\n",
       "\\textbf{betas} &    4.399e-05  &        0.000     &     0.392  &         0.695        &       -0.000    &        0.000     \\\\\n",
       "\\bottomrule\n",
       "\\end{tabular}\n",
       "\\begin{tabular}{lclc}\n",
       "\\textbf{Omnibus:}       & 44.670 & \\textbf{  Durbin-Watson:     } &    1.943  \\\\\n",
       "\\textbf{Prob(Omnibus):} &  0.000 & \\textbf{  Jarque-Bera (JB):  } &  215.181  \\\\\n",
       "\\textbf{Skew:}          & -0.147 & \\textbf{  Prob(JB):          } & 1.88e-47  \\\\\n",
       "\\textbf{Kurtosis:}      &  6.207 & \\textbf{  Cond. No.          } &     4.54  \\\\\n",
       "\\bottomrule\n",
       "\\end{tabular}\n",
       "%\\caption{OLS Regression Results}\n",
       "\\end{center}\n",
       "\n",
       "Notes: \\newline\n",
       " [1] Standard Errors assume that the covariance matrix of the errors is correctly specified."
      ],
      "text/plain": [
       "<class 'statsmodels.iolib.summary.Summary'>\n",
       "\"\"\"\n",
       "                            OLS Regression Results                            \n",
       "==============================================================================\n",
       "Dep. Variable:                      y   R-squared:                       0.000\n",
       "Model:                            OLS   Adj. R-squared:                 -0.002\n",
       "Method:                 Least Squares   F-statistic:                    0.1534\n",
       "Date:                Thu, 19 Dec 2024   Prob (F-statistic):              0.695\n",
       "Time:                        02:31:53   Log-Likelihood:                 2657.1\n",
       "No. Observations:                 498   AIC:                            -5310.\n",
       "Df Residuals:                     496   BIC:                            -5302.\n",
       "Df Model:                           1                                         \n",
       "Covariance Type:            nonrobust                                         \n",
       "==============================================================================\n",
       "                 coef    std err          t      P>|t|      [0.025      0.975]\n",
       "------------------------------------------------------------------------------\n",
       "const          0.0008      0.000      6.409      0.000       0.001       0.001\n",
       "betas       4.399e-05      0.000      0.392      0.695      -0.000       0.000\n",
       "==============================================================================\n",
       "Omnibus:                       44.670   Durbin-Watson:                   1.943\n",
       "Prob(Omnibus):                  0.000   Jarque-Bera (JB):              215.181\n",
       "Skew:                          -0.147   Prob(JB):                     1.88e-47\n",
       "Kurtosis:                       6.207   Cond. No.                         4.54\n",
       "==============================================================================\n",
       "\n",
       "Notes:\n",
       "[1] Standard Errors assume that the covariance matrix of the errors is correctly specified.\n",
       "\"\"\""
      ]
     },
     "execution_count": 55,
     "metadata": {},
     "output_type": "execute_result"
    }
   ],
   "source": [
    "y = asset_rets.mean()\n",
    "x = asset_betas\n",
    "\n",
    "model_cs_means = sm.OLS(y, sm.add_constant(x)).fit()\n",
    "\n",
    "model_cs_means.summary()"
   ]
  },
  {
   "cell_type": "code",
   "execution_count": 56,
   "id": "05527954",
   "metadata": {},
   "outputs": [
    {
     "data": {
      "text/plain": [
       "np.float64(0.00030916453633456076)"
      ]
     },
     "execution_count": 56,
     "metadata": {},
     "output_type": "execute_result"
    }
   ],
   "source": [
    "model_cs_means.rsquared"
   ]
  },
  {
   "cell_type": "code",
   "execution_count": 57,
   "id": "48bca7f2",
   "metadata": {},
   "outputs": [
    {
     "data": {
      "text/plain": [
       "np.float64(0.0007940771564678901)"
      ]
     },
     "execution_count": 57,
     "metadata": {},
     "output_type": "execute_result"
    }
   ],
   "source": [
    "model_cs_means.params['const']"
   ]
  },
  {
   "cell_type": "code",
   "execution_count": 58,
   "id": "65bfb959",
   "metadata": {},
   "outputs": [
    {
     "data": {
      "text/plain": [
       "np.float64(0.2001074434299083)"
      ]
     },
     "execution_count": 58,
     "metadata": {},
     "output_type": "execute_result"
    }
   ],
   "source": [
    "model_cs_means.params['const'] * 252"
   ]
  },
  {
   "cell_type": "markdown",
   "id": "527f5034",
   "metadata": {},
   "source": [
    "<span style=\"color:blue\">How well does this factor work for pricing?</span>\n",
    "\n",
    "Pointing to the low $R^2$ and the large (annualized) intercept term of nearly 20%, we can conclude this factor works poorly in this pricing model. However, given our small sample size that likely only spans a single regime (2024 bull market), it is possible that we find better results with other data."
   ]
  },
  {
   "cell_type": "markdown",
   "id": "7191a92c-6f82-46a5-b1df-23a2c4ff8b59",
   "metadata": {},
   "source": [
    "### 5.\n",
    "\n",
    "The factor we've used, $\\tilde{f}$ is actually the **equally**-weighted portfolio of equities. Suppose the CAPM holds exactly, with the **value**-weighted market equity portfolio. In that case, what would we expect, theoretically, from the previous section?"
   ]
  },
  {
   "cell_type": "markdown",
   "id": "96231c0d",
   "metadata": {},
   "source": [
    "<span style=\"color:blue\">__Solution:__</span>\n",
    "\n",
    "Because our the equally weighted portfolio is similar (correlated) to the market portfolio, we would find that the equally weighted portfolio would indeed have some pricing power (statistically significant premium and large $R^2$). We would not, however, have the perfect fit that the market portfolio would have. Instead, we would find our $R^2$ to be high but less than one, and our intercept to be non-zero."
   ]
  },
  {
   "cell_type": "markdown",
   "id": "0a8eda25",
   "metadata": {},
   "source": [
    "***"
   ]
  },
  {
   "cell_type": "markdown",
   "id": "51ff849e",
   "metadata": {
    "vscode": {
     "languageId": "plaintext"
    }
   },
   "source": [
    "# 2. Currency Trades\n",
    "\n",
    "For this question, use the data set from `data/fx_rf_data.xlsx`."
   ]
  },
  {
   "cell_type": "markdown",
   "id": "0c366b80-4382-48eb-b626-7b498675ade9",
   "metadata": {},
   "source": [
    "Calculate the **arithmetic** (not log) excess return to holding each foreign currency.\n",
    "\n",
    "Data Note:\n",
    "* Consider the risk-free rate data as being quoted as an annualized value, where this annualization is a scaling of `252`.\n",
    "\n",
    "Throughout this problem, we only consider returns generated between `Jan 2018` and `Aug 2024`."
   ]
  },
  {
   "cell_type": "code",
   "execution_count": 59,
   "id": "d07fea88",
   "metadata": {},
   "outputs": [
    {
     "data": {
      "image/png": "[encoded data removed]",
      "text/plain": [
       "<Figure size 700x500 with 1 Axes>"
      ]
     },
     "metadata": {},
     "output_type": "display_data"
    }
   ],
   "source": [
    "import pandas as pd\n",
    "import numpy as np\n",
    "import matplotlib.pyplot as plt\n",
    "import statsmodels.api as sm\n",
    "import os\n",
    "import sys\n",
    "sys.path.append(os.path.abspath('..'))\n",
    "\n",
    "import cmds.portfolio_management_helper as pmh\n",
    "\n",
    "ANNUALIZATION_FACTOR = 252\n",
    "\n",
    "fx_rates = pmh.read_excel_default('../data/fx_rf_data.xlsx', sheet_name='exchange rates')\n",
    "rf_rates = pmh.read_excel_default('../data/fx_rf_data.xlsx', sheet_name='risk-free rates')\n",
    "\n",
    "rf_rates = rf_rates / ANNUALIZATION_FACTOR\n",
    "\n",
    "fx_rates_filtered = fx_rates.loc[\"2018-01-01\":\"2024-08-31\"]\n",
    "rf_rates_filtered = rf_rates.loc[\"2018-01-01\":\"2024-08-31\"]\n",
    "fx_excess_returns = (\n",
    "    (fx_rates_filtered / fx_rates_filtered.shift() * (1 + rf_rates_filtered.drop('USD', axis=1)))\n",
    "    .apply(lambda x: x / (1 + rf_rates_filtered['USD']))\n",
    "    - 1\n",
    ")\n",
    "\n",
    "# The following provides very similar results (it allows for a simplificatin of the formula)\n",
    "fx_excess_returns_alternative = (\n",
    "    (fx_rates_filtered / fx_rates_filtered.shift() - 1)\n",
    "    + ((rf_rates_filtered.drop('USD', axis=1).apply(lambda x: x - rf_rates_filtered['USD'])))\n",
    ")\n",
    "\n",
    "pmh.calc_cummulative_returns(fx_excess_returns)"
   ]
  },
  {
   "cell_type": "markdown",
   "id": "9ae32f03-33ab-4b4d-ba58-9818a5cd6efc",
   "metadata": {},
   "source": [
    "### 1.\n",
    "\n",
    "Report the first and final three values of each of these excess return series."
   ]
  },
  {
   "cell_type": "markdown",
   "id": "cdb23deb",
   "metadata": {},
   "source": [
    "<span style=\"color:blue\">__Solution:__</span>"
   ]
  },
  {
   "cell_type": "code",
   "execution_count": 60,
   "id": "a2b5fcd2",
   "metadata": {},
   "outputs": [],
   "source": [
    "fx_tot_rets = fx_rates / fx_rates.shift() * (1 + rf_rates.drop('USD', axis=1)) - 1\n",
    "fx_retsx = fx_tot_rets.subtract(rf_rates['USD'], axis=0)"
   ]
  },
  {
   "cell_type": "markdown",
   "id": "fdf582f1",
   "metadata": {},
   "source": [
    "<span style=\"color:blue\">First three:</span>"
   ]
  },
  {
   "cell_type": "code",
   "execution_count": 61,
   "id": "122d56ca",
   "metadata": {},
   "outputs": [
    {
     "data": {
      "text/html": [
       "<div>\n",
       "<style scoped>\n",
       "    .dataframe tbody tr th:only-of-type {\n",
       "        vertical-align: middle;\n",
       "    }\n",
       "\n",
       "    .dataframe tbody tr th {\n",
       "        vertical-align: top;\n",
       "    }\n",
       "\n",
       "    .dataframe thead th {\n",
       "        text-align: right;\n",
       "    }\n",
       "</style>\n",
       "<table border=\"1\" class=\"dataframe\">\n",
       "  <thead>\n",
       "    <tr style=\"text-align: right;\">\n",
       "      <th></th>\n",
       "      <th>JPY</th>\n",
       "      <th>EUR</th>\n",
       "      <th>GBP</th>\n",
       "      <th>MXN</th>\n",
       "      <th>CHF</th>\n",
       "    </tr>\n",
       "    <tr>\n",
       "      <th>date</th>\n",
       "      <th></th>\n",
       "      <th></th>\n",
       "      <th></th>\n",
       "      <th></th>\n",
       "      <th></th>\n",
       "    </tr>\n",
       "  </thead>\n",
       "  <tbody>\n",
       "    <tr>\n",
       "      <th>2008-01-01</th>\n",
       "      <td>NaN</td>\n",
       "      <td>NaN</td>\n",
       "      <td>NaN</td>\n",
       "      <td>NaN</td>\n",
       "      <td>NaN</td>\n",
       "    </tr>\n",
       "    <tr>\n",
       "      <th>2008-01-02</th>\n",
       "      <td>0.0179</td>\n",
       "      <td>0.0084</td>\n",
       "      <td>-0.0028</td>\n",
       "      <td>-0.0022</td>\n",
       "      <td>0.0123</td>\n",
       "    </tr>\n",
       "    <tr>\n",
       "      <th>2008-01-03</th>\n",
       "      <td>0.0030</td>\n",
       "      <td>0.0024</td>\n",
       "      <td>-0.0049</td>\n",
       "      <td>0.0029</td>\n",
       "      <td>0.0076</td>\n",
       "    </tr>\n",
       "  </tbody>\n",
       "</table>\n",
       "</div>"
      ],
      "text/plain": [
       "              JPY    EUR     GBP     MXN    CHF\n",
       "date                                           \n",
       "2008-01-01    NaN    NaN     NaN     NaN    NaN\n",
       "2008-01-02 0.0179 0.0084 -0.0028 -0.0022 0.0123\n",
       "2008-01-03 0.0030 0.0024 -0.0049  0.0029 0.0076"
      ]
     },
     "execution_count": 61,
     "metadata": {},
     "output_type": "execute_result"
    }
   ],
   "source": [
    "fx_retsx.head(3)"
   ]
  },
  {
   "cell_type": "markdown",
   "id": "4e51db98",
   "metadata": {},
   "source": [
    "<span style=\"color:blue\">Last three:</span>"
   ]
  },
  {
   "cell_type": "code",
   "execution_count": 62,
   "id": "ed84a9fd",
   "metadata": {},
   "outputs": [
    {
     "data": {
      "text/html": [
       "<div>\n",
       "<style scoped>\n",
       "    .dataframe tbody tr th:only-of-type {\n",
       "        vertical-align: middle;\n",
       "    }\n",
       "\n",
       "    .dataframe tbody tr th {\n",
       "        vertical-align: top;\n",
       "    }\n",
       "\n",
       "    .dataframe thead th {\n",
       "        text-align: right;\n",
       "    }\n",
       "</style>\n",
       "<table border=\"1\" class=\"dataframe\">\n",
       "  <thead>\n",
       "    <tr style=\"text-align: right;\">\n",
       "      <th></th>\n",
       "      <th>JPY</th>\n",
       "      <th>EUR</th>\n",
       "      <th>GBP</th>\n",
       "      <th>MXN</th>\n",
       "      <th>CHF</th>\n",
       "    </tr>\n",
       "    <tr>\n",
       "      <th>date</th>\n",
       "      <th></th>\n",
       "      <th></th>\n",
       "      <th></th>\n",
       "      <th></th>\n",
       "      <th></th>\n",
       "    </tr>\n",
       "  </thead>\n",
       "  <tbody>\n",
       "    <tr>\n",
       "      <th>2024-10-29</th>\n",
       "      <td>-0.0006</td>\n",
       "      <td>0.0006</td>\n",
       "      <td>0.0033</td>\n",
       "      <td>-0.0008</td>\n",
       "      <td>-0.0023</td>\n",
       "    </tr>\n",
       "    <tr>\n",
       "      <th>2024-10-30</th>\n",
       "      <td>-0.0006</td>\n",
       "      <td>0.0034</td>\n",
       "      <td>-0.0041</td>\n",
       "      <td>-0.0042</td>\n",
       "      <td>0.0005</td>\n",
       "    </tr>\n",
       "    <tr>\n",
       "      <th>2024-10-31</th>\n",
       "      <td>0.0090</td>\n",
       "      <td>0.0025</td>\n",
       "      <td>-0.0049</td>\n",
       "      <td>0.0061</td>\n",
       "      <td>0.0029</td>\n",
       "    </tr>\n",
       "  </tbody>\n",
       "</table>\n",
       "</div>"
      ],
      "text/plain": [
       "               JPY    EUR     GBP     MXN     CHF\n",
       "date                                             \n",
       "2024-10-29 -0.0006 0.0006  0.0033 -0.0008 -0.0023\n",
       "2024-10-30 -0.0006 0.0034 -0.0041 -0.0042  0.0005\n",
       "2024-10-31  0.0090 0.0025 -0.0049  0.0061  0.0029"
      ]
     },
     "execution_count": 62,
     "metadata": {},
     "output_type": "execute_result"
    }
   ],
   "source": [
    "fx_retsx.tail(3)"
   ]
  },
  {
   "cell_type": "markdown",
   "id": "3f63a99d",
   "metadata": {},
   "source": [
    "<span style=\"color:blue\">If only looking at 2018-2024:</span>"
   ]
  },
  {
   "cell_type": "code",
   "execution_count": 63,
   "id": "0ddf7425",
   "metadata": {},
   "outputs": [
    {
     "data": {
      "text/html": [
       "<div>\n",
       "<style scoped>\n",
       "    .dataframe tbody tr th:only-of-type {\n",
       "        vertical-align: middle;\n",
       "    }\n",
       "\n",
       "    .dataframe tbody tr th {\n",
       "        vertical-align: top;\n",
       "    }\n",
       "\n",
       "    .dataframe thead th {\n",
       "        text-align: right;\n",
       "    }\n",
       "</style>\n",
       "<table border=\"1\" class=\"dataframe\">\n",
       "  <thead>\n",
       "    <tr style=\"text-align: right;\">\n",
       "      <th></th>\n",
       "      <th>JPY</th>\n",
       "      <th>EUR</th>\n",
       "      <th>GBP</th>\n",
       "      <th>MXN</th>\n",
       "      <th>CHF</th>\n",
       "    </tr>\n",
       "    <tr>\n",
       "      <th>date</th>\n",
       "      <th></th>\n",
       "      <th></th>\n",
       "      <th></th>\n",
       "      <th></th>\n",
       "      <th></th>\n",
       "    </tr>\n",
       "  </thead>\n",
       "  <tbody>\n",
       "    <tr>\n",
       "      <th>2018-01-01</th>\n",
       "      <td>0.0002</td>\n",
       "      <td>0.0005</td>\n",
       "      <td>-0.0008</td>\n",
       "      <td>0.0010</td>\n",
       "      <td>-0.0005</td>\n",
       "    </tr>\n",
       "    <tr>\n",
       "      <th>2018-01-02</th>\n",
       "      <td>0.0033</td>\n",
       "      <td>0.0038</td>\n",
       "      <td>0.0064</td>\n",
       "      <td>0.0061</td>\n",
       "      <td>0.0032</td>\n",
       "    </tr>\n",
       "    <tr>\n",
       "      <th>2018-01-03</th>\n",
       "      <td>-0.0021</td>\n",
       "      <td>-0.0037</td>\n",
       "      <td>-0.0055</td>\n",
       "      <td>0.0098</td>\n",
       "      <td>-0.0054</td>\n",
       "    </tr>\n",
       "  </tbody>\n",
       "</table>\n",
       "</div>"
      ],
      "text/plain": [
       "               JPY     EUR     GBP    MXN     CHF\n",
       "date                                             \n",
       "2018-01-01  0.0002  0.0005 -0.0008 0.0010 -0.0005\n",
       "2018-01-02  0.0033  0.0038  0.0064 0.0061  0.0032\n",
       "2018-01-03 -0.0021 -0.0037 -0.0055 0.0098 -0.0054"
      ]
     },
     "execution_count": 63,
     "metadata": {},
     "output_type": "execute_result"
    }
   ],
   "source": [
    "fx_retsx.loc['2018-01':'2024-08'].head(3)"
   ]
  },
  {
   "cell_type": "code",
   "execution_count": 64,
   "id": "00dd3f08",
   "metadata": {},
   "outputs": [
    {
     "data": {
      "text/html": [
       "<div>\n",
       "<style scoped>\n",
       "    .dataframe tbody tr th:only-of-type {\n",
       "        vertical-align: middle;\n",
       "    }\n",
       "\n",
       "    .dataframe tbody tr th {\n",
       "        vertical-align: top;\n",
       "    }\n",
       "\n",
       "    .dataframe thead th {\n",
       "        text-align: right;\n",
       "    }\n",
       "</style>\n",
       "<table border=\"1\" class=\"dataframe\">\n",
       "  <thead>\n",
       "    <tr style=\"text-align: right;\">\n",
       "      <th></th>\n",
       "      <th>JPY</th>\n",
       "      <th>EUR</th>\n",
       "      <th>GBP</th>\n",
       "      <th>MXN</th>\n",
       "      <th>CHF</th>\n",
       "    </tr>\n",
       "    <tr>\n",
       "      <th>date</th>\n",
       "      <th></th>\n",
       "      <th></th>\n",
       "      <th></th>\n",
       "      <th></th>\n",
       "      <th></th>\n",
       "    </tr>\n",
       "  </thead>\n",
       "  <tbody>\n",
       "    <tr>\n",
       "      <th>2024-08-28</th>\n",
       "      <td>-0.0045</td>\n",
       "      <td>-0.0058</td>\n",
       "      <td>-0.0053</td>\n",
       "      <td>0.0061</td>\n",
       "      <td>-0.0008</td>\n",
       "    </tr>\n",
       "    <tr>\n",
       "      <th>2024-08-29</th>\n",
       "      <td>-0.0030</td>\n",
       "      <td>-0.0039</td>\n",
       "      <td>-0.0018</td>\n",
       "      <td>-0.0102</td>\n",
       "      <td>-0.0062</td>\n",
       "    </tr>\n",
       "    <tr>\n",
       "      <th>2024-08-30</th>\n",
       "      <td>-0.0083</td>\n",
       "      <td>-0.0027</td>\n",
       "      <td>-0.0031</td>\n",
       "      <td>0.0064</td>\n",
       "      <td>-0.0028</td>\n",
       "    </tr>\n",
       "  </tbody>\n",
       "</table>\n",
       "</div>"
      ],
      "text/plain": [
       "               JPY     EUR     GBP     MXN     CHF\n",
       "date                                              \n",
       "2024-08-28 -0.0045 -0.0058 -0.0053  0.0061 -0.0008\n",
       "2024-08-29 -0.0030 -0.0039 -0.0018 -0.0102 -0.0062\n",
       "2024-08-30 -0.0083 -0.0027 -0.0031  0.0064 -0.0028"
      ]
     },
     "execution_count": 64,
     "metadata": {},
     "output_type": "execute_result"
    }
   ],
   "source": [
    "fx_retsx.loc['2018-01':'2024-08'].tail(3)"
   ]
  },
  {
   "cell_type": "markdown",
   "id": "f6cff3cb",
   "metadata": {},
   "source": [
    "<span style=\"color:blue\">This is also acceptable (same values, but shifted):</span>"
   ]
  },
  {
   "cell_type": "code",
   "execution_count": 65,
   "id": "6c86cf85",
   "metadata": {},
   "outputs": [
    {
     "data": {
      "text/html": [
       "<div>\n",
       "<style scoped>\n",
       "    .dataframe tbody tr th:only-of-type {\n",
       "        vertical-align: middle;\n",
       "    }\n",
       "\n",
       "    .dataframe tbody tr th {\n",
       "        vertical-align: top;\n",
       "    }\n",
       "\n",
       "    .dataframe thead th {\n",
       "        text-align: right;\n",
       "    }\n",
       "</style>\n",
       "<table border=\"1\" class=\"dataframe\">\n",
       "  <thead>\n",
       "    <tr style=\"text-align: right;\">\n",
       "      <th></th>\n",
       "      <th>JPY</th>\n",
       "      <th>EUR</th>\n",
       "      <th>GBP</th>\n",
       "      <th>MXN</th>\n",
       "      <th>CHF</th>\n",
       "    </tr>\n",
       "    <tr>\n",
       "      <th>date</th>\n",
       "      <th></th>\n",
       "      <th></th>\n",
       "      <th></th>\n",
       "      <th></th>\n",
       "      <th></th>\n",
       "    </tr>\n",
       "  </thead>\n",
       "  <tbody>\n",
       "    <tr>\n",
       "      <th>2008-01-01</th>\n",
       "      <td>0.0179</td>\n",
       "      <td>0.0084</td>\n",
       "      <td>-0.0028</td>\n",
       "      <td>-0.0022</td>\n",
       "      <td>0.0123</td>\n",
       "    </tr>\n",
       "    <tr>\n",
       "      <th>2008-01-02</th>\n",
       "      <td>0.0030</td>\n",
       "      <td>0.0024</td>\n",
       "      <td>-0.0049</td>\n",
       "      <td>0.0029</td>\n",
       "      <td>0.0076</td>\n",
       "    </tr>\n",
       "    <tr>\n",
       "      <th>2008-01-03</th>\n",
       "      <td>0.0065</td>\n",
       "      <td>-0.0005</td>\n",
       "      <td>0.0016</td>\n",
       "      <td>-0.0035</td>\n",
       "      <td>0.0021</td>\n",
       "    </tr>\n",
       "    <tr>\n",
       "      <th>2008-01-04</th>\n",
       "      <td>-0.0056</td>\n",
       "      <td>-0.0032</td>\n",
       "      <td>-0.0018</td>\n",
       "      <td>0.0025</td>\n",
       "      <td>-0.0073</td>\n",
       "    </tr>\n",
       "    <tr>\n",
       "      <th>2008-01-07</th>\n",
       "      <td>0.0025</td>\n",
       "      <td>0.0007</td>\n",
       "      <td>0.0015</td>\n",
       "      <td>-0.0026</td>\n",
       "      <td>0.0035</td>\n",
       "    </tr>\n",
       "    <tr>\n",
       "      <th>...</th>\n",
       "      <td>...</td>\n",
       "      <td>...</td>\n",
       "      <td>...</td>\n",
       "      <td>...</td>\n",
       "      <td>...</td>\n",
       "    </tr>\n",
       "    <tr>\n",
       "      <th>2024-10-25</th>\n",
       "      <td>-0.0064</td>\n",
       "      <td>0.0014</td>\n",
       "      <td>0.0008</td>\n",
       "      <td>-0.0026</td>\n",
       "      <td>0.0015</td>\n",
       "    </tr>\n",
       "    <tr>\n",
       "      <th>2024-10-28</th>\n",
       "      <td>-0.0006</td>\n",
       "      <td>0.0006</td>\n",
       "      <td>0.0033</td>\n",
       "      <td>-0.0008</td>\n",
       "      <td>-0.0023</td>\n",
       "    </tr>\n",
       "    <tr>\n",
       "      <th>2024-10-29</th>\n",
       "      <td>-0.0006</td>\n",
       "      <td>0.0034</td>\n",
       "      <td>-0.0041</td>\n",
       "      <td>-0.0042</td>\n",
       "      <td>0.0005</td>\n",
       "    </tr>\n",
       "    <tr>\n",
       "      <th>2024-10-30</th>\n",
       "      <td>0.0090</td>\n",
       "      <td>0.0025</td>\n",
       "      <td>-0.0049</td>\n",
       "      <td>0.0061</td>\n",
       "      <td>0.0029</td>\n",
       "    </tr>\n",
       "    <tr>\n",
       "      <th>2024-10-31</th>\n",
       "      <td>NaN</td>\n",
       "      <td>NaN</td>\n",
       "      <td>NaN</td>\n",
       "      <td>NaN</td>\n",
       "      <td>NaN</td>\n",
       "    </tr>\n",
       "  </tbody>\n",
       "</table>\n",
       "<p>4393 rows × 5 columns</p>\n",
       "</div>"
      ],
      "text/plain": [
       "               JPY     EUR     GBP     MXN     CHF\n",
       "date                                              \n",
       "2008-01-01  0.0179  0.0084 -0.0028 -0.0022  0.0123\n",
       "2008-01-02  0.0030  0.0024 -0.0049  0.0029  0.0076\n",
       "2008-01-03  0.0065 -0.0005  0.0016 -0.0035  0.0021\n",
       "2008-01-04 -0.0056 -0.0032 -0.0018  0.0025 -0.0073\n",
       "2008-01-07  0.0025  0.0007  0.0015 -0.0026  0.0035\n",
       "...            ...     ...     ...     ...     ...\n",
       "2024-10-25 -0.0064  0.0014  0.0008 -0.0026  0.0015\n",
       "2024-10-28 -0.0006  0.0006  0.0033 -0.0008 -0.0023\n",
       "2024-10-29 -0.0006  0.0034 -0.0041 -0.0042  0.0005\n",
       "2024-10-30  0.0090  0.0025 -0.0049  0.0061  0.0029\n",
       "2024-10-31     NaN     NaN     NaN     NaN     NaN\n",
       "\n",
       "[4393 rows x 5 columns]"
      ]
     },
     "execution_count": 65,
     "metadata": {},
     "output_type": "execute_result"
    }
   ],
   "source": [
    "# Acceptable\n",
    "_ = fx_rates.shift(-1) / fx_rates * (1 + rf_rates.drop('USD', axis=1)) - 1\n",
    "_.subtract(rf_rates['USD'], axis=0)"
   ]
  },
  {
   "cell_type": "markdown",
   "id": "e1d841fa-782c-4613-9a87-925233741f5a",
   "metadata": {},
   "source": [
    "### 2.\n",
    "\n",
    "Report the following performance metrics. Annualize the mean and volatility using an assumption of `252` days per year.\n",
    "\n",
    "* mean\n",
    "* volatility\n",
    "* skewness\n",
    "* (excess) kurtosis\n",
    "* max drawdown\n",
    "\n",
    "Also report the correlation matrix."
   ]
  },
  {
   "cell_type": "code",
   "execution_count": 66,
   "id": "47fe6425",
   "metadata": {},
   "outputs": [
    {
     "data": {
      "text/html": [
       "<div>\n",
       "<style scoped>\n",
       "    .dataframe tbody tr th:only-of-type {\n",
       "        vertical-align: middle;\n",
       "    }\n",
       "\n",
       "    .dataframe tbody tr th {\n",
       "        vertical-align: top;\n",
       "    }\n",
       "\n",
       "    .dataframe thead th {\n",
       "        text-align: right;\n",
       "    }\n",
       "</style>\n",
       "<table border=\"1\" class=\"dataframe\">\n",
       "  <thead>\n",
       "    <tr style=\"text-align: right;\">\n",
       "      <th></th>\n",
       "      <th>Annualized Mean</th>\n",
       "      <th>Annualized Vol</th>\n",
       "      <th>Annualized Sharpe</th>\n",
       "      <th>Excess Kurtosis</th>\n",
       "      <th>Max Drawdown</th>\n",
       "    </tr>\n",
       "  </thead>\n",
       "  <tbody>\n",
       "    <tr>\n",
       "      <th>JPY</th>\n",
       "      <td>-0.0568</td>\n",
       "      <td>0.0847</td>\n",
       "      <td>-0.6705</td>\n",
       "      <td>6.5262</td>\n",
       "      <td>-0.4398</td>\n",
       "    </tr>\n",
       "    <tr>\n",
       "      <th>EUR</th>\n",
       "      <td>-0.0261</td>\n",
       "      <td>0.0706</td>\n",
       "      <td>-0.3691</td>\n",
       "      <td>1.4853</td>\n",
       "      <td>-0.2895</td>\n",
       "    </tr>\n",
       "    <tr>\n",
       "      <th>GBP</th>\n",
       "      <td>-0.0057</td>\n",
       "      <td>0.0891</td>\n",
       "      <td>-0.0639</td>\n",
       "      <td>3.8644</td>\n",
       "      <td>-0.2755</td>\n",
       "    </tr>\n",
       "    <tr>\n",
       "      <th>MXN</th>\n",
       "      <td>0.0629</td>\n",
       "      <td>0.1251</td>\n",
       "      <td>0.5025</td>\n",
       "      <td>2.9871</td>\n",
       "      <td>-0.2645</td>\n",
       "    </tr>\n",
       "    <tr>\n",
       "      <th>CHF</th>\n",
       "      <td>-0.0015</td>\n",
       "      <td>0.0716</td>\n",
       "      <td>-0.0204</td>\n",
       "      <td>2.3595</td>\n",
       "      <td>-0.1685</td>\n",
       "    </tr>\n",
       "  </tbody>\n",
       "</table>\n",
       "</div>"
      ],
      "text/plain": [
       "     Annualized Mean  Annualized Vol  Annualized Sharpe  Excess Kurtosis  \\\n",
       "JPY          -0.0568          0.0847            -0.6705           6.5262   \n",
       "EUR          -0.0261          0.0706            -0.3691           1.4853   \n",
       "GBP          -0.0057          0.0891            -0.0639           3.8644   \n",
       "MXN           0.0629          0.1251             0.5025           2.9871   \n",
       "CHF          -0.0015          0.0716            -0.0204           2.3595   \n",
       "\n",
       "     Max Drawdown  \n",
       "JPY       -0.4398  \n",
       "EUR       -0.2895  \n",
       "GBP       -0.2755  \n",
       "MXN       -0.2645  \n",
       "CHF       -0.1685  "
      ]
     },
     "execution_count": 66,
     "metadata": {},
     "output_type": "execute_result"
    }
   ],
   "source": [
    "pmh.calc_summary_statistics(\n",
    "    fx_excess_returns,\n",
    "    annual_factor=ANNUALIZATION_FACTOR,\n",
    "    provided_excess_returns=True,\n",
    "    keep_columns=['Annualized Mean', 'Annualized Vol', 'Annualized Sharpe', 'Kurtosis', 'Drawdown']\n",
    ")"
   ]
  },
  {
   "cell_type": "code",
   "execution_count": 67,
   "id": "ce48d6ef",
   "metadata": {
    "scrolled": false
   },
   "outputs": [
    {
     "data": {
      "text/html": [
       "<div>\n",
       "<style scoped>\n",
       "    .dataframe tbody tr th:only-of-type {\n",
       "        vertical-align: middle;\n",
       "    }\n",
       "\n",
       "    .dataframe tbody tr th {\n",
       "        vertical-align: top;\n",
       "    }\n",
       "\n",
       "    .dataframe thead th {\n",
       "        text-align: right;\n",
       "    }\n",
       "</style>\n",
       "<table border=\"1\" class=\"dataframe\">\n",
       "  <thead>\n",
       "    <tr style=\"text-align: right;\">\n",
       "      <th></th>\n",
       "      <th>JPY</th>\n",
       "      <th>EUR</th>\n",
       "      <th>GBP</th>\n",
       "      <th>MXN</th>\n",
       "      <th>CHF</th>\n",
       "    </tr>\n",
       "  </thead>\n",
       "  <tbody>\n",
       "    <tr>\n",
       "      <th>JPY</th>\n",
       "      <td>1.0000</td>\n",
       "      <td>0.4393</td>\n",
       "      <td>0.3719</td>\n",
       "      <td>0.0768</td>\n",
       "      <td>0.5511</td>\n",
       "    </tr>\n",
       "    <tr>\n",
       "      <th>EUR</th>\n",
       "      <td>0.4393</td>\n",
       "      <td>1.0000</td>\n",
       "      <td>0.6892</td>\n",
       "      <td>0.3332</td>\n",
       "      <td>0.7520</td>\n",
       "    </tr>\n",
       "    <tr>\n",
       "      <th>GBP</th>\n",
       "      <td>0.3719</td>\n",
       "      <td>0.6892</td>\n",
       "      <td>1.0000</td>\n",
       "      <td>0.3600</td>\n",
       "      <td>0.5524</td>\n",
       "    </tr>\n",
       "    <tr>\n",
       "      <th>MXN</th>\n",
       "      <td>0.0768</td>\n",
       "      <td>0.3332</td>\n",
       "      <td>0.3600</td>\n",
       "      <td>1.0000</td>\n",
       "      <td>0.1921</td>\n",
       "    </tr>\n",
       "    <tr>\n",
       "      <th>CHF</th>\n",
       "      <td>0.5511</td>\n",
       "      <td>0.7520</td>\n",
       "      <td>0.5524</td>\n",
       "      <td>0.1921</td>\n",
       "      <td>1.0000</td>\n",
       "    </tr>\n",
       "  </tbody>\n",
       "</table>\n",
       "</div>"
      ],
      "text/plain": [
       "       JPY    EUR    GBP    MXN    CHF\n",
       "JPY 1.0000 0.4393 0.3719 0.0768 0.5511\n",
       "EUR 0.4393 1.0000 0.6892 0.3332 0.7520\n",
       "GBP 0.3719 0.6892 1.0000 0.3600 0.5524\n",
       "MXN 0.0768 0.3332 0.3600 1.0000 0.1921\n",
       "CHF 0.5511 0.7520 0.5524 0.1921 1.0000"
      ]
     },
     "execution_count": 67,
     "metadata": {},
     "output_type": "execute_result"
    }
   ],
   "source": [
    "pmh.calc_correlations(fx_excess_returns, print_highest_lowest=False, return_heatmap=False)"
   ]
  },
  {
   "cell_type": "code",
   "execution_count": 68,
   "id": "07e8560a",
   "metadata": {},
   "outputs": [
    {
     "data": {
      "text/html": [
       "<div>\n",
       "<style scoped>\n",
       "    .dataframe tbody tr th:only-of-type {\n",
       "        vertical-align: middle;\n",
       "    }\n",
       "\n",
       "    .dataframe tbody tr th {\n",
       "        vertical-align: top;\n",
       "    }\n",
       "\n",
       "    .dataframe thead th {\n",
       "        text-align: right;\n",
       "    }\n",
       "</style>\n",
       "<table border=\"1\" class=\"dataframe\">\n",
       "  <thead>\n",
       "    <tr style=\"text-align: right;\">\n",
       "      <th></th>\n",
       "      <th>JPY</th>\n",
       "      <th>EUR</th>\n",
       "      <th>GBP</th>\n",
       "      <th>MXN</th>\n",
       "      <th>CHF</th>\n",
       "    </tr>\n",
       "  </thead>\n",
       "  <tbody>\n",
       "    <tr>\n",
       "      <th>JPY</th>\n",
       "      <td>1.0000</td>\n",
       "      <td>0.2744</td>\n",
       "      <td>0.1504</td>\n",
       "      <td>-0.0831</td>\n",
       "      <td>0.3818</td>\n",
       "    </tr>\n",
       "    <tr>\n",
       "      <th>EUR</th>\n",
       "      <td>0.2744</td>\n",
       "      <td>1.0000</td>\n",
       "      <td>0.6129</td>\n",
       "      <td>0.3521</td>\n",
       "      <td>0.6355</td>\n",
       "    </tr>\n",
       "    <tr>\n",
       "      <th>GBP</th>\n",
       "      <td>0.1504</td>\n",
       "      <td>0.6129</td>\n",
       "      <td>1.0000</td>\n",
       "      <td>0.3675</td>\n",
       "      <td>0.3962</td>\n",
       "    </tr>\n",
       "    <tr>\n",
       "      <th>MXN</th>\n",
       "      <td>-0.0831</td>\n",
       "      <td>0.3521</td>\n",
       "      <td>0.3675</td>\n",
       "      <td>1.0000</td>\n",
       "      <td>0.1483</td>\n",
       "    </tr>\n",
       "    <tr>\n",
       "      <th>CHF</th>\n",
       "      <td>0.3818</td>\n",
       "      <td>0.6355</td>\n",
       "      <td>0.3962</td>\n",
       "      <td>0.1483</td>\n",
       "      <td>1.0000</td>\n",
       "    </tr>\n",
       "  </tbody>\n",
       "</table>\n",
       "</div>"
      ],
      "text/plain": [
       "        JPY    EUR    GBP     MXN    CHF\n",
       "JPY  1.0000 0.2744 0.1504 -0.0831 0.3818\n",
       "EUR  0.2744 1.0000 0.6129  0.3521 0.6355\n",
       "GBP  0.1504 0.6129 1.0000  0.3675 0.3962\n",
       "MXN -0.0831 0.3521 0.3675  1.0000 0.1483\n",
       "CHF  0.3818 0.6355 0.3962  0.1483 1.0000"
      ]
     },
     "execution_count": 68,
     "metadata": {},
     "output_type": "execute_result"
    }
   ],
   "source": [
    "fx_retsx.corr()"
   ]
  },
  {
   "cell_type": "markdown",
   "id": "1338b703",
   "metadata": {},
   "source": [
    "<span style=\"color:blue\">If only looking at 2018-2024:</span>"
   ]
  },
  {
   "cell_type": "markdown",
   "id": "b6f08180-6ac3-4d42-bfa0-bb35cc71776e",
   "metadata": {},
   "source": [
    "### 3.\n",
    "\n",
    "As of `Dec 2017`, which of these currency trades has the most **carry**? \n",
    "\n",
    "Does this indicate high or low returns, assuming UIP?"
   ]
  },
  {
   "cell_type": "markdown",
   "id": "6d7dbc76",
   "metadata": {},
   "source": [
    "<span style=\"color:blue\">\n",
    "\n",
    "In this context, carry refers to the risk-free rate of the foreign currency in excess of the risk-free rate of the funding currency (USD). Whether we look at just the last date of `Dec 2017` or some combination of dates, we find that `MXN` has the highest carry.\n",
    "\n",
    "Assuming UIP, this does not indicate high nor low returns, as UIP asserts that any gains (or losses) stemming from  foreign risk-free rates will be offset by depreciation (or appreciation) in the foreign currency. In other words, UIP says that we can expect zero excess returns from holding the foreign currency (the carry strategy).\n",
    "\n",
    "</span>"
   ]
  },
  {
   "cell_type": "code",
   "execution_count": 69,
   "id": "ab447784",
   "metadata": {},
   "outputs": [
    {
     "data": {
      "text/plain": [
       "USD    0.0000\n",
       "JPY   -0.0148\n",
       "EUR   -0.0184\n",
       "GBP   -0.0074\n",
       "MXN    0.0583\n",
       "CHF   -0.0226\n",
       "Name: 2017-12-29 00:00:00, dtype: float64"
      ]
     },
     "execution_count": 69,
     "metadata": {},
     "output_type": "execute_result"
    }
   ],
   "source": [
    "rf_rates.subtract(rf_rates['USD'], axis=0).loc['2017-12-29'] * ANNUALIZATION_FACTOR"
   ]
  },
  {
   "cell_type": "code",
   "execution_count": 70,
   "id": "77ae10d3",
   "metadata": {},
   "outputs": [
    {
     "data": {
      "text/plain": [
       "USD    0.0000\n",
       "JPY   -0.0137\n",
       "EUR   -0.0176\n",
       "GBP   -0.0082\n",
       "MXN    0.0581\n",
       "CHF   -0.0218\n",
       "dtype: float64"
      ]
     },
     "execution_count": 70,
     "metadata": {},
     "output_type": "execute_result"
    }
   ],
   "source": [
    "rf_rates.subtract(rf_rates['USD'], axis=0).loc['2017-12'].mean() * ANNUALIZATION_FACTOR"
   ]
  },
  {
   "cell_type": "markdown",
   "id": "899a222c-3a39-4fc8-826b-f732ebd0a9d6",
   "metadata": {},
   "source": [
    "### 4."
   ]
  },
  {
   "cell_type": "markdown",
   "id": "5985d281-f88f-487d-9f74-383b524ac00b",
   "metadata": {},
   "source": [
    "Calculate an **average currency factor** which is the equal-weighted average of the currency return series already calculated. Call this factor, $Z$.\n",
    "\n",
    "Estimate the Linear Factor Decomposition of each of the currency trades on this factor, $\\tilde{r}^z_t$. Report,\n",
    "* annualized alphas\n",
    "* betas\n",
    "* r-squared values"
   ]
  },
  {
   "cell_type": "code",
   "execution_count": 71,
   "id": "5d57cb4e",
   "metadata": {},
   "outputs": [
    {
     "data": {
      "image/png": "[encoded data removed]",
      "text/plain": [
       "<Figure size 700x500 with 1 Axes>"
      ]
     },
     "metadata": {},
     "output_type": "display_data"
    }
   ],
   "source": [
    "z_factor = pmh.create_portfolio(\n",
    "    fx_excess_returns, \n",
    "    weights=[1 / len(fx_excess_returns.columns) for _ in fx_excess_returns.columns],\n",
    "    port_name='Z Factor'\n",
    ")\n",
    "pmh.calc_cummulative_returns(z_factor)"
   ]
  },
  {
   "cell_type": "code",
   "execution_count": 72,
   "id": "73fea35c",
   "metadata": {},
   "outputs": [
    {
     "data": {
      "text/html": [
       "<div>\n",
       "<style scoped>\n",
       "    .dataframe tbody tr th:only-of-type {\n",
       "        vertical-align: middle;\n",
       "    }\n",
       "\n",
       "    .dataframe tbody tr th {\n",
       "        vertical-align: top;\n",
       "    }\n",
       "\n",
       "    .dataframe thead th {\n",
       "        text-align: right;\n",
       "    }\n",
       "</style>\n",
       "<table border=\"1\" class=\"dataframe\">\n",
       "  <thead>\n",
       "    <tr style=\"text-align: right;\">\n",
       "      <th></th>\n",
       "      <th>Annualized Alpha</th>\n",
       "      <th>Z Factor Beta</th>\n",
       "      <th>R-Squared</th>\n",
       "    </tr>\n",
       "  </thead>\n",
       "  <tbody>\n",
       "    <tr>\n",
       "      <th>JPY</th>\n",
       "      <td>-0.0522</td>\n",
       "      <td>0.8324</td>\n",
       "      <td>0.3884</td>\n",
       "    </tr>\n",
       "    <tr>\n",
       "      <th>EUR</th>\n",
       "      <td>-0.0207</td>\n",
       "      <td>0.9273</td>\n",
       "      <td>0.6951</td>\n",
       "    </tr>\n",
       "    <tr>\n",
       "      <th>GBP</th>\n",
       "      <td>0.0006</td>\n",
       "      <td>1.1227</td>\n",
       "      <td>0.6392</td>\n",
       "    </tr>\n",
       "    <tr>\n",
       "      <th>MXN</th>\n",
       "      <td>0.0684</td>\n",
       "      <td>1.2498</td>\n",
       "      <td>0.4014</td>\n",
       "    </tr>\n",
       "    <tr>\n",
       "      <th>CHF</th>\n",
       "      <td>0.0039</td>\n",
       "      <td>0.8677</td>\n",
       "      <td>0.5931</td>\n",
       "    </tr>\n",
       "  </tbody>\n",
       "</table>\n",
       "</div>"
      ],
      "text/plain": [
       "     Annualized Alpha  Z Factor Beta  R-Squared\n",
       "JPY           -0.0522         0.8324     0.3884\n",
       "EUR           -0.0207         0.9273     0.6951\n",
       "GBP            0.0006         1.1227     0.6392\n",
       "MXN            0.0684         1.2498     0.4014\n",
       "CHF            0.0039         0.8677     0.5931"
      ]
     },
     "execution_count": 72,
     "metadata": {},
     "output_type": "execute_result"
    }
   ],
   "source": [
    "(\n",
    "    pmh.calc_iterative_regression(\n",
    "        fx_excess_returns, z_factor,\n",
    "        annual_factor=ANNUALIZATION_FACTOR,\n",
    "        warnings=False,\n",
    "        keep_columns=['Annualized Alpha', 'Beta', 'R-Squared']\n",
    "    )\n",
    "    .loc[:, ['Annualized Alpha', 'Z Factor Beta', 'R-Squared']]\n",
    ")"
   ]
  },
  {
   "cell_type": "markdown",
   "id": "05d0692c-7325-496f-8008-ae6578402156",
   "metadata": {},
   "source": [
    "### 5."
   ]
  },
  {
   "cell_type": "markdown",
   "id": "d7d716c3-eb48-4c87-8ab6-8e4ea8759a87",
   "metadata": {},
   "source": [
    "Do your estimates seem in line with a factor pricing model for these trades where $\\tilde{r}^z$ is the single factor? \n",
    "\n",
    "Explain your conclusion. Don't worry about small sample sizes.\n",
    "\n",
    "<span style=\"color:blue\">\n",
    "\n",
    "No, it does not line with a factor pricing model. When using the time-series test of the factor model (which employs the same tool as a LFD), the most important statistics is to have non-significant (or ideally equal to zero) $\\alpha$ in the regressions.\n",
    "\n",
    "JPY, EUR and MXN have considerably high $\\alpha$ which serves as evidence that the Z factor alone is not a good pricing model.\n",
    "\n",
    "</span>"
   ]
  },
  {
   "cell_type": "markdown",
   "id": "46c22dfe-d203-49b1-9776-eafc764d064d",
   "metadata": {},
   "source": [
    "### 6. \n",
    "\n",
    "From the performance metrics of these currency trades, \n",
    "* Do you expect diversification is particularly useful or not? Be specific.\n",
    "* Do you expect mean-variance optimization will do relatively well out of sample? Be specific.\n",
    "\n",
    "\n",
    "<span style=\"color:blue\">\n",
    "\n",
    "The correlation between the currencies is considerably low (when compared to other classes and especially stocks in the SPY), meaning that we should expect diversification to be fairly important. Furthermore, we should highlight the importance of MXN in this scenario, with a lower average correlation with all other currencies. MXN, differently from the other currencies in the portfolio, is from a developing country, having different idiosyncratic risks when compared to currencies from Europe, Japan, Great Britain, and the US.\n",
    "\n",
    "Because correlations are low, mean-variance will probably do better out-of-sample than in an environment in which the correlations are high. Lower correlations lead to more stable results of the mean-variance optimization. In such cases, the weights in and out-of-sample are more similar. Still, MV optimization will probably have to deal with its natural instability: it is recommended that the investor also tests performing the optimization with regularization.\n",
    "\n",
    "On another matter, it is worth to mention that FX trade is often accompanied by high excess kurtosis and very negative skewness, meaning that currencies with high mean returns occasionally suffer big drops in returns. Thus, optimizing only for volatility and mean return leads investors to disconsider those risks associated with the third and fourth moments of the series.\n",
    "\n",
    "</span>"
   ]
  },
  {
   "cell_type": "markdown",
   "id": "c2137495-5add-4af7-b992-7377c6b7103b",
   "metadata": {},
   "source": [
    "### 7.\n",
    "\n",
    "Calculate the tangency weights for a portfolio of these currency trades. \n",
    "\n",
    "Report the performance metrics of `2.2` for this tangency portfolio.\n",
    "\n",
    "<span style=\"color:blue\">\n",
    "\n",
    "In this scenario, we have a similar result to HW1: the tangency portfolio has negative Sharpe.\n",
    "\n",
    "This is not an issue, it just relates to: https://canvas.uchicago.edu/courses/58435/discussion_topics/780421\n",
    "\n",
    "</span>"
   ]
  },
  {
   "cell_type": "code",
   "execution_count": 73,
   "id": "93f2f15e",
   "metadata": {},
   "outputs": [
    {
     "data": {
      "text/html": [
       "<div>\n",
       "<style scoped>\n",
       "    .dataframe tbody tr th:only-of-type {\n",
       "        vertical-align: middle;\n",
       "    }\n",
       "\n",
       "    .dataframe tbody tr th {\n",
       "        vertical-align: top;\n",
       "    }\n",
       "\n",
       "    .dataframe thead th {\n",
       "        text-align: right;\n",
       "    }\n",
       "</style>\n",
       "<table border=\"1\" class=\"dataframe\">\n",
       "  <thead>\n",
       "    <tr style=\"text-align: right;\">\n",
       "      <th></th>\n",
       "      <th>Tangency Weights</th>\n",
       "    </tr>\n",
       "  </thead>\n",
       "  <tbody>\n",
       "    <tr>\n",
       "      <th>JPY</th>\n",
       "      <td>2.6725</td>\n",
       "    </tr>\n",
       "    <tr>\n",
       "      <th>EUR</th>\n",
       "      <td>4.3039</td>\n",
       "    </tr>\n",
       "    <tr>\n",
       "      <th>GBP</th>\n",
       "      <td>-0.6831</td>\n",
       "    </tr>\n",
       "    <tr>\n",
       "      <th>MXN</th>\n",
       "      <td>-1.3512</td>\n",
       "    </tr>\n",
       "    <tr>\n",
       "      <th>CHF</th>\n",
       "      <td>-3.9421</td>\n",
       "    </tr>\n",
       "  </tbody>\n",
       "</table>\n",
       "</div>"
      ],
      "text/plain": [
       "     Tangency Weights\n",
       "JPY            2.6725\n",
       "EUR            4.3039\n",
       "GBP           -0.6831\n",
       "MXN           -1.3512\n",
       "CHF           -3.9421"
      ]
     },
     "execution_count": 73,
     "metadata": {},
     "output_type": "execute_result"
    }
   ],
   "source": [
    "tang_weights = pmh.calc_tangency_weights(fx_excess_returns)\n",
    "tang_weights"
   ]
  },
  {
   "cell_type": "code",
   "execution_count": 74,
   "id": "942fd4c4",
   "metadata": {},
   "outputs": [
    {
     "data": {
      "text/html": [
       "<div>\n",
       "<style scoped>\n",
       "    .dataframe tbody tr th:only-of-type {\n",
       "        vertical-align: middle;\n",
       "    }\n",
       "\n",
       "    .dataframe tbody tr th {\n",
       "        vertical-align: top;\n",
       "    }\n",
       "\n",
       "    .dataframe thead th {\n",
       "        text-align: right;\n",
       "    }\n",
       "</style>\n",
       "<table border=\"1\" class=\"dataframe\">\n",
       "  <thead>\n",
       "    <tr style=\"text-align: right;\">\n",
       "      <th></th>\n",
       "      <th>Annualized Mean</th>\n",
       "      <th>Annualized Vol</th>\n",
       "      <th>Annualized Sharpe</th>\n",
       "      <th>Excess Kurtosis</th>\n",
       "      <th>Max Drawdown</th>\n",
       "    </tr>\n",
       "  </thead>\n",
       "  <tbody>\n",
       "    <tr>\n",
       "      <th>FX Tangency Portfolio</th>\n",
       "      <td>-0.3385</td>\n",
       "      <td>0.2924</td>\n",
       "      <td>-1.1575</td>\n",
       "      <td>3.8095</td>\n",
       "      <td>-0.9483</td>\n",
       "    </tr>\n",
       "  </tbody>\n",
       "</table>\n",
       "</div>"
      ],
      "text/plain": [
       "                       Annualized Mean  Annualized Vol  Annualized Sharpe  \\\n",
       "FX Tangency Portfolio          -0.3385          0.2924            -1.1575   \n",
       "\n",
       "                       Excess Kurtosis  Max Drawdown  \n",
       "FX Tangency Portfolio           3.8095       -0.9483  "
      ]
     },
     "execution_count": 74,
     "metadata": {},
     "output_type": "execute_result"
    }
   ],
   "source": [
    "fx_tangency_portfolio = pmh.create_portfolio(\n",
    "    fx_excess_returns,\n",
    "    weights=tang_weights['Tangency Weights'].to_dict(),\n",
    "    port_name='FX Tangency Portfolio'\n",
    ")\n",
    "pmh.calc_summary_statistics(\n",
    "    fx_tangency_portfolio,\n",
    "    annual_factor=ANNUALIZATION_FACTOR,\n",
    "    keep_columns=['Annualized Mean', 'Annualized Vol', 'Annualized Sharpe', 'Kurtosis', 'Drawdown'],\n",
    "    provided_excess_returns=True\n",
    ")"
   ]
  },
  {
   "cell_type": "markdown",
   "id": "f52bde3e",
   "metadata": {},
   "source": [
    "<span style=\"color:blue\">\n",
    "\n",
    "The previously only happen when the GMV has negative excess return, which is the case:\n",
    "\n",
    "</span>"
   ]
  },
  {
   "cell_type": "code",
   "execution_count": 75,
   "id": "f1f7091b",
   "metadata": {},
   "outputs": [
    {
     "data": {
      "text/html": [
       "<div>\n",
       "<style scoped>\n",
       "    .dataframe tbody tr th:only-of-type {\n",
       "        vertical-align: middle;\n",
       "    }\n",
       "\n",
       "    .dataframe tbody tr th {\n",
       "        vertical-align: top;\n",
       "    }\n",
       "\n",
       "    .dataframe thead th {\n",
       "        text-align: right;\n",
       "    }\n",
       "</style>\n",
       "<table border=\"1\" class=\"dataframe\">\n",
       "  <thead>\n",
       "    <tr style=\"text-align: right;\">\n",
       "      <th></th>\n",
       "      <th>Mean</th>\n",
       "      <th>Annualized Mean</th>\n",
       "    </tr>\n",
       "  </thead>\n",
       "  <tbody>\n",
       "    <tr>\n",
       "      <th>GMV Portfolio</th>\n",
       "      <td>-0.0001</td>\n",
       "      <td>-0.0138</td>\n",
       "    </tr>\n",
       "  </tbody>\n",
       "</table>\n",
       "</div>"
      ],
      "text/plain": [
       "                 Mean  Annualized Mean\n",
       "GMV Portfolio -0.0001          -0.0138"
      ]
     },
     "execution_count": 75,
     "metadata": {},
     "output_type": "execute_result"
    }
   ],
   "source": [
    "pmh.calc_summary_statistics(\n",
    "    pmh.calc_gmv_weights(fx_excess_returns, return_port_ret=True),\n",
    "    keep_columns=['Mean'],\n",
    "    annual_factor=ANNUALIZATION_FACTOR,\n",
    "    provided_excess_returns=True\n",
    ")"
   ]
  },
  {
   "cell_type": "markdown",
   "id": "293e65e5-2b25-4f83-9575-79e3f1b808c6",
   "metadata": {},
   "source": [
    "### 8.\n",
    "\n",
    "Suppose you are a USD-based investor, but you want to short `1 JPY`, and use it to go long the equivalent amount of USD.\n",
    "\n",
    "Calculate the excess return to this short-yen (SY) trade, denoted $\\tilde{r}_{t+1}^{SY}$.\n",
    "\n",
    "We're still examining `January 2018` through `August 2024`.\n",
    "\n",
    "Report the first and last three values of the timeseries of excess returns."
   ]
  },
  {
   "cell_type": "code",
   "execution_count": 76,
   "id": "7b24f746",
   "metadata": {},
   "outputs": [
    {
     "data": {
      "text/html": [
       "<div>\n",
       "<style scoped>\n",
       "    .dataframe tbody tr th:only-of-type {\n",
       "        vertical-align: middle;\n",
       "    }\n",
       "\n",
       "    .dataframe tbody tr th {\n",
       "        vertical-align: top;\n",
       "    }\n",
       "\n",
       "    .dataframe thead th {\n",
       "        text-align: right;\n",
       "    }\n",
       "</style>\n",
       "<table border=\"1\" class=\"dataframe\">\n",
       "  <thead>\n",
       "    <tr style=\"text-align: right;\">\n",
       "      <th></th>\n",
       "      <th>Short JPY</th>\n",
       "    </tr>\n",
       "    <tr>\n",
       "      <th>date</th>\n",
       "      <th></th>\n",
       "    </tr>\n",
       "  </thead>\n",
       "  <tbody>\n",
       "    <tr>\n",
       "      <th>2018-01-02</th>\n",
       "      <td>-0.0033</td>\n",
       "    </tr>\n",
       "    <tr>\n",
       "      <th>2018-01-03</th>\n",
       "      <td>0.0021</td>\n",
       "    </tr>\n",
       "    <tr>\n",
       "      <th>2018-01-04</th>\n",
       "      <td>0.0022</td>\n",
       "    </tr>\n",
       "  </tbody>\n",
       "</table>\n",
       "</div>"
      ],
      "text/plain": [
       "            Short JPY\n",
       "date                 \n",
       "2018-01-02    -0.0033\n",
       "2018-01-03     0.0021\n",
       "2018-01-04     0.0022"
      ]
     },
     "metadata": {},
     "output_type": "display_data"
    },
    {
     "data": {
      "text/html": [
       "<div>\n",
       "<style scoped>\n",
       "    .dataframe tbody tr th:only-of-type {\n",
       "        vertical-align: middle;\n",
       "    }\n",
       "\n",
       "    .dataframe tbody tr th {\n",
       "        vertical-align: top;\n",
       "    }\n",
       "\n",
       "    .dataframe thead th {\n",
       "        text-align: right;\n",
       "    }\n",
       "</style>\n",
       "<table border=\"1\" class=\"dataframe\">\n",
       "  <thead>\n",
       "    <tr style=\"text-align: right;\">\n",
       "      <th></th>\n",
       "      <th>Short JPY</th>\n",
       "    </tr>\n",
       "    <tr>\n",
       "      <th>date</th>\n",
       "      <th></th>\n",
       "    </tr>\n",
       "  </thead>\n",
       "  <tbody>\n",
       "    <tr>\n",
       "      <th>2024-08-28</th>\n",
       "      <td>0.0045</td>\n",
       "    </tr>\n",
       "    <tr>\n",
       "      <th>2024-08-29</th>\n",
       "      <td>0.0030</td>\n",
       "    </tr>\n",
       "    <tr>\n",
       "      <th>2024-08-30</th>\n",
       "      <td>0.0084</td>\n",
       "    </tr>\n",
       "  </tbody>\n",
       "</table>\n",
       "</div>"
      ],
      "text/plain": [
       "            Short JPY\n",
       "date                 \n",
       "2024-08-28     0.0045\n",
       "2024-08-29     0.0030\n",
       "2024-08-30     0.0084"
      ]
     },
     "metadata": {},
     "output_type": "display_data"
    }
   ],
   "source": [
    "diff_rf = (1 + rf_rates_filtered[\"USD\"]) / (1 + rf_rates_filtered[\"JPY\"]) - 1\n",
    "usdjpy_fx_rate = 1 / fx_rates_filtered[[\"JPY\"]] # USDJPY rate (buying it means going long on the US dollar)\n",
    "usdjpy_fx_rate.rename({\"JPY\": \"USDJPY\"}, axis=1, inplace=True)\n",
    "short_jpy = usdjpy_fx_rate.apply(lambda x: x / x.shift() * (1 + diff_rf)).dropna() - 1\n",
    "short_jpy.rename({\"USDJPY\": \"Short JPY\"}, axis=1, inplace=True)\n",
    "display(short_jpy.dropna().head(3))\n",
    "display(short_jpy.tail(3))"
   ]
  },
  {
   "cell_type": "markdown",
   "id": "630f95d6",
   "metadata": {},
   "source": [
    "<span style=\"color:blue\">\n",
    "\n",
    "The same can be done by using JPY with a minus sign: \n",
    "\n",
    "</span>"
   ]
  },
  {
   "cell_type": "code",
   "execution_count": 77,
   "id": "8d3d9f1e",
   "metadata": {},
   "outputs": [
    {
     "data": {
      "text/html": [
       "<div>\n",
       "<style scoped>\n",
       "    .dataframe tbody tr th:only-of-type {\n",
       "        vertical-align: middle;\n",
       "    }\n",
       "\n",
       "    .dataframe tbody tr th {\n",
       "        vertical-align: top;\n",
       "    }\n",
       "\n",
       "    .dataframe thead th {\n",
       "        text-align: right;\n",
       "    }\n",
       "</style>\n",
       "<table border=\"1\" class=\"dataframe\">\n",
       "  <thead>\n",
       "    <tr style=\"text-align: right;\">\n",
       "      <th></th>\n",
       "      <th>Short JPY</th>\n",
       "    </tr>\n",
       "    <tr>\n",
       "      <th>date</th>\n",
       "      <th></th>\n",
       "    </tr>\n",
       "  </thead>\n",
       "  <tbody>\n",
       "    <tr>\n",
       "      <th>2018-01-02</th>\n",
       "      <td>-0.0033</td>\n",
       "    </tr>\n",
       "    <tr>\n",
       "      <th>2018-01-03</th>\n",
       "      <td>0.0021</td>\n",
       "    </tr>\n",
       "    <tr>\n",
       "      <th>2018-01-04</th>\n",
       "      <td>0.0022</td>\n",
       "    </tr>\n",
       "  </tbody>\n",
       "</table>\n",
       "</div>"
      ],
      "text/plain": [
       "            Short JPY\n",
       "date                 \n",
       "2018-01-02    -0.0033\n",
       "2018-01-03     0.0021\n",
       "2018-01-04     0.0022"
      ]
     },
     "metadata": {},
     "output_type": "display_data"
    },
    {
     "data": {
      "text/html": [
       "<div>\n",
       "<style scoped>\n",
       "    .dataframe tbody tr th:only-of-type {\n",
       "        vertical-align: middle;\n",
       "    }\n",
       "\n",
       "    .dataframe tbody tr th {\n",
       "        vertical-align: top;\n",
       "    }\n",
       "\n",
       "    .dataframe thead th {\n",
       "        text-align: right;\n",
       "    }\n",
       "</style>\n",
       "<table border=\"1\" class=\"dataframe\">\n",
       "  <thead>\n",
       "    <tr style=\"text-align: right;\">\n",
       "      <th></th>\n",
       "      <th>Short JPY</th>\n",
       "    </tr>\n",
       "    <tr>\n",
       "      <th>date</th>\n",
       "      <th></th>\n",
       "    </tr>\n",
       "  </thead>\n",
       "  <tbody>\n",
       "    <tr>\n",
       "      <th>2024-08-28</th>\n",
       "      <td>0.0045</td>\n",
       "    </tr>\n",
       "    <tr>\n",
       "      <th>2024-08-29</th>\n",
       "      <td>0.0029</td>\n",
       "    </tr>\n",
       "    <tr>\n",
       "      <th>2024-08-30</th>\n",
       "      <td>0.0083</td>\n",
       "    </tr>\n",
       "  </tbody>\n",
       "</table>\n",
       "</div>"
      ],
      "text/plain": [
       "            Short JPY\n",
       "date                 \n",
       "2024-08-28     0.0045\n",
       "2024-08-29     0.0029\n",
       "2024-08-30     0.0083"
      ]
     },
     "metadata": {},
     "output_type": "display_data"
    }
   ],
   "source": [
    "short_jpy = - fx_excess_returns[['JPY']].rename({'JPY': 'Short JPY'}, axis=1)\n",
    "display(short_jpy.dropna().head(3))\n",
    "display(short_jpy.tail(3))"
   ]
  },
  {
   "cell_type": "markdown",
   "id": "60cb4edc-bbe0-4a81-b87f-61dfa53f2f20",
   "metadata": {},
   "source": [
    "### 9.\n",
    "\n",
    "Report the performance statistics requested in `2.2` for this short-yen trade. \n",
    "\n",
    "Also, what date is the min and max return for this trade?"
   ]
  },
  {
   "cell_type": "code",
   "execution_count": 78,
   "id": "42d8d6b3",
   "metadata": {},
   "outputs": [
    {
     "data": {
      "text/html": [
       "<div>\n",
       "<style scoped>\n",
       "    .dataframe tbody tr th:only-of-type {\n",
       "        vertical-align: middle;\n",
       "    }\n",
       "\n",
       "    .dataframe tbody tr th {\n",
       "        vertical-align: top;\n",
       "    }\n",
       "\n",
       "    .dataframe thead th {\n",
       "        text-align: right;\n",
       "    }\n",
       "</style>\n",
       "<table border=\"1\" class=\"dataframe\">\n",
       "  <thead>\n",
       "    <tr style=\"text-align: right;\">\n",
       "      <th></th>\n",
       "      <th>Annualized Mean</th>\n",
       "      <th>Annualized Vol</th>\n",
       "      <th>Annualized Sharpe</th>\n",
       "      <th>Excess Kurtosis</th>\n",
       "      <th>Max Drawdown</th>\n",
       "    </tr>\n",
       "  </thead>\n",
       "  <tbody>\n",
       "    <tr>\n",
       "      <th>Short JPY</th>\n",
       "      <td>0.0568</td>\n",
       "      <td>0.0847</td>\n",
       "      <td>0.6705</td>\n",
       "      <td>6.5262</td>\n",
       "      <td>-0.1468</td>\n",
       "    </tr>\n",
       "  </tbody>\n",
       "</table>\n",
       "</div>"
      ],
      "text/plain": [
       "           Annualized Mean  Annualized Vol  Annualized Sharpe  \\\n",
       "Short JPY           0.0568          0.0847             0.6705   \n",
       "\n",
       "           Excess Kurtosis  Max Drawdown  \n",
       "Short JPY           6.5262       -0.1468  "
      ]
     },
     "execution_count": 78,
     "metadata": {},
     "output_type": "execute_result"
    }
   ],
   "source": [
    "pmh.calc_summary_statistics(\n",
    "    short_jpy,\n",
    "    annual_factor=ANNUALIZATION_FACTOR,\n",
    "    keep_columns=['Annualized Mean', 'Annualized Vol', 'Annualized Sharpe', 'Kurtosis', 'Drawdown'],\n",
    "    provided_excess_returns=True,\n",
    ")"
   ]
  },
  {
   "cell_type": "code",
   "execution_count": 79,
   "id": "33ca3bca",
   "metadata": {},
   "outputs": [
    {
     "data": {
      "text/html": [
       "<div>\n",
       "<style scoped>\n",
       "    .dataframe tbody tr th:only-of-type {\n",
       "        vertical-align: middle;\n",
       "    }\n",
       "\n",
       "    .dataframe tbody tr th {\n",
       "        vertical-align: top;\n",
       "    }\n",
       "\n",
       "    .dataframe thead th {\n",
       "        text-align: right;\n",
       "    }\n",
       "</style>\n",
       "<table border=\"1\" class=\"dataframe\">\n",
       "  <thead>\n",
       "    <tr style=\"text-align: right;\">\n",
       "      <th></th>\n",
       "      <th>Max Return</th>\n",
       "      <th>Min Return</th>\n",
       "    </tr>\n",
       "  </thead>\n",
       "  <tbody>\n",
       "    <tr>\n",
       "      <th>Short JPY</th>\n",
       "      <td>2020-03-10</td>\n",
       "      <td>2022-12-20</td>\n",
       "    </tr>\n",
       "  </tbody>\n",
       "</table>\n",
       "</div>"
      ],
      "text/plain": [
       "          Max Return Min Return\n",
       "Short JPY 2020-03-10 2022-12-20"
      ]
     },
     "metadata": {},
     "output_type": "display_data"
    },
    {
     "data": {
      "text/html": [
       "<div>\n",
       "<style scoped>\n",
       "    .dataframe tbody tr th:only-of-type {\n",
       "        vertical-align: middle;\n",
       "    }\n",
       "\n",
       "    .dataframe tbody tr th {\n",
       "        vertical-align: top;\n",
       "    }\n",
       "\n",
       "    .dataframe thead th {\n",
       "        text-align: right;\n",
       "    }\n",
       "</style>\n",
       "<table border=\"1\" class=\"dataframe\">\n",
       "  <thead>\n",
       "    <tr style=\"text-align: right;\">\n",
       "      <th></th>\n",
       "      <th>Max Cumulative Return</th>\n",
       "      <th>Min Cumulative Return</th>\n",
       "    </tr>\n",
       "  </thead>\n",
       "  <tbody>\n",
       "    <tr>\n",
       "      <th>Short JPY</th>\n",
       "      <td>2024-07-10</td>\n",
       "      <td>2018-03-23</td>\n",
       "    </tr>\n",
       "  </tbody>\n",
       "</table>\n",
       "</div>"
      ],
      "text/plain": [
       "          Max Cumulative Return Min Cumulative Return\n",
       "Short JPY            2024-07-10            2018-03-23"
      ]
     },
     "metadata": {},
     "output_type": "display_data"
    },
    {
     "data": {
      "image/png": "[encoded data removed]",
      "text/plain": [
       "<Figure size 700x500 with 1 Axes>"
      ]
     },
     "metadata": {},
     "output_type": "display_data"
    }
   ],
   "source": [
    "cum_short_jpy = short_jpy.dropna().apply(lambda x: x + 1).cumprod().apply(lambda x: x - 1)\n",
    "\n",
    "display(\n",
    "    pd.DataFrame({\n",
    "        \"Max Return\": short_jpy.idxmax(),\n",
    "        \"Min Return\": short_jpy.idxmin()\n",
    "    })\n",
    ")\n",
    "display(\n",
    "    pd.DataFrame({\n",
    "        \"Max Cumulative Return\": cum_short_jpy.idxmax(),\n",
    "        \"Min Cumulative Return\": cum_short_jpy.idxmin()\n",
    "    })\n",
    ")\n",
    "\n",
    "pmh.calc_cummulative_returns(short_jpy)"
   ]
  },
  {
   "cell_type": "markdown",
   "id": "d6cf51ec",
   "metadata": {
    "vscode": {
     "languageId": "plaintext"
    }
   },
   "source": [
    "***"
   ]
  }
 ],
 "metadata": {
  "hide_input": false,
  "kernelspec": {
   "display_name": "finm",
   "language": "python",
   "name": "python3"
  },
  "language_info": {
   "codemirror_mode": {
    "name": "ipython",
    "version": 3
   },
   "file_extension": ".py",
   "mimetype": "text/x-python",
   "name": "python",
   "nbconvert_exporter": "python",
   "pygments_lexer": "ipython3",
   "version": "3.12.5"
  }
 },
 "nbformat": 4,
 "nbformat_minor": 5
}
