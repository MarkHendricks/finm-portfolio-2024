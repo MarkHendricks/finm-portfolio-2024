{
 "cells": [
  {
   "cell_type": "markdown",
   "id": "43299a84-851e-4f6f-8d87-fb525f083caf",
   "metadata": {},
   "source": [
    "# Homework 3\n",
    "\n",
    "## FINM 36700 - 2024\n",
    "\n",
    "### UChicago Financial Mathematics\n",
    "\n",
    "* Mark Hendricks\n",
    "* hendricks@uchicago.edu"
   ]
  },
  {
   "cell_type": "markdown",
   "id": "a5df3f45-999d-4de6-b5b4-b0bbe4c393db",
   "metadata": {},
   "source": [
    "***"
   ]
  },
  {
   "cell_type": "markdown",
   "id": "6dda8147-8d8c-4e00-acaa-f9fa65e8d3bd",
   "metadata": {},
   "source": [
    "# 1. Modeling Volatility and VaR\n",
    "\n",
    "## Data\n",
    "\n",
    "Find the data file `spy_data.xlsx`.\n",
    "\n",
    "* Use the returns on the S&P 500 (`SPY`) and 1-month T-bills (`^IRX`).\n",
    "\n",
    "* Calculate the excess market returns, using the treasury rate as the risk-free rate."
   ]
  },
  {
   "cell_type": "markdown",
   "id": "55d633d3-9eeb-4fd9-b67c-8f0816fe40ed",
   "metadata": {},
   "source": [
    "***"
   ]
  },
  {
   "cell_type": "markdown",
   "id": "d7cf39b3-d033-4981-82a1-d126a52ef357",
   "metadata": {},
   "source": [
    "## 1.1 Historic VaR.\n",
    "Starting at `Jan 2, 2001`, calculate the historic-based VaR, based on the expanding sample from the first date through `Dec 29, 2000`. \n",
    "\n",
    "Denote $\\tilde{r}^{VaR, 0.05}_{t}$ as the estimate of the time-t VaR based on data through $t − 1$.\n",
    "\n",
    "### Report\n",
    "Report the items below, starting at , starting at `Jan 2, 2001`.\n",
    "\n",
    "* Plot $\\tilde{r}^{VaR, 0.05}_{t}$ over time.\n",
    "\n",
    "* Report the frequency of periods in which $\\tilde{r} < \\tilde{r}^{VaR, 0.05}_{t}$. Compare this to the quantile of $.05$.\n",
    "\n",
    "* What drawbacks do you see in this historic VaR?\n",
    "\n",
    "#### Note\n",
    "By historic VaR, we mean simply taking the 5th quantile for the historic sample up to time $t − 1$. Of course, a sample size that is not a multiple of 100 will require some interpolation to get a 5th quantile. Your statistical package should handle this fine."
   ]
  },
  {
   "cell_type": "markdown",
   "id": "48e2588e-c52b-4c36-bda0-7cd36242719b",
   "metadata": {},
   "source": [
    "***"
   ]
  },
  {
   "cell_type": "markdown",
   "id": "b98298fb-7118-4fb7-9154-0e29615edbd0",
   "metadata": {},
   "source": [
    "## 1.2 Volatility\n",
    "We will calculate a time-series of volatility estimates using a few different methods. For each, we use $\\sigma_t$ to denote our estimate of the time-t return volatility.\n",
    "\n",
    "#### Expanding Series\n",
    "\n",
    "$$\n",
    "\\sigma^2_{t,expanding} = \\frac{1}{t-1}\\sum_{\\tau = 1}^{t-1}\\tilde{r}^2_{\\tau}\n",
    "$$\n",
    "\n",
    "\n",
    "\n",
    "#### Rolling Window\n",
    "\n",
    "$$\n",
    "\\sigma^2_{t,rolling} = \\frac{1}{m}\\sum_{l = 1}^{m}\\tilde{r}^2_{t-l}\n",
    "$$\n",
    "\n",
    "Use $m=$`252`.\n",
    "\n",
    "\n",
    "#### Exponentially Weighted Moving Average (EWMA)\n",
    "\n",
    "Feel free to calculate the EWMA using the following recursion,\n",
    "$$\n",
    "\\sigma^2_{t, EWMA} = \\theta \\sigma^2_{t-1, EWMA} + (1-\\theta)\\tilde{r}^2_{t-1}\n",
    "$$\n",
    "\n",
    "Rather than estimating $\\theta$, simply use $\\theta$ = 0.94, and initialize with \n",
    "$$\\sigma_{t_0} = \\frac{0.20}{\\sqrt{252}}$$"
   ]
  },
  {
   "cell_type": "markdown",
   "id": "e8bd0074-ffc0-4f59-adc7-798ad07ebfc9",
   "metadata": {},
   "source": [
    "### Report\n",
    "Report the items below, starting at , starting at `Jan 2, 2001`.\n",
    "\n",
    "* For each of these three methods, plot $\\sigma_t$. (Plot the vol, not the variance.)\n",
    "\n",
    "* For each method, calculate the 5th percentile, 1-day-ahead VaR. We use a slight simplification of the normal VaR formula, by dropping $\\mu$ from that formula, and rounding the normal distribution z-score to -1.65.\n",
    "$$\\tilde{r}^{VaR, 0.05}_{t} = −1.65 \\sigma_t$$\n",
    "\n",
    "* For each of these vol-based VaR estimates, calculate the frequency of periods in which $\\tilde{r} < \\tilde{r}^{VaR, 0.05}_{t}$\n",
    "\n",
    "* Compare and contrast your results among each other and relative to the historic method in the previous problem."
   ]
  },
  {
   "cell_type": "markdown",
   "id": "a9e4a19f-08bf-4f98-8856-835280d2ac17",
   "metadata": {},
   "source": [
    "***"
   ]
  },
  {
   "cell_type": "markdown",
   "id": "eb8bafa8-d3e8-4411-91ab-5bfe7f5ee5f2",
   "metadata": {},
   "source": [
    "## 1.3 CVaR\n",
    "Re-do the previous two problems, but this time calculating CVaR instead of VaR, (still for $q =$ `.05`.) "
   ]
  },
  {
   "cell_type": "markdown",
   "id": "61b6ffdf-bd7a-4a69-942a-1cf97cdfa22e",
   "metadata": {},
   "source": [
    "***"
   ]
  },
  {
   "cell_type": "markdown",
   "id": "5b2d6579-55bc-4073-a78e-430d69f32252",
   "metadata": {},
   "source": [
    "## 1.4 GARCH\n",
    "\n",
    "#### EXTRA: Not Submitted, not covered in Midterm 1\n",
    "\n",
    "Re-do the VaR and CVaR calculations using a normal model with volatility calculated from a GARCH(1,1).\n",
    "\n",
    "To estimate GARCH(1,1), try using the ARCH package in Python. The default estimation implementation is fine. You should be familiar with EWMA and GARCH from the August Review."
   ]
  }
 ],
 "metadata": {
  "kernelspec": {
   "display_name": "Python 3 (ipykernel)",
   "language": "python",
   "name": "python3"
  },
  "language_info": {
   "codemirror_mode": {
    "name": "ipython",
    "version": 3
   },
   "file_extension": ".py",
   "mimetype": "text/x-python",
   "name": "python",
   "nbconvert_exporter": "python",
   "pygments_lexer": "ipython3",
   "version": "3.9.6"
  }
 },
 "nbformat": 4,
 "nbformat_minor": 5
}
