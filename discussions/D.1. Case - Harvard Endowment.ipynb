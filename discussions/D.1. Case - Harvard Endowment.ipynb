{
 "cells": [
  {
   "cell_type": "markdown",
   "id": "960910c8",
   "metadata": {},
   "source": [
    "# Case - Harvard Endowment\n",
    "\n",
    "## FINM 36700 - 2024\n",
    "\n",
    "### UChicago Financial Mathematics\n",
    "\n",
    "* Mark Hendricks\n",
    "* hendricks@uchicago.edu\n",
    "\n",
    "## HBS Case\n",
    "\n",
    "### *The Harvard Management Company and Inflation-Indexed Bonds*"
   ]
  },
  {
   "cell_type": "markdown",
   "id": "ea2287d5",
   "metadata": {},
   "source": [
    "### Notation\n",
    "(Hidden LaTeX commands)\n",
    "\n",
    "$$\\newcommand{\\mux}{\\tilde{\\boldsymbol{\\mu}}}$$\n",
    "$$\\newcommand{\\wtan}{\\boldsymbol{\\text{w}}^{\\text{tan}}}$$\n",
    "$$\\newcommand{\\wtarg}{\\boldsymbol{\\text{w}}^{\\text{port}}}$$\n",
    "$$\\newcommand{\\mutarg}{\\tilde{\\boldsymbol{\\mu}}^{\\text{port}}}$$\n",
    "$$\\newcommand{\\wEW}{\\boldsymbol{\\text{w}}^{\\text{EW}}}$$\n",
    "$$\\newcommand{\\wRP}{\\boldsymbol{\\text{w}}^{\\text{RP}}}$$\n",
    "$$\\newcommand{\\wREG}{\\boldsymbol{\\text{w}}^{\\text{REG}}}$$"
   ]
  },
  {
   "cell_type": "markdown",
   "id": "81b20ad6",
   "metadata": {},
   "source": [
    "***"
   ]
  },
  {
   "cell_type": "markdown",
   "id": "7d62f41c",
   "metadata": {},
   "source": [
    "# 1. HMC's Approach\n",
    "\n",
    "**Section 1 is not graded**, and you do not need to submit your answers. But you are encouraged to think about them, and we will discuss them."
   ]
  },
  {
   "cell_type": "markdown",
   "id": "861cc346",
   "metadata": {},
   "source": [
    "### 1. \n",
    "There are thousands of individual risky assets in which HMC can invest.  Explain why MV optimization across 1,000 securities is infeasible.\n",
    "\n",
    "### 2.\n",
    "Rather than optimize across all securities directly, HMC runs a two-stage optimization.\n",
    "1. They build asset class portfolios with each one optimized over the securities of the specific asset class.  \n",
    "2. HMC combines the asset-class portfolios into one total optimized portfolio.\n",
    "\n",
    "In order for the two-stage optimization to be a good approximation of the full MV-optimization on all assets, what must be true of the partition of securities into asset classes?\n",
    "\n",
    "### 3.\n",
    "Should TIPS form a new asset class or be grouped into one of the other 11 classes?\n",
    "\n",
    "### 4. \n",
    "Why does HMC focus on real returns when analyzing its portfolio allocation? Is this just a matter of scaling, or does using real returns versus nominal returns potentially change the MV solution?\n",
    "\n",
    "### 5.\n",
    "The case discusses the fact that Harvard places bounds on the portfolio allocation rather than implementing whatever numbers come out of the MV optimization problem.\n",
    "\n",
    "How might we adjust the stated optimization problem in the lecture notes to reflect the extra constraints Harvard is using in their bounded solutions given in Exhibits 5 and 6. Just consider how we might rewrite the optimization; don’t try to solve this extra-constrained optimization.\n",
    "\n",
    "### 6. \n",
    "Exhibits 5 shows zero allocation to domestic equities and domestic bonds across the entire computed range of targeted returns, (5.75% to 7.25%). Conceptually, why is the constraint binding in all these cases? What would the unconstrained portfolio want to do with those allocations and why?\n",
    "\n",
    "### 7.\n",
    "Exhibit 6 changes the constraints, (tightening them in most cases.) How much deterioration do we see in the mean-variance tradeoff that Harvard achieved?"
   ]
  },
  {
   "cell_type": "markdown",
   "id": "3d5c4d11",
   "metadata": {},
   "source": [
    "***"
   ]
  },
  {
   "cell_type": "markdown",
   "id": "6f659c25",
   "metadata": {},
   "source": [
    "# **<span style=\"color:red\">Solution 1</span>**"
   ]
  },
  {
   "cell_type": "markdown",
   "id": "2af05ae6",
   "metadata": {},
   "source": [
    "***"
   ]
  },
  {
   "cell_type": "markdown",
   "id": "77392534",
   "metadata": {},
   "source": [
    "# 2 Mean-Variance Optimization\n",
    "\n",
    "<i>This section is graded for a good-faith effort by your group. Submit your write-up- along with your supporting code. \n",
    "    \n",
    "    Don't just submit code or messy numbers; submit a coherent write-up based on your work.</i>\n",
    "\n",
    "### Data\n",
    "You will need the file in the github repo, `data/multi_asset_etf_data.xlsx`.\n",
    "- The time-series data gives monthly returns for the 11 asset classes and a short-term Treasury-bill fund return, (\"SHV\",) which we consider as the risk-free rate.\n",
    "- The data is provided in total returns, (in which case you should ignore the SHV column,) as well as excess returns, (where SHV has been subtracted from the other columns.)\n",
    "- These are nominal returns-they are not adjusted for inflation, and in our calculations we are not making any adjustment for inflation.\n",
    "- The exhibit data that comes via Harvard with the case is unnecessary for our analysis.\n",
    "\n",
    "### Model\n",
    "We are going to analyze the problem in terms of **excess** returns.\n",
    "- Thus, you will focus on the `Excess Returns` section of the lecture notes, especially the formulas on slide 50.\n",
    "- Be sure to use the`excess returns` tab of the data.\n",
    "\n",
    "### Format\n",
    "In the questions below, **annualize the statistics** you report.\n",
    "- Annualize the mean of monthly returns with a scaling of 12.\n",
    "- Annualize the volatility of monthly returns with a scaling of $\\sqrt{12}$\n",
    "- The Sharpe Ratio is the mean return divided by the volatility of returns. Accordingly, we can annualize the Sharpe Ratio with a scaling of $\\sqrt{12}$\n",
    "- Note that we are not scaling the raw timeseries data, just the statistics computed from it (mean, vol, Sharpe). "
   ]
  },
  {
   "cell_type": "markdown",
   "id": "f1944822",
   "metadata": {},
   "source": [
    "### Footnotes\n",
    "\n",
    "#### Data File\n",
    "* The case does not give time-series data, so this data has been compiled outside of the case, and it intends to represent the main asset classes under consideration via various ETFs. For details on the specific securities/indexes, check the “Info” tab of the data.\n",
    "\n",
    "#### Risk-free rate\n",
    "* In the lecture-note we considered a constant risk-free rate. It is okay that our risk-free rate changes over time, but the assumption is that investors know it’s value one-period ahead of time. Thus, at any given point in time, it is a risk-free rate for the next period. (This is often discussed as the \"bank account\" or \"money market account\" in other settings."
   ]
  },
  {
   "cell_type": "markdown",
   "id": "b0eb5c65",
   "metadata": {},
   "source": [
    "## 1. Summary Statistics\n",
    "* Calculate and display the mean and volatility of each asset’s excess return. (Recall we use volatility to refer to standard deviation.)\n",
    "* Which assets have the best and worst Sharpe ratios? Recall that the Sharpe Ratio is simply the ratio of the mean-to-volatility of excess returns:\n",
    "$$\\text{sharpe ratio of investment }i = \\frac{\\mux_i}{\\sigma_i}$$\n",
    "\n",
    "## 2. Descriptive Analysis\n",
    "* Calculate the correlation matrix of the returns. Which pair has the highest correlation? And the lowest?\n",
    "* How well have TIPS done in our sample? Have they outperformed domestic bonds? Foreign bonds?\n",
    "\n",
    "## 3. The MV frontier.\n",
    "* Compute and display the weights of the tangency portfolios: $\\wtan$.\n",
    "* Does the ranking of weights align with the ranking of Sharpe ratios?\n",
    "* Compute the mean, volatility, and Sharpe ratio for the tangency portfolio corresponding to\n",
    "$\\wtan$.\n",
    "\n",
    "## 4. TIPS\n",
    "Assess how much the tangency portfolio (and performance) change if...\n",
    "* TIPS are dropped completely from the investment set.\n",
    "* The expected excess return to TIPS is adjusted to be 0.0012 higher than what the historic sample shows.\n",
    "\n",
    "Based on the analysis, do TIPS seem to expand the investment opportunity set, implying that Harvard should consider them as a separate asset?"
   ]
  },
  {
   "cell_type": "markdown",
   "id": "b294dbc8",
   "metadata": {},
   "source": [
    "***"
   ]
  },
  {
   "cell_type": "markdown",
   "id": "ea439c25",
   "metadata": {},
   "source": [
    "# **<span style=\"color:red\">Solution 2</span>**"
   ]
  },
  {
   "cell_type": "code",
   "execution_count": 1,
   "id": "cea650e3",
   "metadata": {},
   "outputs": [],
   "source": [
    "import numpy as np\n",
    "import pandas as pd\n",
    "pd.options.display.float_format = \"{:,.4f}\".format\n",
    "\n",
    "import matplotlib.pyplot as plt\n",
    "import seaborn as sns\n",
    "\n",
    "import statsmodels.api as sm\n",
    "from sklearn.linear_model import LinearRegression"
   ]
  },
  {
   "cell_type": "code",
   "execution_count": 2,
   "id": "a1b40d70",
   "metadata": {},
   "outputs": [],
   "source": [
    "%matplotlib inline\n",
    "plt.rcParams['figure.figsize'] = (12,6)\n",
    "plt.rcParams['font.size'] = 15\n",
    "plt.rcParams['legend.fontsize'] = 13"
   ]
  },
  {
   "cell_type": "markdown",
   "id": "04e6fdcd",
   "metadata": {},
   "source": [
    "## Data"
   ]
  },
  {
   "cell_type": "code",
   "execution_count": 3,
   "id": "c9a4f9b7",
   "metadata": {},
   "outputs": [],
   "source": [
    "filepath_data = '../data/multi_asset_etf_data.xlsx'\n",
    "info = pd.read_excel(filepath_data,sheet_name='descriptions')\n",
    "info.set_index('ticker',inplace=True)"
   ]
  },
  {
   "cell_type": "code",
   "execution_count": 4,
   "id": "de66edf4",
   "metadata": {},
   "outputs": [],
   "source": [
    "rets = pd.read_excel(filepath_data,sheet_name='total returns')\n",
    "rets.set_index('Date',inplace=True)\n",
    "rets.drop(columns=['SHV'])\n",
    "\n",
    "retsx = pd.read_excel(filepath_data,sheet_name='excess returns')\n",
    "retsx.set_index('Date',inplace=True)\n",
    "\n",
    "# sort columns by order of descriptions in Info tab\n",
    "symbol_list = info.index.drop('SHV')\n",
    "rets = rets[symbol_list]\n",
    "retsx = retsx[symbol_list]"
   ]
  },
  {
   "cell_type": "code",
   "execution_count": 5,
   "id": "79ea7a17",
   "metadata": {},
   "outputs": [
    {
     "data": {
      "text/html": [
       "<div>\n",
       "<style scoped>\n",
       "    .dataframe tbody tr th:only-of-type {\n",
       "        vertical-align: middle;\n",
       "    }\n",
       "\n",
       "    .dataframe tbody tr th {\n",
       "        vertical-align: top;\n",
       "    }\n",
       "\n",
       "    .dataframe thead th {\n",
       "        text-align: right;\n",
       "    }\n",
       "</style>\n",
       "<table border=\"1\" class=\"dataframe\">\n",
       "  <thead>\n",
       "    <tr style=\"text-align: right;\">\n",
       "      <th></th>\n",
       "      <th>shortName</th>\n",
       "      <th>quoteType</th>\n",
       "      <th>currency</th>\n",
       "      <th>volume</th>\n",
       "      <th>totalAssets</th>\n",
       "      <th>longBusinessSummary</th>\n",
       "    </tr>\n",
       "    <tr>\n",
       "      <th>ticker</th>\n",
       "      <th></th>\n",
       "      <th></th>\n",
       "      <th></th>\n",
       "      <th></th>\n",
       "      <th></th>\n",
       "      <th></th>\n",
       "    </tr>\n",
       "  </thead>\n",
       "  <tbody>\n",
       "    <tr>\n",
       "      <th>SPY</th>\n",
       "      <td>SPDR S&amp;P 500</td>\n",
       "      <td>ETF</td>\n",
       "      <td>USD</td>\n",
       "      <td>48833086</td>\n",
       "      <td>566341992448</td>\n",
       "      <td>The Trust seeks to achieve its investment obje...</td>\n",
       "    </tr>\n",
       "    <tr>\n",
       "      <th>EFA</th>\n",
       "      <td>iShares MSCI EAFE ETF</td>\n",
       "      <td>ETF</td>\n",
       "      <td>USD</td>\n",
       "      <td>11332778</td>\n",
       "      <td>57923706880</td>\n",
       "      <td>The fund generally will invest at least 80% of...</td>\n",
       "    </tr>\n",
       "    <tr>\n",
       "      <th>EEM</th>\n",
       "      <td>iShares MSCI Emerging Index Fun</td>\n",
       "      <td>ETF</td>\n",
       "      <td>USD</td>\n",
       "      <td>23583292</td>\n",
       "      <td>17685696512</td>\n",
       "      <td>The fund generally will invest at least 80% of...</td>\n",
       "    </tr>\n",
       "    <tr>\n",
       "      <th>PSP</th>\n",
       "      <td>Invesco Global Listed Private E</td>\n",
       "      <td>ETF</td>\n",
       "      <td>USD</td>\n",
       "      <td>9989</td>\n",
       "      <td>248054672</td>\n",
       "      <td>The fund generally will invest at least 90% of...</td>\n",
       "    </tr>\n",
       "    <tr>\n",
       "      <th>QAI</th>\n",
       "      <td>NYLI Hedge Multi-Strategy Track</td>\n",
       "      <td>ETF</td>\n",
       "      <td>USD</td>\n",
       "      <td>66176</td>\n",
       "      <td>574961600</td>\n",
       "      <td>The fund is a \"fund of funds\" which means it i...</td>\n",
       "    </tr>\n",
       "    <tr>\n",
       "      <th>HYG</th>\n",
       "      <td>iShares iBoxx $ High Yield Corp</td>\n",
       "      <td>ETF</td>\n",
       "      <td>USD</td>\n",
       "      <td>31335696</td>\n",
       "      <td>16903942144</td>\n",
       "      <td>The underlying index is a rules-based index co...</td>\n",
       "    </tr>\n",
       "    <tr>\n",
       "      <th>DBC</th>\n",
       "      <td>Invesco DB Commodity Index Trac</td>\n",
       "      <td>ETF</td>\n",
       "      <td>USD</td>\n",
       "      <td>816794</td>\n",
       "      <td>1496658176</td>\n",
       "      <td>The fund pursues its investment objective by i...</td>\n",
       "    </tr>\n",
       "    <tr>\n",
       "      <th>IYR</th>\n",
       "      <td>iShares U.S. Real Estate ETF</td>\n",
       "      <td>ETF</td>\n",
       "      <td>USD</td>\n",
       "      <td>3310338</td>\n",
       "      <td>4560725504</td>\n",
       "      <td>The fund seeks to track the investment results...</td>\n",
       "    </tr>\n",
       "    <tr>\n",
       "      <th>IEF</th>\n",
       "      <td>iShares 7-10 Year Treasury Bond</td>\n",
       "      <td>ETF</td>\n",
       "      <td>USD</td>\n",
       "      <td>7913316</td>\n",
       "      <td>31752601600</td>\n",
       "      <td>The underlying index measures the performance ...</td>\n",
       "    </tr>\n",
       "    <tr>\n",
       "      <th>BWX</th>\n",
       "      <td>SPDR Bloomberg International Tr</td>\n",
       "      <td>ETF</td>\n",
       "      <td>USD</td>\n",
       "      <td>138010</td>\n",
       "      <td>1028062656</td>\n",
       "      <td>The fund generally invests substantially all, ...</td>\n",
       "    </tr>\n",
       "    <tr>\n",
       "      <th>TIP</th>\n",
       "      <td>iShares TIPS Bond ETF</td>\n",
       "      <td>ETF</td>\n",
       "      <td>USD</td>\n",
       "      <td>2373593</td>\n",
       "      <td>18455549952</td>\n",
       "      <td>The index tracks the performance of inflation-...</td>\n",
       "    </tr>\n",
       "    <tr>\n",
       "      <th>SHV</th>\n",
       "      <td>iShares Short Treasury Bond ETF</td>\n",
       "      <td>ETF</td>\n",
       "      <td>USD</td>\n",
       "      <td>10162795</td>\n",
       "      <td>19172577280</td>\n",
       "      <td>The fund will invest at least 80% of its asset...</td>\n",
       "    </tr>\n",
       "  </tbody>\n",
       "</table>\n",
       "</div>"
      ],
      "text/plain": [
       "                              shortName quoteType currency    volume  \\\n",
       "ticker                                                                 \n",
       "SPY                        SPDR S&P 500       ETF      USD  48833086   \n",
       "EFA               iShares MSCI EAFE ETF       ETF      USD  11332778   \n",
       "EEM     iShares MSCI Emerging Index Fun       ETF      USD  23583292   \n",
       "PSP     Invesco Global Listed Private E       ETF      USD      9989   \n",
       "QAI     NYLI Hedge Multi-Strategy Track       ETF      USD     66176   \n",
       "HYG     iShares iBoxx $ High Yield Corp       ETF      USD  31335696   \n",
       "DBC     Invesco DB Commodity Index Trac       ETF      USD    816794   \n",
       "IYR        iShares U.S. Real Estate ETF       ETF      USD   3310338   \n",
       "IEF     iShares 7-10 Year Treasury Bond       ETF      USD   7913316   \n",
       "BWX     SPDR Bloomberg International Tr       ETF      USD    138010   \n",
       "TIP               iShares TIPS Bond ETF       ETF      USD   2373593   \n",
       "SHV     iShares Short Treasury Bond ETF       ETF      USD  10162795   \n",
       "\n",
       "         totalAssets                                longBusinessSummary  \n",
       "ticker                                                                   \n",
       "SPY     566341992448  The Trust seeks to achieve its investment obje...  \n",
       "EFA      57923706880  The fund generally will invest at least 80% of...  \n",
       "EEM      17685696512  The fund generally will invest at least 80% of...  \n",
       "PSP        248054672  The fund generally will invest at least 90% of...  \n",
       "QAI        574961600  The fund is a \"fund of funds\" which means it i...  \n",
       "HYG      16903942144  The underlying index is a rules-based index co...  \n",
       "DBC       1496658176  The fund pursues its investment objective by i...  \n",
       "IYR       4560725504  The fund seeks to track the investment results...  \n",
       "IEF      31752601600  The underlying index measures the performance ...  \n",
       "BWX       1028062656  The fund generally invests substantially all, ...  \n",
       "TIP      18455549952  The index tracks the performance of inflation-...  \n",
       "SHV      19172577280  The fund will invest at least 80% of its asset...  "
      ]
     },
     "execution_count": 5,
     "metadata": {},
     "output_type": "execute_result"
    }
   ],
   "source": [
    "info"
   ]
  },
  {
   "cell_type": "code",
   "execution_count": 6,
   "id": "8d870364",
   "metadata": {},
   "outputs": [
    {
     "data": {
      "text/html": [
       "<div>\n",
       "<style scoped>\n",
       "    .dataframe tbody tr th:only-of-type {\n",
       "        vertical-align: middle;\n",
       "    }\n",
       "\n",
       "    .dataframe tbody tr th {\n",
       "        vertical-align: top;\n",
       "    }\n",
       "\n",
       "    .dataframe thead th {\n",
       "        text-align: right;\n",
       "    }\n",
       "</style>\n",
       "<table border=\"1\" class=\"dataframe\">\n",
       "  <thead>\n",
       "    <tr style=\"text-align: right;\">\n",
       "      <th></th>\n",
       "      <th>SPY</th>\n",
       "      <th>EFA</th>\n",
       "      <th>EEM</th>\n",
       "      <th>PSP</th>\n",
       "      <th>QAI</th>\n",
       "      <th>HYG</th>\n",
       "      <th>DBC</th>\n",
       "      <th>IYR</th>\n",
       "      <th>IEF</th>\n",
       "      <th>BWX</th>\n",
       "      <th>TIP</th>\n",
       "    </tr>\n",
       "    <tr>\n",
       "      <th>Date</th>\n",
       "      <th></th>\n",
       "      <th></th>\n",
       "      <th></th>\n",
       "      <th></th>\n",
       "      <th></th>\n",
       "      <th></th>\n",
       "      <th></th>\n",
       "      <th></th>\n",
       "      <th></th>\n",
       "      <th></th>\n",
       "      <th></th>\n",
       "    </tr>\n",
       "  </thead>\n",
       "  <tbody>\n",
       "    <tr>\n",
       "      <th>2011-02-28</th>\n",
       "      <td>0.0346</td>\n",
       "      <td>0.0354</td>\n",
       "      <td>-0.0005</td>\n",
       "      <td>0.0401</td>\n",
       "      <td>0.0025</td>\n",
       "      <td>0.0143</td>\n",
       "      <td>0.0416</td>\n",
       "      <td>0.0451</td>\n",
       "      <td>-0.0022</td>\n",
       "      <td>0.0065</td>\n",
       "      <td>0.0071</td>\n",
       "    </tr>\n",
       "    <tr>\n",
       "      <th>2011-03-31</th>\n",
       "      <td>-0.0001</td>\n",
       "      <td>-0.0241</td>\n",
       "      <td>0.0627</td>\n",
       "      <td>0.0165</td>\n",
       "      <td>0.0053</td>\n",
       "      <td>0.0003</td>\n",
       "      <td>0.0264</td>\n",
       "      <td>-0.0111</td>\n",
       "      <td>-0.0017</td>\n",
       "      <td>0.0083</td>\n",
       "      <td>0.0117</td>\n",
       "    </tr>\n",
       "    <tr>\n",
       "      <th>2011-04-30</th>\n",
       "      <td>0.0284</td>\n",
       "      <td>0.0557</td>\n",
       "      <td>0.0268</td>\n",
       "      <td>0.0581</td>\n",
       "      <td>0.0185</td>\n",
       "      <td>0.0154</td>\n",
       "      <td>0.0450</td>\n",
       "      <td>0.0461</td>\n",
       "      <td>0.0179</td>\n",
       "      <td>0.0483</td>\n",
       "      <td>0.0232</td>\n",
       "    </tr>\n",
       "    <tr>\n",
       "      <th>2011-05-31</th>\n",
       "      <td>-0.0111</td>\n",
       "      <td>-0.0220</td>\n",
       "      <td>-0.0293</td>\n",
       "      <td>-0.0415</td>\n",
       "      <td>0.0001</td>\n",
       "      <td>0.0014</td>\n",
       "      <td>-0.0516</td>\n",
       "      <td>0.0102</td>\n",
       "      <td>0.0252</td>\n",
       "      <td>-0.0134</td>\n",
       "      <td>0.0028</td>\n",
       "    </tr>\n",
       "    <tr>\n",
       "      <th>2011-06-30</th>\n",
       "      <td>-0.0170</td>\n",
       "      <td>-0.0123</td>\n",
       "      <td>-0.0095</td>\n",
       "      <td>-0.0428</td>\n",
       "      <td>-0.0109</td>\n",
       "      <td>-0.0059</td>\n",
       "      <td>-0.0428</td>\n",
       "      <td>-0.0312</td>\n",
       "      <td>-0.0052</td>\n",
       "      <td>-0.0003</td>\n",
       "      <td>0.0074</td>\n",
       "    </tr>\n",
       "    <tr>\n",
       "      <th>...</th>\n",
       "      <td>...</td>\n",
       "      <td>...</td>\n",
       "      <td>...</td>\n",
       "      <td>...</td>\n",
       "      <td>...</td>\n",
       "      <td>...</td>\n",
       "      <td>...</td>\n",
       "      <td>...</td>\n",
       "      <td>...</td>\n",
       "      <td>...</td>\n",
       "      <td>...</td>\n",
       "    </tr>\n",
       "    <tr>\n",
       "      <th>2024-05-31</th>\n",
       "      <td>0.0460</td>\n",
       "      <td>0.0460</td>\n",
       "      <td>0.0149</td>\n",
       "      <td>0.0345</td>\n",
       "      <td>0.0089</td>\n",
       "      <td>0.0118</td>\n",
       "      <td>-0.0076</td>\n",
       "      <td>0.0447</td>\n",
       "      <td>0.0134</td>\n",
       "      <td>0.0096</td>\n",
       "      <td>0.0132</td>\n",
       "    </tr>\n",
       "    <tr>\n",
       "      <th>2024-06-30</th>\n",
       "      <td>0.0311</td>\n",
       "      <td>-0.0225</td>\n",
       "      <td>0.0220</td>\n",
       "      <td>-0.0213</td>\n",
       "      <td>-0.0010</td>\n",
       "      <td>0.0006</td>\n",
       "      <td>-0.0059</td>\n",
       "      <td>0.0146</td>\n",
       "      <td>0.0080</td>\n",
       "      <td>-0.0137</td>\n",
       "      <td>0.0034</td>\n",
       "    </tr>\n",
       "    <tr>\n",
       "      <th>2024-07-31</th>\n",
       "      <td>0.0075</td>\n",
       "      <td>0.0213</td>\n",
       "      <td>0.0039</td>\n",
       "      <td>0.0640</td>\n",
       "      <td>0.0067</td>\n",
       "      <td>0.0189</td>\n",
       "      <td>-0.0326</td>\n",
       "      <td>0.0716</td>\n",
       "      <td>0.0244</td>\n",
       "      <td>0.0339</td>\n",
       "      <td>0.0127</td>\n",
       "    </tr>\n",
       "    <tr>\n",
       "      <th>2024-08-31</th>\n",
       "      <td>0.0184</td>\n",
       "      <td>0.0276</td>\n",
       "      <td>0.0048</td>\n",
       "      <td>-0.0038</td>\n",
       "      <td>0.0027</td>\n",
       "      <td>0.0105</td>\n",
       "      <td>-0.0258</td>\n",
       "      <td>0.0490</td>\n",
       "      <td>0.0085</td>\n",
       "      <td>0.0255</td>\n",
       "      <td>0.0030</td>\n",
       "    </tr>\n",
       "    <tr>\n",
       "      <th>2024-09-30</th>\n",
       "      <td>0.0123</td>\n",
       "      <td>0.0067</td>\n",
       "      <td>0.0701</td>\n",
       "      <td>0.0518</td>\n",
       "      <td>0.0103</td>\n",
       "      <td>0.0131</td>\n",
       "      <td>0.0049</td>\n",
       "      <td>0.0188</td>\n",
       "      <td>0.0120</td>\n",
       "      <td>0.0233</td>\n",
       "      <td>0.0110</td>\n",
       "    </tr>\n",
       "  </tbody>\n",
       "</table>\n",
       "<p>164 rows × 11 columns</p>\n",
       "</div>"
      ],
      "text/plain": [
       "               SPY     EFA     EEM     PSP     QAI     HYG     DBC     IYR  \\\n",
       "Date                                                                         \n",
       "2011-02-28  0.0346  0.0354 -0.0005  0.0401  0.0025  0.0143  0.0416  0.0451   \n",
       "2011-03-31 -0.0001 -0.0241  0.0627  0.0165  0.0053  0.0003  0.0264 -0.0111   \n",
       "2011-04-30  0.0284  0.0557  0.0268  0.0581  0.0185  0.0154  0.0450  0.0461   \n",
       "2011-05-31 -0.0111 -0.0220 -0.0293 -0.0415  0.0001  0.0014 -0.0516  0.0102   \n",
       "2011-06-30 -0.0170 -0.0123 -0.0095 -0.0428 -0.0109 -0.0059 -0.0428 -0.0312   \n",
       "...            ...     ...     ...     ...     ...     ...     ...     ...   \n",
       "2024-05-31  0.0460  0.0460  0.0149  0.0345  0.0089  0.0118 -0.0076  0.0447   \n",
       "2024-06-30  0.0311 -0.0225  0.0220 -0.0213 -0.0010  0.0006 -0.0059  0.0146   \n",
       "2024-07-31  0.0075  0.0213  0.0039  0.0640  0.0067  0.0189 -0.0326  0.0716   \n",
       "2024-08-31  0.0184  0.0276  0.0048 -0.0038  0.0027  0.0105 -0.0258  0.0490   \n",
       "2024-09-30  0.0123  0.0067  0.0701  0.0518  0.0103  0.0131  0.0049  0.0188   \n",
       "\n",
       "               IEF     BWX    TIP  \n",
       "Date                               \n",
       "2011-02-28 -0.0022  0.0065 0.0071  \n",
       "2011-03-31 -0.0017  0.0083 0.0117  \n",
       "2011-04-30  0.0179  0.0483 0.0232  \n",
       "2011-05-31  0.0252 -0.0134 0.0028  \n",
       "2011-06-30 -0.0052 -0.0003 0.0074  \n",
       "...            ...     ...    ...  \n",
       "2024-05-31  0.0134  0.0096 0.0132  \n",
       "2024-06-30  0.0080 -0.0137 0.0034  \n",
       "2024-07-31  0.0244  0.0339 0.0127  \n",
       "2024-08-31  0.0085  0.0255 0.0030  \n",
       "2024-09-30  0.0120  0.0233 0.0110  \n",
       "\n",
       "[164 rows x 11 columns]"
      ]
     },
     "execution_count": 6,
     "metadata": {},
     "output_type": "execute_result"
    }
   ],
   "source": [
    "retsx"
   ]
  },
  {
   "cell_type": "markdown",
   "id": "2d749f74",
   "metadata": {},
   "source": [
    "## Functions that will be useful\n",
    "### Basic performance metrics"
   ]
  },
  {
   "cell_type": "code",
   "execution_count": 7,
   "id": "80fbeaa9",
   "metadata": {},
   "outputs": [],
   "source": [
    "def performanceMetrics(returns,annualization=1):\n",
    "    metrics = pd.DataFrame(index=returns.columns)\n",
    "    metrics['Mean'] = returns.mean() * annualization\n",
    "    metrics['Vol'] = returns.std() * np.sqrt(annualization)\n",
    "    metrics['Sharpe'] = (returns.mean() / returns.std()) * np.sqrt(annualization)\n",
    "\n",
    "    metrics['Min'] = returns.min()\n",
    "    metrics['Max'] = returns.max()\n",
    "\n",
    "    return metrics"
   ]
  },
  {
   "cell_type": "markdown",
   "id": "6799081c",
   "metadata": {},
   "source": [
    "### Tangency portfolio"
   ]
  },
  {
   "cell_type": "code",
   "execution_count": 8,
   "id": "8116bab7",
   "metadata": {},
   "outputs": [],
   "source": [
    "def tangency_weights(returns,dropna=True,scale_cov=1):\n",
    "    if dropna:\n",
    "        returns = returns.dropna()\n",
    "\n",
    "    covmat_full = returns.cov()\n",
    "    covmat_diag = np.diag(np.diag(covmat_full))\n",
    "    covmat = scale_cov * covmat_full + (1-scale_cov) * covmat_diag\n",
    "\n",
    "    weights = np.linalg.solve(covmat,returns.mean())\n",
    "    weights = weights / weights.sum()\n",
    "\n",
    "    return pd.DataFrame(weights, index=returns.columns)"
   ]
  },
  {
   "cell_type": "markdown",
   "id": "9f2e86c1",
   "metadata": {},
   "source": [
    "## **<span style=\"color:red\">Solution 2.1</span>**"
   ]
  },
  {
   "cell_type": "code",
   "execution_count": 9,
   "id": "b6a4ff54",
   "metadata": {},
   "outputs": [
    {
     "data": {
      "text/html": [
       "<div>\n",
       "<style scoped>\n",
       "    .dataframe tbody tr th:only-of-type {\n",
       "        vertical-align: middle;\n",
       "    }\n",
       "\n",
       "    .dataframe tbody tr th {\n",
       "        vertical-align: top;\n",
       "    }\n",
       "\n",
       "    .dataframe thead th {\n",
       "        text-align: right;\n",
       "    }\n",
       "</style>\n",
       "<table border=\"1\" class=\"dataframe\">\n",
       "  <thead>\n",
       "    <tr style=\"text-align: right;\">\n",
       "      <th></th>\n",
       "      <th>Mean</th>\n",
       "      <th>Vol</th>\n",
       "      <th>Sharpe</th>\n",
       "      <th>Min</th>\n",
       "      <th>Max</th>\n",
       "    </tr>\n",
       "  </thead>\n",
       "  <tbody>\n",
       "    <tr>\n",
       "      <th>SPY</th>\n",
       "      <td>0.1270</td>\n",
       "      <td>0.1431</td>\n",
       "      <td>0.8876</td>\n",
       "      <td>-0.1290</td>\n",
       "      <td>0.1268</td>\n",
       "    </tr>\n",
       "    <tr>\n",
       "      <th>HYG</th>\n",
       "      <td>0.0374</td>\n",
       "      <td>0.0773</td>\n",
       "      <td>0.4833</td>\n",
       "      <td>-0.1044</td>\n",
       "      <td>0.0850</td>\n",
       "    </tr>\n",
       "    <tr>\n",
       "      <th>IYR</th>\n",
       "      <td>0.0779</td>\n",
       "      <td>0.1696</td>\n",
       "      <td>0.4594</td>\n",
       "      <td>-0.2005</td>\n",
       "      <td>0.1320</td>\n",
       "    </tr>\n",
       "    <tr>\n",
       "      <th>PSP</th>\n",
       "      <td>0.0929</td>\n",
       "      <td>0.2152</td>\n",
       "      <td>0.4314</td>\n",
       "      <td>-0.2789</td>\n",
       "      <td>0.1784</td>\n",
       "    </tr>\n",
       "    <tr>\n",
       "      <th>EFA</th>\n",
       "      <td>0.0550</td>\n",
       "      <td>0.1522</td>\n",
       "      <td>0.3616</td>\n",
       "      <td>-0.1452</td>\n",
       "      <td>0.1429</td>\n",
       "    </tr>\n",
       "    <tr>\n",
       "      <th>TIP</th>\n",
       "      <td>0.0168</td>\n",
       "      <td>0.0513</td>\n",
       "      <td>0.3286</td>\n",
       "      <td>-0.0676</td>\n",
       "      <td>0.0422</td>\n",
       "    </tr>\n",
       "    <tr>\n",
       "      <th>QAI</th>\n",
       "      <td>0.0150</td>\n",
       "      <td>0.0490</td>\n",
       "      <td>0.3052</td>\n",
       "      <td>-0.0605</td>\n",
       "      <td>0.0364</td>\n",
       "    </tr>\n",
       "    <tr>\n",
       "      <th>IEF</th>\n",
       "      <td>0.0139</td>\n",
       "      <td>0.0632</td>\n",
       "      <td>0.2206</td>\n",
       "      <td>-0.0476</td>\n",
       "      <td>0.0461</td>\n",
       "    </tr>\n",
       "    <tr>\n",
       "      <th>EEM</th>\n",
       "      <td>0.0270</td>\n",
       "      <td>0.1799</td>\n",
       "      <td>0.1498</td>\n",
       "      <td>-0.1791</td>\n",
       "      <td>0.1628</td>\n",
       "    </tr>\n",
       "    <tr>\n",
       "      <th>DBC</th>\n",
       "      <td>-0.0091</td>\n",
       "      <td>0.1685</td>\n",
       "      <td>-0.0539</td>\n",
       "      <td>-0.1776</td>\n",
       "      <td>0.1022</td>\n",
       "    </tr>\n",
       "    <tr>\n",
       "      <th>BWX</th>\n",
       "      <td>-0.0119</td>\n",
       "      <td>0.0817</td>\n",
       "      <td>-0.1456</td>\n",
       "      <td>-0.0694</td>\n",
       "      <td>0.0780</td>\n",
       "    </tr>\n",
       "  </tbody>\n",
       "</table>\n",
       "</div>"
      ],
      "text/plain": [
       "       Mean    Vol  Sharpe     Min    Max\n",
       "SPY  0.1270 0.1431  0.8876 -0.1290 0.1268\n",
       "HYG  0.0374 0.0773  0.4833 -0.1044 0.0850\n",
       "IYR  0.0779 0.1696  0.4594 -0.2005 0.1320\n",
       "PSP  0.0929 0.2152  0.4314 -0.2789 0.1784\n",
       "EFA  0.0550 0.1522  0.3616 -0.1452 0.1429\n",
       "TIP  0.0168 0.0513  0.3286 -0.0676 0.0422\n",
       "QAI  0.0150 0.0490  0.3052 -0.0605 0.0364\n",
       "IEF  0.0139 0.0632  0.2206 -0.0476 0.0461\n",
       "EEM  0.0270 0.1799  0.1498 -0.1791 0.1628\n",
       "DBC -0.0091 0.1685 -0.0539 -0.1776 0.1022\n",
       "BWX -0.0119 0.0817 -0.1456 -0.0694 0.0780"
      ]
     },
     "execution_count": 9,
     "metadata": {},
     "output_type": "execute_result"
    }
   ],
   "source": [
    "mets = performanceMetrics(retsx,annualization=12)\n",
    "mets.sort_values('Sharpe',ascending=False)"
   ]
  },
  {
   "cell_type": "markdown",
   "id": "e5d769fa",
   "metadata": {},
   "source": [
    "The high/low Sharpe stand out clearly:\n",
    "* Highest Sharpe: `SPY`, S&P 500 equities\n",
    "* Lowest Sharpe: `BWX`, international Treasury bonds (investment grade)"
   ]
  },
  {
   "cell_type": "markdown",
   "id": "b7f69a9c",
   "metadata": {},
   "source": [
    "## **<span style=\"color:red\">Solution 2.2</span>**"
   ]
  },
  {
   "cell_type": "code",
   "execution_count": 10,
   "id": "93283672",
   "metadata": {},
   "outputs": [
    {
     "data": {
      "image/png": "[encoded data removed]",
      "text/plain": [
       "<Figure size 1200x600 with 2 Axes>"
      ]
     },
     "metadata": {},
     "output_type": "display_data"
    }
   ],
   "source": [
    "corrmat = retsx.corr()\n",
    "corrmat[corrmat==1] = None\n",
    "sns.heatmap(corrmat,annot=True,fmt='.0%');"
   ]
  },
  {
   "cell_type": "code",
   "execution_count": 11,
   "id": "45e95b70",
   "metadata": {},
   "outputs": [
    {
     "name": "stdout",
     "output_type": "stream",
     "text": [
      "MIN Correlation pair is ('DBC', 'IEF')\n",
      "MAX Correlation pair is ('EFA', 'PSP')\n"
     ]
    }
   ],
   "source": [
    "corr_rank = corrmat.unstack().sort_values().dropna()\n",
    "pair_max = corr_rank.index[-1]\n",
    "pair_min = corr_rank.index[0]\n",
    "\n",
    "print(f'MIN Correlation pair is {pair_min}')\n",
    "print(f'MAX Correlation pair is {pair_max}')"
   ]
  },
  {
   "cell_type": "markdown",
   "id": "0b673495",
   "metadata": {},
   "source": [
    "### TIPS\n",
    "\n",
    "TIPS have **substantially** outperformed both domestic bonds (`IEF`) and international bonds (`BWX`) in terms of mean, vol, and Sharpe.\n",
    "\n",
    "* TIPS have an above-average Sharpe ratio, (relative to these 11 assets.)\n",
    "* TIPS have a low mean, but a very low volatility. \n",
    "\n",
    "Regarding correlation,\n",
    "* TIPS have low correlations to most the other assets.\n",
    "* TIPS have substantial correlation to IEF and BWX. But these correlations are ~60% and 70%--well below the correlation between SPY and most the equity-based investments. "
   ]
  },
  {
   "cell_type": "markdown",
   "id": "0bf3a275",
   "metadata": {},
   "source": [
    "## **<span style=\"color:red\">Solution 2.3</span>**"
   ]
  },
  {
   "cell_type": "code",
   "execution_count": 12,
   "id": "e87c5c08",
   "metadata": {},
   "outputs": [
    {
     "data": {
      "text/html": [
       "<div>\n",
       "<style scoped>\n",
       "    .dataframe tbody tr th:only-of-type {\n",
       "        vertical-align: middle;\n",
       "    }\n",
       "\n",
       "    .dataframe tbody tr th {\n",
       "        vertical-align: top;\n",
       "    }\n",
       "\n",
       "    .dataframe thead th {\n",
       "        text-align: right;\n",
       "    }\n",
       "</style>\n",
       "<table border=\"1\" class=\"dataframe\">\n",
       "  <thead>\n",
       "    <tr style=\"text-align: right;\">\n",
       "      <th></th>\n",
       "      <th>Mean</th>\n",
       "      <th>Vol</th>\n",
       "      <th>Sharpe</th>\n",
       "      <th>Min</th>\n",
       "      <th>Max</th>\n",
       "    </tr>\n",
       "  </thead>\n",
       "  <tbody>\n",
       "    <tr>\n",
       "      <th>tangency</th>\n",
       "      <td>-0.5273</td>\n",
       "      <td>0.3285</td>\n",
       "      <td>-1.6050</td>\n",
       "      <td>-0.2935</td>\n",
       "      <td>0.2436</td>\n",
       "    </tr>\n",
       "  </tbody>\n",
       "</table>\n",
       "</div>"
      ],
      "text/plain": [
       "            Mean    Vol  Sharpe     Min    Max\n",
       "tangency -0.5273 0.3285 -1.6050 -0.2935 0.2436"
      ]
     },
     "execution_count": 12,
     "metadata": {},
     "output_type": "execute_result"
    }
   ],
   "source": [
    "wts = pd.DataFrame(index=retsx.columns)\n",
    "wts['tangency'] = tangency_weights(retsx)\n",
    "\n",
    "port = pd.DataFrame(retsx @ wts['tangency'],columns=['tangency'])\n",
    "performanceMetrics(port,annualization=12)"
   ]
  },
  {
   "cell_type": "code",
   "execution_count": 13,
   "id": "a0d3deb2",
   "metadata": {},
   "outputs": [
    {
     "data": {
      "image/png": "[encoded data removed]",
      "text/plain": [
       "<Figure size 1200x600 with 1 Axes>"
      ]
     },
     "metadata": {},
     "output_type": "display_data"
    }
   ],
   "source": [
    "wts.plot.bar();"
   ]
  },
  {
   "cell_type": "markdown",
   "id": "1a90d475",
   "metadata": {},
   "source": [
    "Note that the performance stats of the tangency portfolio barely change after dropping TIPS. \n",
    "\n",
    "Furthermore, the weights in the other assets do not change substantially from dropping TIPS.\n",
    "\n",
    "This suggests TIPS are not substantially adding to the investment opportunity set relative to the mean-variance outcomes of the other 10 assets."
   ]
  },
  {
   "cell_type": "markdown",
   "id": "53f8b2a7",
   "metadata": {},
   "source": [
    "### Sharpe aligned w/ Weights?\n",
    "\n",
    "Consider whether the Sharpe rankings align with the weight rankings..."
   ]
  },
  {
   "cell_type": "code",
   "execution_count": 14,
   "id": "319f0e53",
   "metadata": {},
   "outputs": [
    {
     "data": {
      "text/html": [
       "<div>\n",
       "<style scoped>\n",
       "    .dataframe tbody tr th:only-of-type {\n",
       "        vertical-align: middle;\n",
       "    }\n",
       "\n",
       "    .dataframe tbody tr th {\n",
       "        vertical-align: top;\n",
       "    }\n",
       "\n",
       "    .dataframe thead th {\n",
       "        text-align: right;\n",
       "    }\n",
       "</style>\n",
       "<table border=\"1\" class=\"dataframe\">\n",
       "  <thead>\n",
       "    <tr style=\"text-align: right;\">\n",
       "      <th></th>\n",
       "      <th>tangency</th>\n",
       "      <th>Sharpe</th>\n",
       "    </tr>\n",
       "  </thead>\n",
       "  <tbody>\n",
       "    <tr>\n",
       "      <th>QAI</th>\n",
       "      <td>7.2206</td>\n",
       "      <td>0.3052</td>\n",
       "    </tr>\n",
       "    <tr>\n",
       "      <th>BWX</th>\n",
       "      <td>2.7303</td>\n",
       "      <td>-0.1456</td>\n",
       "    </tr>\n",
       "    <tr>\n",
       "      <th>IYR</th>\n",
       "      <td>0.8771</td>\n",
       "      <td>0.4594</td>\n",
       "    </tr>\n",
       "    <tr>\n",
       "      <th>EFA</th>\n",
       "      <td>0.5307</td>\n",
       "      <td>0.3616</td>\n",
       "    </tr>\n",
       "    <tr>\n",
       "      <th>TIP</th>\n",
       "      <td>0.5104</td>\n",
       "      <td>0.3286</td>\n",
       "    </tr>\n",
       "    <tr>\n",
       "      <th>PSP</th>\n",
       "      <td>0.2770</td>\n",
       "      <td>0.4314</td>\n",
       "    </tr>\n",
       "    <tr>\n",
       "      <th>DBC</th>\n",
       "      <td>-0.1112</td>\n",
       "      <td>-0.0539</td>\n",
       "    </tr>\n",
       "    <tr>\n",
       "      <th>EEM</th>\n",
       "      <td>-0.6157</td>\n",
       "      <td>0.1498</td>\n",
       "    </tr>\n",
       "    <tr>\n",
       "      <th>HYG</th>\n",
       "      <td>-0.8326</td>\n",
       "      <td>0.4833</td>\n",
       "    </tr>\n",
       "    <tr>\n",
       "      <th>IEF</th>\n",
       "      <td>-4.6825</td>\n",
       "      <td>0.2206</td>\n",
       "    </tr>\n",
       "    <tr>\n",
       "      <th>SPY</th>\n",
       "      <td>-4.9041</td>\n",
       "      <td>0.8876</td>\n",
       "    </tr>\n",
       "  </tbody>\n",
       "</table>\n",
       "</div>"
      ],
      "text/plain": [
       "     tangency  Sharpe\n",
       "QAI    7.2206  0.3052\n",
       "BWX    2.7303 -0.1456\n",
       "IYR    0.8771  0.4594\n",
       "EFA    0.5307  0.3616\n",
       "TIP    0.5104  0.3286\n",
       "PSP    0.2770  0.4314\n",
       "DBC   -0.1112 -0.0539\n",
       "EEM   -0.6157  0.1498\n",
       "HYG   -0.8326  0.4833\n",
       "IEF   -4.6825  0.2206\n",
       "SPY   -4.9041  0.8876"
      ]
     },
     "execution_count": 14,
     "metadata": {},
     "output_type": "execute_result"
    }
   ],
   "source": [
    "pd.concat([wts['tangency'],mets['Sharpe']],axis=1).sort_values('tangency',ascending=False)"
   ]
  },
  {
   "cell_type": "markdown",
   "id": "4b96b440",
   "metadata": {},
   "source": [
    "We see that the tangency weights ranking is quite different from the Sharpe rankings. (Correlation between the two series is only about 50%.)"
   ]
  },
  {
   "cell_type": "markdown",
   "id": "5188e3e0",
   "metadata": {},
   "source": [
    "## **<span style=\"color:red\">Solution 2.4</span>**"
   ]
  },
  {
   "cell_type": "markdown",
   "id": "dcd9f47b",
   "metadata": {},
   "source": [
    "#### Weights if drop TIPS from investment set"
   ]
  },
  {
   "cell_type": "code",
   "execution_count": 15,
   "id": "f1c03af8",
   "metadata": {},
   "outputs": [],
   "source": [
    "wts['tangency ex tips'] = tangency_weights(retsx.drop(columns=['TIP']))\n",
    "wts.loc['TIP','tangency ex tips'] = 0"
   ]
  },
  {
   "cell_type": "markdown",
   "id": "b0a9cc2c",
   "metadata": {},
   "source": [
    "#### Weights if adjust TIPS mean upward"
   ]
  },
  {
   "cell_type": "code",
   "execution_count": 16,
   "id": "0cbb2e68",
   "metadata": {},
   "outputs": [],
   "source": [
    "TIPS_ADJ = .0012\n",
    "retsx_adj = retsx.copy()\n",
    "retsx_adj['TIP'] += TIPS_ADJ\n",
    "\n",
    "wts['tan tips adj'] = tangency_weights(retsx_adj)"
   ]
  },
  {
   "cell_type": "code",
   "execution_count": 17,
   "id": "ac272b0e",
   "metadata": {},
   "outputs": [
    {
     "data": {
      "image/png": "[encoded data removed]",
      "text/plain": [
       "<Figure size 1200x600 with 1 Axes>"
      ]
     },
     "metadata": {},
     "output_type": "display_data"
    }
   ],
   "source": [
    "wts.plot.bar();"
   ]
  },
  {
   "cell_type": "code",
   "execution_count": 18,
   "id": "2a8cc0ba",
   "metadata": {},
   "outputs": [
    {
     "data": {
      "text/html": [
       "<div>\n",
       "<style scoped>\n",
       "    .dataframe tbody tr th:only-of-type {\n",
       "        vertical-align: middle;\n",
       "    }\n",
       "\n",
       "    .dataframe tbody tr th {\n",
       "        vertical-align: top;\n",
       "    }\n",
       "\n",
       "    .dataframe thead th {\n",
       "        text-align: right;\n",
       "    }\n",
       "</style>\n",
       "<table border=\"1\" class=\"dataframe\">\n",
       "  <thead>\n",
       "    <tr style=\"text-align: right;\">\n",
       "      <th></th>\n",
       "      <th>Mean</th>\n",
       "      <th>Vol</th>\n",
       "      <th>Sharpe</th>\n",
       "      <th>Min</th>\n",
       "      <th>Max</th>\n",
       "    </tr>\n",
       "  </thead>\n",
       "  <tbody>\n",
       "    <tr>\n",
       "      <th>tangency</th>\n",
       "      <td>-0.5273</td>\n",
       "      <td>0.3285</td>\n",
       "      <td>-1.6050</td>\n",
       "      <td>-0.2935</td>\n",
       "      <td>0.2436</td>\n",
       "    </tr>\n",
       "    <tr>\n",
       "      <th>tan extips</th>\n",
       "      <td>-0.5808</td>\n",
       "      <td>0.3621</td>\n",
       "      <td>-1.6039</td>\n",
       "      <td>-0.3317</td>\n",
       "      <td>0.2668</td>\n",
       "    </tr>\n",
       "    <tr>\n",
       "      <th>tips adj</th>\n",
       "      <td>-6.1740</td>\n",
       "      <td>3.6558</td>\n",
       "      <td>-1.6888</td>\n",
       "      <td>-3.8923</td>\n",
       "      <td>2.3362</td>\n",
       "    </tr>\n",
       "  </tbody>\n",
       "</table>\n",
       "</div>"
      ],
      "text/plain": [
       "              Mean    Vol  Sharpe     Min    Max\n",
       "tangency   -0.5273 0.3285 -1.6050 -0.2935 0.2436\n",
       "tan extips -0.5808 0.3621 -1.6039 -0.3317 0.2668\n",
       "tips adj   -6.1740 3.6558 -1.6888 -3.8923 2.3362"
      ]
     },
     "execution_count": 18,
     "metadata": {},
     "output_type": "execute_result"
    }
   ],
   "source": [
    "port['tan extips'] = pd.DataFrame(retsx @ wts['tangency ex tips'],columns=['tangency ex tips'])\n",
    "port['tips adj'] = retsx_adj @ wts['tan tips adj']\n",
    "performanceMetrics(port,annualization=12)"
   ]
  },
  {
   "cell_type": "markdown",
   "id": "088d67a8",
   "metadata": {},
   "source": [
    "#### Uncertainty in mean returns\n",
    "Note that our adjustment to the mean return of TIPS is not so large relative to the standard error of TIPS."
   ]
  },
  {
   "cell_type": "code",
   "execution_count": 19,
   "id": "e8a088cf",
   "metadata": {},
   "outputs": [
    {
     "name": "stdout",
     "output_type": "stream",
     "text": [
      "Standard error of mean of TIPS is equal to 0.0012\n"
     ]
    }
   ],
   "source": [
    "tips_se = retsx['TIP'].std()/np.sqrt(retsx.shape[0])\n",
    "print(f'Standard error of mean of TIPS is equal to {tips_se:0.4f}')"
   ]
  },
  {
   "cell_type": "markdown",
   "id": "25175ee6",
   "metadata": {},
   "source": [
    "### Conclusions on TIPS\n",
    "\n",
    "* Dropping TIPS from the investment set barely impacts the weights or the resulting performance.\n",
    "* Adjusting the mean of TIPS upward even just 1 standard error substantially impacts the allocations and moderately boosts the resulting performance.\n",
    "\n",
    "Based on just a mean-variance analysis, it seems one could reasonably go either way with TIPS as an alternate asset class. In the argument to keep it separate, there is more diversification between TIPS and bonds than between SPY and many other equity buckets Harvard has. On the other hand, TIPS mostly impact the allocation to domestic bonds and might be seen as another asset in that bucket."
   ]
  },
  {
   "cell_type": "markdown",
   "id": "51674d6a",
   "metadata": {},
   "source": [
    "***"
   ]
  },
  {
   "cell_type": "markdown",
   "id": "4e09d472",
   "metadata": {},
   "source": [
    "# 3. Allocations\n",
    "\n",
    "<i>This section is graded for a good-faith effort by your group. Submit your write-up- along with your supporting code."
   ]
  },
  {
   "cell_type": "markdown",
   "id": "8daba70e",
   "metadata": {},
   "source": [
    "* Continue with the same data file as the previous section.\n",
    "\n",
    "* Suppose the investor has a targeted mean excess return (per month) of $\\mutarg$ = 0.01."
   ]
  },
  {
   "cell_type": "markdown",
   "id": "5a3dde3a",
   "metadata": {},
   "source": [
    "Build the following portfolios:\n",
    "\n",
    "#### Equally-weighted (EW)\n",
    "Rescale the entire weighting vector to have target mean $\\mutarg$. Thus, the $i$ element of the weight vector is,\n",
    "$$\\wEW_i = \\frac{1}{n}$$\n",
    "\n",
    "#### “Risk-parity” (RP)\n",
    "Risk-parity is a term used in a variety of ways, but here we have in mind setting the weight of the portfolio to be proportional to the inverse of its full-sample variance estimate. Thus, the $i$ element of the weight vector is,\n",
    "$$\\wRP_i = \\frac{1}{\\sigma_i^2}$$\n",
    "\n",
    "#### Regularized (REG)\n",
    "Much like the Mean-Variance portfolio, set the weights proportional to \n",
    "$$\\wREG \\sim \\widehat{\\Sigma}^{-1}\\mux$$\n",
    "but this time, use a regularized covariance matrix,\n",
    "$$\\widehat{\\Sigma} = \\frac{\\Sigma + \\Sigma_D}{2}$$\n",
    "where $\\Sigma_D$ denotes a *diagonal* matrix of the security variances, with zeros in the off-diagonals.\n",
    "\n",
    "Thus, $\\widehat{\\Sigma}$ is obtained from the usual covariance matrix, $\\Sigma$, but shrinking all the covariances to half their estimated values. \n",
    "\n",
    "\n",
    "### Comparing\n",
    "\n",
    "In order to compare all these allocation methods, (those above, along with the tangency portfolio obtained in the previous section,) rescale each weight vector, such that it has targeted mean return of $\\mutarg$.\n",
    "\n",
    "* Calculate the performance of each of these portfolios over the sample.\n",
    "* Report their mean, volatility, and Sharpe ratio. \n",
    "* How do these compare across the four allocation methods?"
   ]
  },
  {
   "cell_type": "markdown",
   "id": "453b9e90",
   "metadata": {},
   "source": [
    "***"
   ]
  },
  {
   "cell_type": "markdown",
   "id": "a133018c",
   "metadata": {},
   "source": [
    "# **<span style=\"color:red\">Solution 3</span>**"
   ]
  },
  {
   "cell_type": "code",
   "execution_count": 20,
   "id": "da798703",
   "metadata": {},
   "outputs": [],
   "source": [
    "TARG_MEAN = .015"
   ]
  },
  {
   "cell_type": "code",
   "execution_count": 21,
   "id": "0ee42bec",
   "metadata": {},
   "outputs": [],
   "source": [
    "wts['equal weights'] = 1/len(retsx.columns)\n",
    "wts['risk parity'] = 1/retsx.var()\n",
    "wts['regularized'] = tangency_weights(retsx,scale_cov=.5)\n",
    "\n",
    "# rescale these to hit the target mean\n",
    "wts *= TARG_MEAN / (retsx.mean()@wts)"
   ]
  },
  {
   "cell_type": "code",
   "execution_count": 22,
   "id": "2c29c35e",
   "metadata": {},
   "outputs": [
    {
     "data": {
      "text/html": [
       "<div>\n",
       "<style scoped>\n",
       "    .dataframe tbody tr th:only-of-type {\n",
       "        vertical-align: middle;\n",
       "    }\n",
       "\n",
       "    .dataframe tbody tr th {\n",
       "        vertical-align: top;\n",
       "    }\n",
       "\n",
       "    .dataframe thead th {\n",
       "        text-align: right;\n",
       "    }\n",
       "</style>\n",
       "<table border=\"1\" class=\"dataframe\">\n",
       "  <thead>\n",
       "    <tr style=\"text-align: right;\">\n",
       "      <th></th>\n",
       "      <th>Mean</th>\n",
       "      <th>Vol</th>\n",
       "      <th>Sharpe</th>\n",
       "      <th>Min</th>\n",
       "      <th>Max</th>\n",
       "    </tr>\n",
       "  </thead>\n",
       "  <tbody>\n",
       "    <tr>\n",
       "      <th>tangency</th>\n",
       "      <td>0.1800</td>\n",
       "      <td>0.1121</td>\n",
       "      <td>1.6050</td>\n",
       "      <td>-0.0832</td>\n",
       "      <td>0.1002</td>\n",
       "    </tr>\n",
       "    <tr>\n",
       "      <th>tangency ex tips</th>\n",
       "      <td>0.1800</td>\n",
       "      <td>0.1122</td>\n",
       "      <td>1.6039</td>\n",
       "      <td>-0.0827</td>\n",
       "      <td>0.1028</td>\n",
       "    </tr>\n",
       "    <tr>\n",
       "      <th>tan tips adj</th>\n",
       "      <td>0.1800</td>\n",
       "      <td>0.1197</td>\n",
       "      <td>1.5041</td>\n",
       "      <td>-0.0783</td>\n",
       "      <td>0.1256</td>\n",
       "    </tr>\n",
       "    <tr>\n",
       "      <th>equal weights</th>\n",
       "      <td>0.1800</td>\n",
       "      <td>0.4373</td>\n",
       "      <td>0.4116</td>\n",
       "      <td>-0.5248</td>\n",
       "      <td>0.3482</td>\n",
       "    </tr>\n",
       "    <tr>\n",
       "      <th>risk parity</th>\n",
       "      <td>0.1800</td>\n",
       "      <td>0.4643</td>\n",
       "      <td>0.3877</td>\n",
       "      <td>-0.4832</td>\n",
       "      <td>0.3311</td>\n",
       "    </tr>\n",
       "    <tr>\n",
       "      <th>regularized</th>\n",
       "      <td>0.1800</td>\n",
       "      <td>0.1539</td>\n",
       "      <td>1.1695</td>\n",
       "      <td>-0.1055</td>\n",
       "      <td>0.1599</td>\n",
       "    </tr>\n",
       "  </tbody>\n",
       "</table>\n",
       "</div>"
      ],
      "text/plain": [
       "                   Mean    Vol  Sharpe     Min    Max\n",
       "tangency         0.1800 0.1121  1.6050 -0.0832 0.1002\n",
       "tangency ex tips 0.1800 0.1122  1.6039 -0.0827 0.1028\n",
       "tan tips adj     0.1800 0.1197  1.5041 -0.0783 0.1256\n",
       "equal weights    0.1800 0.4373  0.4116 -0.5248 0.3482\n",
       "risk parity      0.1800 0.4643  0.3877 -0.4832 0.3311\n",
       "regularized      0.1800 0.1539  1.1695 -0.1055 0.1599"
      ]
     },
     "execution_count": 22,
     "metadata": {},
     "output_type": "execute_result"
    }
   ],
   "source": [
    "performanceMetrics(retsx @ wts,annualization=12)"
   ]
  },
  {
   "cell_type": "markdown",
   "id": "a31f9247",
   "metadata": {},
   "source": [
    "***"
   ]
  },
  {
   "cell_type": "markdown",
   "id": "b1ec1e3e",
   "metadata": {},
   "source": [
    "# 4. Out-of-Sample Performance\n",
    "\n",
    "<i>This section is not graded, and you do not need to submit it. Still, we may discuss it in class, in which case, you would be expected to know it."
   ]
  },
  {
   "cell_type": "markdown",
   "id": "295fff5b",
   "metadata": {},
   "source": [
    "## 1. One-step Out-of-Sample (OOS) Performance\n",
    "Let’s divide the sample to both compute a portfolio and then check its performance out of sample.\n",
    "* Using only data through the end of `2022`, compute the weights built in Section 3.\n",
    "* Rescale the weights, (using just the in-sample data,) to set each allocation to have the same mean return of $\\mutarg$.\n",
    "* Using those weights, calculate the portfolio’s Sharpe ratio within that sample.\n",
    "* Again using those weights, (derived using data through `2022`,) calculate the portfolio’s OOS Sharpe ratio, which is based only on performance in `2023-2024`."
   ]
  },
  {
   "cell_type": "markdown",
   "id": "95b474fe",
   "metadata": {},
   "source": [
    "## 2. Rolling OOS Performance\n",
    "\n",
    "Iterate the Out-of-Sample performance every year, not just the final year. Namely,\n",
    "* Start at the end of `2015`, and calculate the weights through that time. Rescale them using the mean returns through that time.\n",
    "* Apply the weights to the returns in the upcoming year, (`2016`.)\n",
    "* Step forward a year in time, and recompute.\n",
    "* Continue until again calculating the weights through `2023` and applying them to the returns in `2024`.\n",
    "\n",
    "Report the mean, volatility, and Sharpe from this dynamic approach for the following portfolios:\n",
    "* mean-variance (tangency)\n",
    "* equally-weighted\n",
    "* risk-parity\n",
    "* regularized"
   ]
  },
  {
   "cell_type": "markdown",
   "id": "7d938f30",
   "metadata": {},
   "source": [
    "***"
   ]
  },
  {
   "cell_type": "markdown",
   "id": "4e9842fd",
   "metadata": {},
   "source": [
    "# **<span style=\"color:red\">Solution 4</span>**"
   ]
  },
  {
   "cell_type": "markdown",
   "id": "25522063",
   "metadata": {},
   "source": [
    "## **<span style=\"color:red\">Solution 4.1</span>**"
   ]
  },
  {
   "cell_type": "code",
   "execution_count": 23,
   "id": "75a3fb45",
   "metadata": {},
   "outputs": [
    {
     "data": {
      "text/html": [
       "<div>\n",
       "<style scoped>\n",
       "    .dataframe tbody tr th:only-of-type {\n",
       "        vertical-align: middle;\n",
       "    }\n",
       "\n",
       "    .dataframe tbody tr th {\n",
       "        vertical-align: top;\n",
       "    }\n",
       "\n",
       "    .dataframe thead th {\n",
       "        text-align: right;\n",
       "    }\n",
       "</style>\n",
       "<table border=\"1\" class=\"dataframe\">\n",
       "  <thead>\n",
       "    <tr style=\"text-align: right;\">\n",
       "      <th></th>\n",
       "      <th>Mean</th>\n",
       "      <th>Vol</th>\n",
       "      <th>Sharpe</th>\n",
       "      <th>Min</th>\n",
       "      <th>Max</th>\n",
       "    </tr>\n",
       "  </thead>\n",
       "  <tbody>\n",
       "    <tr>\n",
       "      <th>tangency</th>\n",
       "      <td>0.1800</td>\n",
       "      <td>0.1082</td>\n",
       "      <td>1.6634</td>\n",
       "      <td>-0.0797</td>\n",
       "      <td>0.1030</td>\n",
       "    </tr>\n",
       "    <tr>\n",
       "      <th>tangency ex tips</th>\n",
       "      <td>0.1800</td>\n",
       "      <td>0.1082</td>\n",
       "      <td>1.6634</td>\n",
       "      <td>-0.0797</td>\n",
       "      <td>0.1030</td>\n",
       "    </tr>\n",
       "    <tr>\n",
       "      <th>tan tips adj</th>\n",
       "      <td>0.1800</td>\n",
       "      <td>0.1149</td>\n",
       "      <td>1.5668</td>\n",
       "      <td>-0.0708</td>\n",
       "      <td>0.1139</td>\n",
       "    </tr>\n",
       "    <tr>\n",
       "      <th>equal weights</th>\n",
       "      <td>0.1800</td>\n",
       "      <td>0.4982</td>\n",
       "      <td>0.3613</td>\n",
       "      <td>-0.5983</td>\n",
       "      <td>0.3969</td>\n",
       "    </tr>\n",
       "    <tr>\n",
       "      <th>risk parity</th>\n",
       "      <td>0.1800</td>\n",
       "      <td>0.4960</td>\n",
       "      <td>0.3629</td>\n",
       "      <td>-0.5356</td>\n",
       "      <td>0.3700</td>\n",
       "    </tr>\n",
       "    <tr>\n",
       "      <th>regularized</th>\n",
       "      <td>0.1800</td>\n",
       "      <td>0.1572</td>\n",
       "      <td>1.1447</td>\n",
       "      <td>-0.1155</td>\n",
       "      <td>0.1668</td>\n",
       "    </tr>\n",
       "  </tbody>\n",
       "</table>\n",
       "</div>"
      ],
      "text/plain": [
       "                   Mean    Vol  Sharpe     Min    Max\n",
       "tangency         0.1800 0.1082  1.6634 -0.0797 0.1030\n",
       "tangency ex tips 0.1800 0.1082  1.6634 -0.0797 0.1030\n",
       "tan tips adj     0.1800 0.1149  1.5668 -0.0708 0.1139\n",
       "equal weights    0.1800 0.4982  0.3613 -0.5983 0.3969\n",
       "risk parity      0.1800 0.4960  0.3629 -0.5356 0.3700\n",
       "regularized      0.1800 0.1572  1.1447 -0.1155 0.1668"
      ]
     },
     "execution_count": 23,
     "metadata": {},
     "output_type": "execute_result"
    }
   ],
   "source": [
    "SPLIT0 = '2022'\n",
    "SPLIT1 = '2023'\n",
    "\n",
    "retsxIS = retsx.loc[:SPLIT0]\n",
    "retsxOOS = retsx.loc[SPLIT1:]\n",
    "\n",
    "retsxIS_adj = retsxIS.copy()\n",
    "retsxIS_adj['TIP'] += TIPS_ADJ\n",
    "\n",
    "wtsIS = pd.DataFrame(index=wts.index, columns=wts.columns, dtype=float)\n",
    "wtsIS['tangency'] = tangency_weights(retsxIS)\n",
    "\n",
    "tangency_ex_tips = tangency_weights(retsxIS.drop(columns=['TIP'])).values[:, 0]\n",
    "wtsIS.loc[wtsIS.index[:-1], 'tangency ex tips'] = tangency_ex_tips\n",
    "wtsIS.loc['TIP','tangency ex tips'] = 0\n",
    "\n",
    "wtsIS['tan tips adj'] = tangency_weights(retsxIS_adj)\n",
    "wtsIS['equal weights'] = 1/len(retsxIS.columns)\n",
    "wtsIS['risk parity'] = 1/retsxIS.var()\n",
    "wtsIS['regularized'] = tangency_weights(retsxIS,scale_cov=.5)\n",
    "\n",
    "# rescale these to hit the target mean\n",
    "wtsIS *= TARG_MEAN / (retsxIS.mean()@wtsIS)\n",
    "\n",
    "performanceMetrics(retsxIS @ wtsIS,annualization=12)"
   ]
  },
  {
   "cell_type": "code",
   "execution_count": 24,
   "id": "38a520cf",
   "metadata": {},
   "outputs": [
    {
     "data": {
      "text/html": [
       "<div>\n",
       "<style scoped>\n",
       "    .dataframe tbody tr th:only-of-type {\n",
       "        vertical-align: middle;\n",
       "    }\n",
       "\n",
       "    .dataframe tbody tr th {\n",
       "        vertical-align: top;\n",
       "    }\n",
       "\n",
       "    .dataframe thead th {\n",
       "        text-align: right;\n",
       "    }\n",
       "</style>\n",
       "<table border=\"1\" class=\"dataframe\">\n",
       "  <thead>\n",
       "    <tr style=\"text-align: right;\">\n",
       "      <th></th>\n",
       "      <th>Mean</th>\n",
       "      <th>Vol</th>\n",
       "      <th>Sharpe</th>\n",
       "      <th>Min</th>\n",
       "      <th>Max</th>\n",
       "    </tr>\n",
       "  </thead>\n",
       "  <tbody>\n",
       "    <tr>\n",
       "      <th>tangency</th>\n",
       "      <td>0.1492</td>\n",
       "      <td>0.1494</td>\n",
       "      <td>0.9987</td>\n",
       "      <td>-0.0646</td>\n",
       "      <td>0.1134</td>\n",
       "    </tr>\n",
       "    <tr>\n",
       "      <th>tangency ex tips</th>\n",
       "      <td>0.1494</td>\n",
       "      <td>0.1494</td>\n",
       "      <td>0.9997</td>\n",
       "      <td>-0.0646</td>\n",
       "      <td>0.1134</td>\n",
       "    </tr>\n",
       "    <tr>\n",
       "      <th>tan tips adj</th>\n",
       "      <td>0.1226</td>\n",
       "      <td>0.1568</td>\n",
       "      <td>0.7819</td>\n",
       "      <td>-0.0568</td>\n",
       "      <td>0.1273</td>\n",
       "    </tr>\n",
       "    <tr>\n",
       "      <th>equal weights</th>\n",
       "      <td>0.3766</td>\n",
       "      <td>0.5095</td>\n",
       "      <td>0.7393</td>\n",
       "      <td>-0.1834</td>\n",
       "      <td>0.3220</td>\n",
       "    </tr>\n",
       "    <tr>\n",
       "      <th>risk parity</th>\n",
       "      <td>0.2901</td>\n",
       "      <td>0.6193</td>\n",
       "      <td>0.4684</td>\n",
       "      <td>-0.2389</td>\n",
       "      <td>0.3668</td>\n",
       "    </tr>\n",
       "    <tr>\n",
       "      <th>regularized</th>\n",
       "      <td>0.2267</td>\n",
       "      <td>0.1470</td>\n",
       "      <td>1.5417</td>\n",
       "      <td>-0.0654</td>\n",
       "      <td>0.1013</td>\n",
       "    </tr>\n",
       "  </tbody>\n",
       "</table>\n",
       "</div>"
      ],
      "text/plain": [
       "                   Mean    Vol  Sharpe     Min    Max\n",
       "tangency         0.1492 0.1494  0.9987 -0.0646 0.1134\n",
       "tangency ex tips 0.1494 0.1494  0.9997 -0.0646 0.1134\n",
       "tan tips adj     0.1226 0.1568  0.7819 -0.0568 0.1273\n",
       "equal weights    0.3766 0.5095  0.7393 -0.1834 0.3220\n",
       "risk parity      0.2901 0.6193  0.4684 -0.2389 0.3668\n",
       "regularized      0.2267 0.1470  1.5417 -0.0654 0.1013"
      ]
     },
     "execution_count": 24,
     "metadata": {},
     "output_type": "execute_result"
    }
   ],
   "source": [
    "performanceMetrics(retsxOOS @ wtsIS,annualization=12)"
   ]
  },
  {
   "cell_type": "markdown",
   "id": "c0c7e6f6",
   "metadata": {},
   "source": [
    "## **<span style=\"color:red\">Solution 4.2</span>**"
   ]
  },
  {
   "cell_type": "markdown",
   "id": "32b63370",
   "metadata": {},
   "source": [
    "### Rebalancing annually"
   ]
  },
  {
   "cell_type": "code",
   "execution_count": 25,
   "id": "d02f522c",
   "metadata": {},
   "outputs": [],
   "source": [
    "portOOS = pd.DataFrame(index=retsx.index,columns=wts.columns,dtype=float)\n",
    "for yr in range(2015,2024):\n",
    "    yr0 = f'{yr}'\n",
    "    yr1 = f'{yr+1}'\n",
    "    retsxIS = retsx.loc[:yr0]\n",
    "    retsxOOS = retsx.loc[yr1]\n",
    "\n",
    "    retsxIS_adj = retsxIS.copy()\n",
    "    retsxIS_adj['TIP'] += TIPS_ADJ\n",
    "\n",
    "    wtsIS = pd.DataFrame(index=wts.index, columns=wts.columns, dtype=float)\n",
    "    wtsIS['tangency'] = tangency_weights(retsxIS)\n",
    "\n",
    "    tangency_ex_tips = tangency_weights(retsxIS.drop(columns=['TIP'])).values[:, 0]\n",
    "    wtsIS.loc[wtsIS.index[:-1], 'tangency ex tips'] = tangency_ex_tips\n",
    "    wtsIS.loc['TIP','tangency ex tips'] = 0\n",
    "\n",
    "    wtsIS['tan tips adj'] = tangency_weights(retsxIS_adj)\n",
    "    wtsIS['equal weights'] = 1/len(retsxIS.columns)\n",
    "    wtsIS['risk parity'] = 1/retsxIS.var()\n",
    "    wtsIS['regularized'] = tangency_weights(retsxIS,scale_cov=.5)\n",
    "\n",
    "    # rescale these to hit the target mean\n",
    "    wtsIS *= TARG_MEAN / (retsxIS.mean()@wtsIS)\n",
    "    \n",
    "    portOOS.loc[yr1] = retsxOOS @ wtsIS"
   ]
  },
  {
   "cell_type": "markdown",
   "id": "7577bff8",
   "metadata": {},
   "source": [
    "### Rebalancing monthly"
   ]
  },
  {
   "cell_type": "code",
   "execution_count": 26,
   "id": "864d0c00",
   "metadata": {},
   "outputs": [],
   "source": [
    "portOOS = pd.DataFrame(index=retsx.index,columns=wts.columns,dtype=float)\n",
    "for i, month in enumerate(portOOS.index):\n",
    "    if i > 60:\n",
    "        retsxIS = retsx.iloc[:i]\n",
    "        retsxOOS = retsx.iloc[i]\n",
    "\n",
    "        retsxIS_adj = retsxIS.copy()\n",
    "        retsxIS_adj['TIP'] += TIPS_ADJ\n",
    "\n",
    "        wtsIS = pd.DataFrame(index=wts.index, columns=wts.columns, dtype=float)\n",
    "        wtsIS['tangency'] = tangency_weights(retsxIS)\n",
    "\n",
    "        tangency_ex_tips = tangency_weights(retsxIS.drop(columns=['TIP'])).values[:, 0]\n",
    "        wtsIS.loc[wtsIS.index[:-1], 'tangency ex tips'] = tangency_ex_tips\n",
    "        wtsIS.loc['TIP','tangency ex tips'] = 0\n",
    "\n",
    "        wtsIS['tan tips adj'] = tangency_weights(retsxIS_adj)\n",
    "        wtsIS['equal weights'] = 1/len(retsxIS.columns)\n",
    "        wtsIS['risk parity'] = 1/retsxIS.var()\n",
    "        wtsIS['regularized'] = tangency_weights(retsxIS,scale_cov=.5)\n",
    "\n",
    "        # rescale these to hit the target mean\n",
    "        wtsIS *= TARG_MEAN / (retsxIS.mean()@wtsIS)\n",
    "\n",
    "        portOOS.iloc[i,:] = retsxOOS @ wtsIS"
   ]
  },
  {
   "cell_type": "code",
   "execution_count": 27,
   "id": "2b9e418a",
   "metadata": {},
   "outputs": [
    {
     "data": {
      "text/html": [
       "<div>\n",
       "<style scoped>\n",
       "    .dataframe tbody tr th:only-of-type {\n",
       "        vertical-align: middle;\n",
       "    }\n",
       "\n",
       "    .dataframe tbody tr th {\n",
       "        vertical-align: top;\n",
       "    }\n",
       "\n",
       "    .dataframe thead th {\n",
       "        text-align: right;\n",
       "    }\n",
       "</style>\n",
       "<table border=\"1\" class=\"dataframe\">\n",
       "  <thead>\n",
       "    <tr style=\"text-align: right;\">\n",
       "      <th></th>\n",
       "      <th>Mean</th>\n",
       "      <th>Vol</th>\n",
       "      <th>Sharpe</th>\n",
       "      <th>Min</th>\n",
       "      <th>Max</th>\n",
       "    </tr>\n",
       "  </thead>\n",
       "  <tbody>\n",
       "    <tr>\n",
       "      <th>tangency</th>\n",
       "      <td>0.1266</td>\n",
       "      <td>0.1289</td>\n",
       "      <td>0.9826</td>\n",
       "      <td>-0.0814</td>\n",
       "      <td>0.1077</td>\n",
       "    </tr>\n",
       "    <tr>\n",
       "      <th>tangency ex tips</th>\n",
       "      <td>0.1300</td>\n",
       "      <td>0.1283</td>\n",
       "      <td>1.0132</td>\n",
       "      <td>-0.0808</td>\n",
       "      <td>0.1081</td>\n",
       "    </tr>\n",
       "    <tr>\n",
       "      <th>tan tips adj</th>\n",
       "      <td>0.1321</td>\n",
       "      <td>0.1369</td>\n",
       "      <td>0.9645</td>\n",
       "      <td>-0.0771</td>\n",
       "      <td>0.1258</td>\n",
       "    </tr>\n",
       "    <tr>\n",
       "      <th>equal weights</th>\n",
       "      <td>0.3414</td>\n",
       "      <td>0.5297</td>\n",
       "      <td>0.6445</td>\n",
       "      <td>-0.5827</td>\n",
       "      <td>0.4967</td>\n",
       "    </tr>\n",
       "    <tr>\n",
       "      <th>risk parity</th>\n",
       "      <td>0.1597</td>\n",
       "      <td>0.4788</td>\n",
       "      <td>0.3335</td>\n",
       "      <td>-0.4803</td>\n",
       "      <td>0.4575</td>\n",
       "    </tr>\n",
       "    <tr>\n",
       "      <th>regularized</th>\n",
       "      <td>0.0836</td>\n",
       "      <td>0.1582</td>\n",
       "      <td>0.5286</td>\n",
       "      <td>-0.1275</td>\n",
       "      <td>0.1655</td>\n",
       "    </tr>\n",
       "  </tbody>\n",
       "</table>\n",
       "</div>"
      ],
      "text/plain": [
       "                   Mean    Vol  Sharpe     Min    Max\n",
       "tangency         0.1266 0.1289  0.9826 -0.0814 0.1077\n",
       "tangency ex tips 0.1300 0.1283  1.0132 -0.0808 0.1081\n",
       "tan tips adj     0.1321 0.1369  0.9645 -0.0771 0.1258\n",
       "equal weights    0.3414 0.5297  0.6445 -0.5827 0.4967\n",
       "risk parity      0.1597 0.4788  0.3335 -0.4803 0.4575\n",
       "regularized      0.0836 0.1582  0.5286 -0.1275 0.1655"
      ]
     },
     "execution_count": 27,
     "metadata": {},
     "output_type": "execute_result"
    }
   ],
   "source": [
    "performanceMetrics(portOOS,annualization=12)"
   ]
  },
  {
   "cell_type": "markdown",
   "id": "68e5c000",
   "metadata": {},
   "source": [
    "***"
   ]
  },
  {
   "cell_type": "markdown",
   "id": "ab52a987",
   "metadata": {},
   "source": [
    "# 5. Without a Riskless Asset\n",
    "\n",
    "<i>This section is not graded, and you do not need to submit it. Still, we may discuss it in class, in which case, you would be expected to know it."
   ]
  },
  {
   "cell_type": "markdown",
   "id": "2e6b1c56",
   "metadata": {},
   "source": [
    "Re-do Section 2 above, but in the model without a risk-free rate.\n",
    "\n",
    "That is, build the MV allocation using the two-part formula in the `Mean-Variance` section of the notes.\n",
    "* This essentially substitutes the risk-free rate with the minimum-variance portfolio.\n",
    "* Now, the allocation depends nonlinearly on the target mean return, $\\mutarg$. (With a risk-free rate, we simply scale the weights up and down to achieve the mean return.)\n",
    "\n",
    "You will find that, conceptually, the answers are very similar. "
   ]
  },
  {
   "cell_type": "markdown",
   "id": "64716245",
   "metadata": {},
   "source": [
    "***"
   ]
  },
  {
   "cell_type": "markdown",
   "id": "ce0c2ba0",
   "metadata": {},
   "source": [
    "# **<span style=\"color:red\">Solution 5</span>**"
   ]
  },
  {
   "cell_type": "markdown",
   "id": "07765e67",
   "metadata": {},
   "source": [
    "The solutions are very similar! The constructed minimum-variance portfolio replaces the riskless asset, and the resulting weights and portfolio performances are similar."
   ]
  },
  {
   "cell_type": "markdown",
   "id": "fbf29fd5",
   "metadata": {},
   "source": [
    "### Illustration of the MV Frontier"
   ]
  },
  {
   "cell_type": "code",
   "execution_count": 28,
   "id": "7a23ae4b",
   "metadata": {},
   "outputs": [
    {
     "data": {
      "image/png": "[encoded data removed]",
      "text/plain": [
       "<Figure size 1000x1000 with 1 Axes>"
      ]
     },
     "metadata": {},
     "output_type": "display_data"
    }
   ],
   "source": [
    "import warnings\n",
    "warnings.filterwarnings('ignore')\n",
    "\n",
    "rtemp = retsx + (rets-retsx).mean()\n",
    "rtemp = rets\n",
    "\n",
    "omega_tan = tangency_weights(rtemp)\n",
    "# reuse tangency function by creating ones\n",
    "vec_one_realized = rtemp - rtemp.mean() + 1\n",
    "omega_gmv = tangency_weights(vec_one_realized)\n",
    "\n",
    "omega = pd.concat([omega_tan,omega_gmv],axis=1)\n",
    "omega.columns = ['tangency','gmv']\n",
    "\n",
    "delta_grid = np.linspace(-3,3,150)\n",
    "mv_frame = pd.DataFrame(columns=['mean','vol'],index=delta_grid)\n",
    "for i, delta in enumerate(delta_grid):\n",
    "    omega_mv = delta * omega_tan + (1-delta) * omega_gmv\n",
    "    rets_p = rtemp @ omega_mv\n",
    "    mv_frame['mean'].iloc[i] = rets_p.mean().values[0] * 12\n",
    "    mv_frame['vol'].iloc[i] = rets_p.std().values[0] * np.sqrt(12)\n",
    "    \n",
    "rets_special = pd.DataFrame(index=rets.index)\n",
    "rets_special['tan'] = rtemp @ omega_tan.values\n",
    "rets_special['gmv'] = rtemp @ omega_gmv.values\n",
    "\n",
    "mv_assets = pd.concat([rtemp.mean() * 12,rtemp.std() * np.sqrt(12)],axis=1)\n",
    "mv_special = pd.concat([rets_special.mean() * 12, rets_special.std() * np.sqrt(12)],axis=1)\n",
    "mv_assets.columns = ['mean','vol']\n",
    "mv_special.columns = ['mean','vol']\n",
    "\n",
    "\n",
    "ax = mv_frame.plot.scatter(x='vol',y='mean', c='k', figsize=(10,10), title='MV Frontier')\n",
    "mv_assets.plot.scatter(x='vol',y='mean',ax=ax, c='b', marker='^', linewidth=8)\n",
    "mv_special.plot.scatter(x='vol',y='mean',ax=ax, c='r', marker='s', linewidth=12)\n",
    "\n",
    "for i in range(mv_assets.shape[0]):\n",
    "    plt.text(x=mv_assets['vol'][i]+.0005, y=mv_assets['mean'][i]+.0005, s=mv_assets.index[i])\n",
    "\n",
    "\n",
    "plt.show()"
   ]
  },
  {
   "cell_type": "code",
   "execution_count": 29,
   "id": "22a905bb-2648-4fd6-bc31-f01d495a8f29",
   "metadata": {},
   "outputs": [
    {
     "data": {
      "image/png": "[encoded data removed]",
      "text/plain": [
       "<Figure size 1000x1000 with 1 Axes>"
      ]
     },
     "metadata": {},
     "output_type": "display_data"
    }
   ],
   "source": [
    "omega_tan = tangency_weights(retsx)\n",
    "# reuse tangency function by creating ones\n",
    "vec_one_realized = retsx - retsx.mean() + 1\n",
    "omega_gmv = tangency_weights(vec_one_realized)\n",
    "\n",
    "omega = pd.concat([omega_tan,omega_gmv],axis=1)\n",
    "omega.columns = ['tangency','gmv']\n",
    "\n",
    "delta_grid = np.linspace(-2,2,150)\n",
    "mv_frame = pd.DataFrame(columns=['mean','vol'],index=delta_grid)\n",
    "for i, delta in enumerate(delta_grid):\n",
    "    omega_mv = delta * omega_tan + (1-delta) * omega_gmv\n",
    "    rets_p = retsx @ omega_mv\n",
    "    mv_frame['mean'].iloc[i] = rets_p.mean().values[0] * 12\n",
    "    mv_frame['vol'].iloc[i] = rets_p.std().values[0] * np.sqrt(12)\n",
    "    \n",
    "rets_special = pd.DataFrame(index=retsx.index)\n",
    "rets_special['tan'] = retsx @ omega_tan.values\n",
    "rets_special['gmv'] = retsx @ omega_gmv.values\n",
    "\n",
    "mv_assets = pd.concat([retsx.mean() * 12,retsx.std() * np.sqrt(12)],axis=1)\n",
    "mv_special = pd.concat([rets_special.mean() * 12, rets_special.std() * np.sqrt(12)],axis=1)\n",
    "mv_assets.columns = ['mean','vol']\n",
    "mv_special.columns = ['mean','vol']\n",
    "\n",
    "ax = mv_frame.plot.scatter(x='vol',y='mean', c='k', figsize=(10,10), title='MV Frontier')\n",
    "mv_assets.plot.scatter(x='vol',y='mean',ax=ax, c='b', marker='^', linewidth=8)\n",
    "mv_special.plot.scatter(x='vol',y='mean',ax=ax, c='r', marker='s', linewidth=12)\n",
    "\n",
    "for i in range(mv_assets.shape[0]):\n",
    "    plt.text(x=mv_assets['vol'][i]+.0005, y=mv_assets['mean'][i]+.0005, s=mv_assets.index[i])\n",
    "\n",
    "rtan_temp = retsx @ tangency_weights(retsx)\n",
    "pdtemp = pd.DataFrame([rtan_temp.mean().values * 12,rtan_temp.std().values * np.sqrt(12)] ).T\n",
    "pdtemp.index = ['tangency']\n",
    "pdtemp.columns = ['mean','vol']\n",
    "\n",
    "pdtemp.plot.scatter(x='vol',y='mean',ax=ax,c='g',marker='d',linewidth=10)\n",
    "\n",
    "x_green = pdtemp.loc['tangency','vol']\n",
    "y_green = pdtemp.loc['tangency','mean']\n",
    "plt.plot([0, x_green], [0, y_green], color='green', linestyle='-', linewidth=5)\n",
    "plt.plot([0, x_green], [0, -y_green], color='green', linestyle='-', linewidth=5)\n",
    "\n",
    "plt.show()"
   ]
  }
 ],
 "metadata": {
  "hide_input": false,
  "kernelspec": {
   "display_name": "Python 3 (ipykernel)",
   "language": "python",
   "name": "python3"
  },
  "language_info": {
   "codemirror_mode": {
    "name": "ipython",
    "version": 3
   },
   "file_extension": ".py",
   "mimetype": "text/x-python",
   "name": "python",
   "nbconvert_exporter": "python",
   "pygments_lexer": "ipython3",
   "version": "3.9.6"
  }
 },
 "nbformat": 4,
 "nbformat_minor": 5
}
